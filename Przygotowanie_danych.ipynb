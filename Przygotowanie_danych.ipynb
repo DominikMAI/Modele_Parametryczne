{
 "cells": [
  {
   "cell_type": "code",
   "execution_count": 88,
   "metadata": {},
   "outputs": [],
   "source": [
    "import pandas as pd\n",
    "import numpy as np\n",
    "import seaborn as sns\n",
    "import matplotlib.pyplot as plt\n",
    "from dateutil import relativedelta"
   ]
  },
  {
   "cell_type": "code",
   "execution_count": 63,
   "metadata": {},
   "outputs": [],
   "source": [
    "df = pd.read_csv(\"car_insurance_claim.csv\")"
   ]
  },
  {
   "cell_type": "markdown",
   "metadata": {},
   "source": [
    "##  Opis zmiennych"
   ]
  },
  {
   "cell_type": "code",
   "execution_count": 64,
   "metadata": {},
   "outputs": [
    {
     "name": "stdout",
     "output_type": "stream",
     "text": [
      "<class 'pandas.core.frame.DataFrame'>\n",
      "RangeIndex: 10302 entries, 0 to 10301\n",
      "Data columns (total 27 columns):\n",
      " #   Column      Non-Null Count  Dtype  \n",
      "---  ------      --------------  -----  \n",
      " 0   ID          10302 non-null  int64  \n",
      " 1   KIDSDRIV    10302 non-null  int64  \n",
      " 2   BIRTH       10302 non-null  object \n",
      " 3   AGE         10295 non-null  float64\n",
      " 4   HOMEKIDS    10302 non-null  int64  \n",
      " 5   YOJ         9754 non-null   float64\n",
      " 6   INCOME      9732 non-null   object \n",
      " 7   PARENT1     10302 non-null  object \n",
      " 8   HOME_VAL    9727 non-null   object \n",
      " 9   MSTATUS     10302 non-null  object \n",
      " 10  GENDER      10302 non-null  object \n",
      " 11  EDUCATION   10302 non-null  object \n",
      " 12  OCCUPATION  9637 non-null   object \n",
      " 13  TRAVTIME    10302 non-null  int64  \n",
      " 14  CAR_USE     10302 non-null  object \n",
      " 15  BLUEBOOK    10302 non-null  object \n",
      " 16  TIF         10302 non-null  int64  \n",
      " 17  CAR_TYPE    10302 non-null  object \n",
      " 18  RED_CAR     10302 non-null  object \n",
      " 19  OLDCLAIM    10302 non-null  object \n",
      " 20  CLM_FREQ    10302 non-null  int64  \n",
      " 21  REVOKED     10302 non-null  object \n",
      " 22  MVR_PTS     10302 non-null  int64  \n",
      " 23  CLM_AMT     10302 non-null  object \n",
      " 24  CAR_AGE     9663 non-null   float64\n",
      " 25  CLAIM_FLAG  10302 non-null  int64  \n",
      " 26  URBANICITY  10302 non-null  object \n",
      "dtypes: float64(3), int64(8), object(16)\n",
      "memory usage: 2.1+ MB\n"
     ]
    }
   ],
   "source": [
    "df.info()"
   ]
  },
  {
   "cell_type": "code",
   "execution_count": 65,
   "metadata": {},
   "outputs": [
    {
     "name": "stdout",
     "output_type": "stream",
     "text": [
      "ID int64\n",
      "[ 63581743 132761049 921317019 ...  67790126 849208064 680381960]\n",
      "KIDSDRIV int64\n",
      "[0 1 2 3 4]\n",
      "BIRTH object\n",
      "['16MAR39' '21JAN56' '18NOV51' ... '13AUG54' '18JUN51' '27FEB47']\n",
      "AGE float64\n",
      "[60. 43. 48. 35. 51. 50. 34. 54. 40. 44. 37. 53. 55. 45. 39. 59. 42. 31.\n",
      " 28. 47. 46. 33. 32. 49. 36. 52. 41. 56. 38. 63. 62. 30. 29. 58. 64. 66.\n",
      " 26. 61. 80. 57. nan 25. 27. 20. 21. 19. 72. 69. 24. 67. 22. 23. 65. 70.\n",
      " 17. 16. 81. 73. 71. 68. 18. 76.]\n",
      "HOMEKIDS int64\n",
      "[0 1 2 3 4 5]\n",
      "YOJ float64\n",
      "[11. 10. 14. nan 12.  7.  5.  0. 13.  9. 17.  8. 15. 16.  6. 18. 23.  4.\n",
      "  3.  2. 19.  1.]\n",
      "INCOME object\n",
      "['$67,349' '$91,449' '$52,881' ... '$164,669' '$107,204' '$53,235']\n",
      "PARENT1 object\n",
      "['No' 'Yes']\n",
      "HOME_VAL object\n",
      "['$0' '$257,252' '$124,191' ... '$332,591' '$170,611' '$197,017']\n",
      "MSTATUS object\n",
      "['z_No' 'Yes']\n",
      "GENDER object\n",
      "['M' 'z_F']\n",
      "EDUCATION object\n",
      "['PhD' 'z_High School' 'Bachelors' '<High School' 'Masters']\n",
      "OCCUPATION object\n",
      "['Professional' 'z_Blue Collar' 'Manager' 'Clerical' 'Doctor' 'Lawyer' nan\n",
      " 'Home Maker' 'Student']\n",
      "TRAVTIME int64\n",
      "[ 14  22  26   5  32  36  46  33  21  30  44  34  48  15  25  64  74  43\n",
      "  45  42  27  29  52   8   7  16  37  12  38  65  18  47  10  40  62  35\n",
      "  24  20  50  13  31  28  11   9  57  49  61  41  23  59  17  63  53  68\n",
      "  54  60  39  69  55  73  51  58  81  19   6  83  56  75  84  70  67  72\n",
      "  79  76  78  66  88  71  90  86  87 113  80  98  77  93  82 124  85 142\n",
      "  99  95 105  92 134  89 103  97  91 101]\n",
      "CAR_USE object\n",
      "['Private' 'Commercial']\n",
      "BLUEBOOK object\n",
      "['$14,230' '$14,940' '$21,970' ... '$2,790' '$28,490' '$32,960']\n",
      "TIF int64\n",
      "[11  1  4  7  6 10  9 17 18 13  5  3 16 12  8 14 20 22 21  2 15 19 25]\n",
      "CAR_TYPE object\n",
      "['Minivan' 'Van' 'z_SUV' 'Sports Car' 'Panel Truck' 'Pickup']\n",
      "RED_CAR object\n",
      "['yes' 'no']\n",
      "OLDCLAIM object\n",
      "['$4,461' '$0' '$38,690' ... '$33,026' '$3,995' '$9,245']\n",
      "CLM_FREQ int64\n",
      "[2 0 1 3 5 4]\n",
      "REVOKED object\n",
      "['No' 'Yes']\n",
      "MVR_PTS int64\n",
      "[ 3  0  2 10  1  4  5 13  8  6  7  9 11 12]\n",
      "CLM_AMT object\n",
      "['$0' '$2,946' '$6,477' ... '$3,106' '$3,135' '$1,815']\n",
      "CAR_AGE float64\n",
      "[18.  1. 10.  6. 17.  7. 11.  9.  4.  5. 13. 16. 20. 14. 12. 15. nan  8.\n",
      "  3. 21. 19. 23.  0. 22.  2. 26. 27. 24. 25. -3. 28.]\n",
      "CLAIM_FLAG int64\n",
      "[0 1]\n",
      "URBANICITY object\n",
      "['Highly Urban/ Urban' 'z_Highly Rural/ Rural']\n"
     ]
    }
   ],
   "source": [
    "for i in df.columns:\n",
    "    print(i, df[i].dtype)\n",
    "    print(df.loc[:,i].unique())"
   ]
  },
  {
   "cell_type": "markdown",
   "metadata": {},
   "source": [
    "NOT OK: \n",
    "\n",
    "DATE:\n",
    "BIRTH \n",
    "\n",
    "DOLLAR SIGN:\n",
    "INCOME, HOME_VAL, BLUEBOOK, OLDCLAIM, CLM_AMT\n",
    "\n",
    "CATEGORIES:\n",
    "    PARENT1, CAR_USE, RED_CAR, REVOKED,\n",
    "    \n",
    "    'z_':    \n",
    "    MSTATUS, GENDER, EDUCATION, OCCUPATION, CAR_TYPE, URBANICITY"
   ]
  },
  {
   "cell_type": "markdown",
   "id": "e01ed4b9-0497-4625-91d3-49498912658c",
   "metadata": {
    "tags": []
   },
   "source": [
    "### 2. Błędy danych"
   ]
  },
  {
   "cell_type": "markdown",
   "id": "23c33cf9-6392-4fc7-a62e-2ba73436097c",
   "metadata": {},
   "source": [
    "2.1. Znak $ w zmiennych ilosciowych"
   ]
  },
  {
   "cell_type": "code",
   "execution_count": 66,
   "metadata": {},
   "outputs": [
    {
     "name": "stdout",
     "output_type": "stream",
     "text": [
      "INCOME\n",
      "HOME_VAL\n",
      "BLUEBOOK\n",
      "OLDCLAIM\n",
      "CLM_AMT\n"
     ]
    }
   ],
   "source": [
    "# w zmiennych z $ podmieniam znak na pusty i zamieniam na float\n",
    "for i in df.columns:\n",
    "    n = 0\n",
    "    for j in list(df[i].values):\n",
    "        if '$' in str(j):\n",
    "            n += 1\n",
    "            print(i)\n",
    "            if n >= 1:\n",
    "                df[i] = df[i].str.replace('$', '')\n",
    "                df[i] = df[i].str.replace(',', '').astype(np.float32)\n",
    "                break"
   ]
  },
  {
   "cell_type": "markdown",
   "id": "23c33cf9-6392-4fc7-a62e-2ba73436097c",
   "metadata": {},
   "source": [
    "2.2. Konwersja BIRTHDATE do daty"
   ]
  },
  {
   "cell_type": "code",
   "execution_count": 67,
   "metadata": {},
   "outputs": [
    {
     "data": {
      "text/plain": [
       "min    7\n",
       "max    7\n",
       "Name: BIRTH, dtype: int64"
      ]
     },
     "execution_count": 67,
     "metadata": {},
     "output_type": "execute_result"
    }
   ],
   "source": [
    "# sprawdzenie czy wszystkie wartości mają dokładnie 7 znaków\n",
    "df['BIRTH'].apply(lambda row: len(row)).agg(['min', 'max'])"
   ]
  },
  {
   "cell_type": "code",
   "execution_count": 68,
   "metadata": {},
   "outputs": [
    {
     "data": {
      "text/plain": [
       "min    18\n",
       "max    87\n",
       "Name: BIRTH, dtype: object"
      ]
     },
     "execution_count": 68,
     "metadata": {},
     "output_type": "execute_result"
    }
   ],
   "source": [
    "# sprawdzenie czy wartości mogą pochodzić z XXI wieku\n",
    "df['BIRTH'].apply(lambda row: row[-2:]).agg(['min', 'max'])\n",
    "# wniosek: daty urodzenia obejmują lata 1918-1987"
   ]
  },
  {
   "cell_type": "code",
   "execution_count": 69,
   "metadata": {},
   "outputs": [
    {
     "data": {
      "text/plain": [
       "0    16MAR1939\n",
       "1    21JAN1956\n",
       "2    18NOV1951\n",
       "3    05MAR1964\n",
       "4    05JUN1948\n",
       "Name: BIRTH, dtype: object"
      ]
     },
     "execution_count": 69,
     "metadata": {},
     "output_type": "execute_result"
    }
   ],
   "source": [
    "df['BIRTH'] = df['BIRTH'].apply(lambda row: row[:-2] + '19' +  row[-2:])\n",
    "df['BIRTH'].head()"
   ]
  },
  {
   "cell_type": "code",
   "execution_count": 70,
   "metadata": {},
   "outputs": [],
   "source": [
    "df['BIRTH'] = pd.to_datetime(df['BIRTH'], format='%d%b%Y')"
   ]
  },
  {
   "cell_type": "markdown",
   "metadata": {},
   "source": [
    "2.3. Kategorie zawierają przedrostek 'z_'"
   ]
  },
  {
   "cell_type": "code",
   "execution_count": 71,
   "metadata": {},
   "outputs": [
    {
     "name": "stdout",
     "output_type": "stream",
     "text": [
      "['z_No' 'Yes']\n",
      "['M' 'z_F']\n",
      "['PhD' 'z_High School' 'Bachelors' '<High School' 'Masters']\n",
      "['Professional' 'z_Blue Collar' 'Manager' 'Clerical' 'Doctor' 'Lawyer' nan\n",
      " 'Home Maker' 'Student']\n",
      "['Minivan' 'Van' 'z_SUV' 'Sports Car' 'Panel Truck' 'Pickup']\n",
      "['Highly Urban/ Urban' 'z_Highly Rural/ Rural']\n"
     ]
    }
   ],
   "source": [
    "# MSTATUS, GENDER, EDUCATION, OCCUPATION, CAR_TYPE, URBANICITY\n",
    "for i in ['MSTATUS', 'GENDER', 'EDUCATION', 'OCCUPATION', 'CAR_TYPE', 'URBANICITY']:\n",
    "    print(df.loc[:,i].unique())"
   ]
  },
  {
   "cell_type": "code",
   "execution_count": 72,
   "metadata": {},
   "outputs": [],
   "source": [
    "for i in ['MSTATUS', 'GENDER', 'EDUCATION', 'OCCUPATION', 'CAR_TYPE', 'URBANICITY']:\n",
    "    df.loc[:,i] = df.loc[:,i].apply(lambda row: row.replace('z_', '') if type(row) == str else row)"
   ]
  },
  {
   "cell_type": "code",
   "execution_count": 73,
   "metadata": {},
   "outputs": [
    {
     "name": "stdout",
     "output_type": "stream",
     "text": [
      "['No' 'Yes']\n",
      "['M' 'F']\n",
      "['PhD' 'High School' 'Bachelors' '<High School' 'Masters']\n",
      "['Professional' 'Blue Collar' 'Manager' 'Clerical' 'Doctor' 'Lawyer' nan\n",
      " 'Home Maker' 'Student']\n",
      "['Minivan' 'Van' 'SUV' 'Sports Car' 'Panel Truck' 'Pickup']\n",
      "['Highly Urban/ Urban' 'Highly Rural/ Rural']\n"
     ]
    }
   ],
   "source": [
    "for i in ['MSTATUS', 'GENDER', 'EDUCATION', 'OCCUPATION', 'CAR_TYPE', 'URBANICITY']:\n",
    "    print(df.loc[:,i].unique())"
   ]
  },
  {
   "cell_type": "markdown",
   "metadata": {},
   "source": [
    "Weryfikacja pozostałych kategorii"
   ]
  },
  {
   "cell_type": "code",
   "execution_count": 127,
   "metadata": {},
   "outputs": [
    {
     "name": "stdout",
     "output_type": "stream",
     "text": [
      "['No', 'Yes']\n",
      "Categories (2, object): ['No', 'Yes']\n",
      "['Private', 'Commercial']\n",
      "Categories (2, object): ['Private', 'Commercial']\n",
      "['Yes' 'No']\n",
      "['No', 'Yes']\n",
      "Categories (2, object): ['No', 'Yes']\n"
     ]
    }
   ],
   "source": [
    "for i in ['PARENT1', 'CAR_USE', 'RED_CAR', 'REVOKED']:\n",
    "    print(df.loc[:,i].unique())"
   ]
  },
  {
   "cell_type": "code",
   "execution_count": 126,
   "metadata": {},
   "outputs": [],
   "source": [
    "df['RED_CAR'] = df['RED_CAR'].replace(['no', 'yes'], ['No', 'Yes'])"
   ]
  },
  {
   "cell_type": "markdown",
   "metadata": {},
   "source": [
    "2.4. Zmiana wartości typu 'obj' na 'category'"
   ]
  },
  {
   "cell_type": "code",
   "execution_count": 74,
   "metadata": {},
   "outputs": [],
   "source": [
    "for i in df.columns:\n",
    "    if df[i].dtype == 'object':\n",
    "        df[i] = df[i].astype('category')"
   ]
  },
  {
   "cell_type": "code",
   "execution_count": 75,
   "metadata": {},
   "outputs": [
    {
     "name": "stdout",
     "output_type": "stream",
     "text": [
      "<class 'pandas.core.frame.DataFrame'>\n",
      "RangeIndex: 10302 entries, 0 to 10301\n",
      "Data columns (total 27 columns):\n",
      " #   Column      Non-Null Count  Dtype         \n",
      "---  ------      --------------  -----         \n",
      " 0   ID          10302 non-null  int64         \n",
      " 1   KIDSDRIV    10302 non-null  int64         \n",
      " 2   BIRTH       10302 non-null  datetime64[ns]\n",
      " 3   AGE         10295 non-null  float64       \n",
      " 4   HOMEKIDS    10302 non-null  int64         \n",
      " 5   YOJ         9754 non-null   float64       \n",
      " 6   INCOME      9732 non-null   float32       \n",
      " 7   PARENT1     10302 non-null  category      \n",
      " 8   HOME_VAL    9727 non-null   float32       \n",
      " 9   MSTATUS     10302 non-null  category      \n",
      " 10  GENDER      10302 non-null  category      \n",
      " 11  EDUCATION   10302 non-null  category      \n",
      " 12  OCCUPATION  9637 non-null   category      \n",
      " 13  TRAVTIME    10302 non-null  int64         \n",
      " 14  CAR_USE     10302 non-null  category      \n",
      " 15  BLUEBOOK    10302 non-null  float32       \n",
      " 16  TIF         10302 non-null  int64         \n",
      " 17  CAR_TYPE    10302 non-null  category      \n",
      " 18  RED_CAR     10302 non-null  category      \n",
      " 19  OLDCLAIM    10302 non-null  float32       \n",
      " 20  CLM_FREQ    10302 non-null  int64         \n",
      " 21  REVOKED     10302 non-null  category      \n",
      " 22  MVR_PTS     10302 non-null  int64         \n",
      " 23  CLM_AMT     10302 non-null  float32       \n",
      " 24  CAR_AGE     9663 non-null   float64       \n",
      " 25  CLAIM_FLAG  10302 non-null  int64         \n",
      " 26  URBANICITY  10302 non-null  category      \n",
      "dtypes: category(10), datetime64[ns](1), float32(5), float64(3), int64(8)\n",
      "memory usage: 1.2 MB\n"
     ]
    }
   ],
   "source": [
    "df.info()"
   ]
  },
  {
   "cell_type": "markdown",
   "metadata": {},
   "source": [
    "### Walidacja dat i zmiennych ilościowych w zbiorze"
   ]
  },
  {
   "cell_type": "markdown",
   "metadata": {},
   "source": [
    "Walidacja zakresu"
   ]
  },
  {
   "cell_type": "code",
   "execution_count": 80,
   "metadata": {},
   "outputs": [
    {
     "data": {
      "text/html": [
       "<div>\n",
       "<style scoped>\n",
       "    .dataframe tbody tr th:only-of-type {\n",
       "        vertical-align: middle;\n",
       "    }\n",
       "\n",
       "    .dataframe tbody tr th {\n",
       "        vertical-align: top;\n",
       "    }\n",
       "\n",
       "    .dataframe thead th {\n",
       "        text-align: right;\n",
       "    }\n",
       "</style>\n",
       "<table border=\"1\" class=\"dataframe\">\n",
       "  <thead>\n",
       "    <tr style=\"text-align: right;\">\n",
       "      <th></th>\n",
       "      <th>KIDSDRIV</th>\n",
       "      <th>BIRTH</th>\n",
       "      <th>AGE</th>\n",
       "      <th>HOMEKIDS</th>\n",
       "      <th>YOJ</th>\n",
       "      <th>INCOME</th>\n",
       "      <th>HOME_VAL</th>\n",
       "      <th>TRAVTIME</th>\n",
       "      <th>BLUEBOOK</th>\n",
       "      <th>TIF</th>\n",
       "      <th>OLDCLAIM</th>\n",
       "      <th>CLM_FREQ</th>\n",
       "      <th>MVR_PTS</th>\n",
       "      <th>CLM_AMT</th>\n",
       "      <th>CAR_AGE</th>\n",
       "      <th>CLAIM_FLAG</th>\n",
       "    </tr>\n",
       "  </thead>\n",
       "  <tbody>\n",
       "    <tr>\n",
       "      <th>min</th>\n",
       "      <td>0</td>\n",
       "      <td>1918-07-04</td>\n",
       "      <td>16.0</td>\n",
       "      <td>0</td>\n",
       "      <td>0.0</td>\n",
       "      <td>0.0</td>\n",
       "      <td>0.0</td>\n",
       "      <td>5</td>\n",
       "      <td>1500.0</td>\n",
       "      <td>1</td>\n",
       "      <td>0.0</td>\n",
       "      <td>0</td>\n",
       "      <td>0</td>\n",
       "      <td>0.0</td>\n",
       "      <td>-3.0</td>\n",
       "      <td>0</td>\n",
       "    </tr>\n",
       "    <tr>\n",
       "      <th>max</th>\n",
       "      <td>4</td>\n",
       "      <td>1987-12-03</td>\n",
       "      <td>81.0</td>\n",
       "      <td>5</td>\n",
       "      <td>23.0</td>\n",
       "      <td>367030.0</td>\n",
       "      <td>885282.0</td>\n",
       "      <td>142</td>\n",
       "      <td>69740.0</td>\n",
       "      <td>25</td>\n",
       "      <td>57037.0</td>\n",
       "      <td>5</td>\n",
       "      <td>13</td>\n",
       "      <td>123247.0</td>\n",
       "      <td>28.0</td>\n",
       "      <td>1</td>\n",
       "    </tr>\n",
       "  </tbody>\n",
       "</table>\n",
       "</div>"
      ],
      "text/plain": [
       "     KIDSDRIV      BIRTH   AGE  HOMEKIDS   YOJ    INCOME  HOME_VAL  TRAVTIME  \\\n",
       "min         0 1918-07-04  16.0         0   0.0       0.0       0.0         5   \n",
       "max         4 1987-12-03  81.0         5  23.0  367030.0  885282.0       142   \n",
       "\n",
       "     BLUEBOOK  TIF  OLDCLAIM  CLM_FREQ  MVR_PTS   CLM_AMT  CAR_AGE  CLAIM_FLAG  \n",
       "min    1500.0    1       0.0         0        0       0.0     -3.0           0  \n",
       "max   69740.0   25   57037.0         5       13  123247.0     28.0           1  "
      ]
     },
     "execution_count": 80,
     "metadata": {},
     "output_type": "execute_result"
    }
   ],
   "source": [
    "df.iloc[:,1:].agg(['min', 'max'])"
   ]
  },
  {
   "cell_type": "markdown",
   "metadata": {},
   "source": [
    "CAR_AGE -3???"
   ]
  },
  {
   "cell_type": "code",
   "execution_count": 119,
   "metadata": {},
   "outputs": [
    {
     "data": {
      "text/plain": [
       "1"
      ]
     },
     "execution_count": 119,
     "metadata": {},
     "output_type": "execute_result"
    }
   ],
   "source": [
    "len(df[df['CAR_AGE'] < 0])"
   ]
  },
  {
   "cell_type": "code",
   "execution_count": 120,
   "metadata": {},
   "outputs": [
    {
     "data": {
      "text/plain": [
       "ID                      676425834\n",
       "KIDSDRIV                        0\n",
       "BIRTH         1952-06-02 00:00:00\n",
       "AGE                            47\n",
       "HOMEKIDS                        0\n",
       "YOJ                            12\n",
       "INCOME                      48696\n",
       "PARENT1                        No\n",
       "HOME_VAL                   212014\n",
       "MSTATUS                        No\n",
       "GENDER                          F\n",
       "EDUCATION               Bachelors\n",
       "OCCUPATION           Professional\n",
       "TRAVTIME                       46\n",
       "CAR_USE                   Private\n",
       "BLUEBOOK                    15390\n",
       "TIF                             4\n",
       "CAR_TYPE                   Pickup\n",
       "RED_CAR                        no\n",
       "OLDCLAIM                    33521\n",
       "CLM_FREQ                        3\n",
       "REVOKED                       Yes\n",
       "MVR_PTS                         1\n",
       "CLM_AMT                      1469\n",
       "CAR_AGE                        -3\n",
       "CLAIM_FLAG                      1\n",
       "URBANICITY    Highly Urban/ Urban\n",
       "Name: 8771, dtype: object"
      ]
     },
     "execution_count": 120,
     "metadata": {},
     "output_type": "execute_result"
    }
   ],
   "source": [
    "df[df['CAR_AGE'] < 0].squeeze()"
   ]
  },
  {
   "cell_type": "markdown",
   "metadata": {},
   "source": [
    "Czy wszystkie dane dotyczą tego samego roku?"
   ]
  },
  {
   "cell_type": "code",
   "execution_count": 106,
   "metadata": {},
   "outputs": [
    {
     "name": "stderr",
     "output_type": "stream",
     "text": [
      "d:\\Programowanie\\Anaconda\\lib\\site-packages\\pandas\\core\\arrays\\datetimelike.py:1342: PerformanceWarning: Adding/subtracting object-dtype array to DatetimeArray not vectorized\n",
      "  warnings.warn(\n"
     ]
    },
    {
     "data": {
      "text/plain": [
       "min   1998-11-17\n",
       "max   1999-11-18\n",
       "dtype: datetime64[ns]"
      ]
     },
     "execution_count": 106,
     "metadata": {},
     "output_type": "execute_result"
    }
   ],
   "source": [
    "dates_check = (df[~df['AGE'].isna()]['BIRTH'] + df[~df['AGE'].isna()]['AGE'].apply(lambda row: relativedelta.relativedelta(years=row)))\n",
    "dates_check.agg(['min', 'max'])"
   ]
  },
  {
   "cell_type": "code",
   "execution_count": 112,
   "metadata": {},
   "outputs": [
    {
     "data": {
      "text/plain": [
       "7-1999     934\n",
       "3-1999     921\n",
       "12-1998    907\n",
       "10-1999    883\n",
       "8-1999     860\n",
       "1-1999     853\n",
       "6-1999     841\n",
       "9-1999     835\n",
       "5-1999     829\n",
       "2-1999     811\n",
       "4-1999     806\n",
       "11-1999    477\n",
       "11-1998    338\n",
       "dtype: int64"
      ]
     },
     "execution_count": 112,
     "metadata": {},
     "output_type": "execute_result"
    }
   ],
   "source": [
    "dates_check.apply(lambda row: str(row.month) + '-' + str(row.year)).value_counts()"
   ]
  },
  {
   "cell_type": "markdown",
   "metadata": {},
   "source": [
    "Czy występują braki wieku i czy można je uzupełnić wykorzystując datę urodzenia?"
   ]
  },
  {
   "cell_type": "code",
   "execution_count": 131,
   "metadata": {},
   "outputs": [
    {
     "data": {
      "text/html": [
       "<div>\n",
       "<style scoped>\n",
       "    .dataframe tbody tr th:only-of-type {\n",
       "        vertical-align: middle;\n",
       "    }\n",
       "\n",
       "    .dataframe tbody tr th {\n",
       "        vertical-align: top;\n",
       "    }\n",
       "\n",
       "    .dataframe thead th {\n",
       "        text-align: right;\n",
       "    }\n",
       "</style>\n",
       "<table border=\"1\" class=\"dataframe\">\n",
       "  <thead>\n",
       "    <tr style=\"text-align: right;\">\n",
       "      <th></th>\n",
       "      <th>ID</th>\n",
       "      <th>KIDSDRIV</th>\n",
       "      <th>BIRTH</th>\n",
       "      <th>AGE</th>\n",
       "      <th>HOMEKIDS</th>\n",
       "      <th>YOJ</th>\n",
       "      <th>INCOME</th>\n",
       "      <th>PARENT1</th>\n",
       "      <th>HOME_VAL</th>\n",
       "      <th>MSTATUS</th>\n",
       "      <th>...</th>\n",
       "      <th>CAR_TYPE</th>\n",
       "      <th>RED_CAR</th>\n",
       "      <th>OLDCLAIM</th>\n",
       "      <th>CLM_FREQ</th>\n",
       "      <th>REVOKED</th>\n",
       "      <th>MVR_PTS</th>\n",
       "      <th>CLM_AMT</th>\n",
       "      <th>CAR_AGE</th>\n",
       "      <th>CLAIM_FLAG</th>\n",
       "      <th>URBANICITY</th>\n",
       "    </tr>\n",
       "  </thead>\n",
       "  <tbody>\n",
       "    <tr>\n",
       "      <th>295</th>\n",
       "      <td>242777133</td>\n",
       "      <td>0</td>\n",
       "      <td>1986-02-18</td>\n",
       "      <td>NaN</td>\n",
       "      <td>2</td>\n",
       "      <td>8.0</td>\n",
       "      <td>2954.0</td>\n",
       "      <td>Yes</td>\n",
       "      <td>0.0</td>\n",
       "      <td>No</td>\n",
       "      <td>...</td>\n",
       "      <td>Sports Car</td>\n",
       "      <td>Yes</td>\n",
       "      <td>10099.0</td>\n",
       "      <td>2</td>\n",
       "      <td>No</td>\n",
       "      <td>4</td>\n",
       "      <td>6142.0</td>\n",
       "      <td>5.0</td>\n",
       "      <td>1</td>\n",
       "      <td>Highly Urban/ Urban</td>\n",
       "    </tr>\n",
       "    <tr>\n",
       "      <th>1317</th>\n",
       "      <td>55084702</td>\n",
       "      <td>0</td>\n",
       "      <td>1983-11-21</td>\n",
       "      <td>NaN</td>\n",
       "      <td>3</td>\n",
       "      <td>0.0</td>\n",
       "      <td>0.0</td>\n",
       "      <td>Yes</td>\n",
       "      <td>0.0</td>\n",
       "      <td>No</td>\n",
       "      <td>...</td>\n",
       "      <td>Minivan</td>\n",
       "      <td>Yes</td>\n",
       "      <td>0.0</td>\n",
       "      <td>0</td>\n",
       "      <td>No</td>\n",
       "      <td>7</td>\n",
       "      <td>3092.0</td>\n",
       "      <td>8.0</td>\n",
       "      <td>1</td>\n",
       "      <td>Highly Urban/ Urban</td>\n",
       "    </tr>\n",
       "    <tr>\n",
       "      <th>1651</th>\n",
       "      <td>194301482</td>\n",
       "      <td>0</td>\n",
       "      <td>1984-10-18</td>\n",
       "      <td>NaN</td>\n",
       "      <td>2</td>\n",
       "      <td>0.0</td>\n",
       "      <td>0.0</td>\n",
       "      <td>Yes</td>\n",
       "      <td>0.0</td>\n",
       "      <td>No</td>\n",
       "      <td>...</td>\n",
       "      <td>SUV</td>\n",
       "      <td>Yes</td>\n",
       "      <td>0.0</td>\n",
       "      <td>0</td>\n",
       "      <td>No</td>\n",
       "      <td>0</td>\n",
       "      <td>3444.0</td>\n",
       "      <td>6.0</td>\n",
       "      <td>1</td>\n",
       "      <td>Highly Urban/ Urban</td>\n",
       "    </tr>\n",
       "    <tr>\n",
       "      <th>3749</th>\n",
       "      <td>919557945</td>\n",
       "      <td>0</td>\n",
       "      <td>1986-02-17</td>\n",
       "      <td>NaN</td>\n",
       "      <td>2</td>\n",
       "      <td>0.0</td>\n",
       "      <td>NaN</td>\n",
       "      <td>Yes</td>\n",
       "      <td>0.0</td>\n",
       "      <td>No</td>\n",
       "      <td>...</td>\n",
       "      <td>Sports Car</td>\n",
       "      <td>Yes</td>\n",
       "      <td>25235.0</td>\n",
       "      <td>1</td>\n",
       "      <td>Yes</td>\n",
       "      <td>0</td>\n",
       "      <td>2541.0</td>\n",
       "      <td>13.0</td>\n",
       "      <td>1</td>\n",
       "      <td>Highly Urban/ Urban</td>\n",
       "    </tr>\n",
       "    <tr>\n",
       "      <th>4365</th>\n",
       "      <td>968439150</td>\n",
       "      <td>0</td>\n",
       "      <td>1984-02-15</td>\n",
       "      <td>NaN</td>\n",
       "      <td>3</td>\n",
       "      <td>12.0</td>\n",
       "      <td>16227.0</td>\n",
       "      <td>No</td>\n",
       "      <td>NaN</td>\n",
       "      <td>Yes</td>\n",
       "      <td>...</td>\n",
       "      <td>Van</td>\n",
       "      <td>Yes</td>\n",
       "      <td>0.0</td>\n",
       "      <td>0</td>\n",
       "      <td>No</td>\n",
       "      <td>6</td>\n",
       "      <td>5640.0</td>\n",
       "      <td>1.0</td>\n",
       "      <td>1</td>\n",
       "      <td>Highly Urban/ Urban</td>\n",
       "    </tr>\n",
       "    <tr>\n",
       "      <th>4554</th>\n",
       "      <td>285745137</td>\n",
       "      <td>0</td>\n",
       "      <td>1985-08-17</td>\n",
       "      <td>NaN</td>\n",
       "      <td>0</td>\n",
       "      <td>9.0</td>\n",
       "      <td>14484.0</td>\n",
       "      <td>No</td>\n",
       "      <td>0.0</td>\n",
       "      <td>No</td>\n",
       "      <td>...</td>\n",
       "      <td>Sports Car</td>\n",
       "      <td>Yes</td>\n",
       "      <td>4518.0</td>\n",
       "      <td>1</td>\n",
       "      <td>No</td>\n",
       "      <td>1</td>\n",
       "      <td>4798.0</td>\n",
       "      <td>1.0</td>\n",
       "      <td>1</td>\n",
       "      <td>Highly Urban/ Urban</td>\n",
       "    </tr>\n",
       "    <tr>\n",
       "      <th>5227</th>\n",
       "      <td>945868698</td>\n",
       "      <td>0</td>\n",
       "      <td>1987-12-03</td>\n",
       "      <td>NaN</td>\n",
       "      <td>0</td>\n",
       "      <td>0.0</td>\n",
       "      <td>0.0</td>\n",
       "      <td>No</td>\n",
       "      <td>NaN</td>\n",
       "      <td>Yes</td>\n",
       "      <td>...</td>\n",
       "      <td>SUV</td>\n",
       "      <td>Yes</td>\n",
       "      <td>4656.0</td>\n",
       "      <td>4</td>\n",
       "      <td>No</td>\n",
       "      <td>3</td>\n",
       "      <td>0.0</td>\n",
       "      <td>1.0</td>\n",
       "      <td>0</td>\n",
       "      <td>Highly Rural/ Rural</td>\n",
       "    </tr>\n",
       "  </tbody>\n",
       "</table>\n",
       "<p>7 rows × 27 columns</p>\n",
       "</div>"
      ],
      "text/plain": [
       "             ID  KIDSDRIV      BIRTH  AGE  HOMEKIDS   YOJ   INCOME PARENT1  \\\n",
       "295   242777133         0 1986-02-18  NaN         2   8.0   2954.0     Yes   \n",
       "1317   55084702         0 1983-11-21  NaN         3   0.0      0.0     Yes   \n",
       "1651  194301482         0 1984-10-18  NaN         2   0.0      0.0     Yes   \n",
       "3749  919557945         0 1986-02-17  NaN         2   0.0      NaN     Yes   \n",
       "4365  968439150         0 1984-02-15  NaN         3  12.0  16227.0      No   \n",
       "4554  285745137         0 1985-08-17  NaN         0   9.0  14484.0      No   \n",
       "5227  945868698         0 1987-12-03  NaN         0   0.0      0.0      No   \n",
       "\n",
       "      HOME_VAL MSTATUS  ...    CAR_TYPE RED_CAR OLDCLAIM  CLM_FREQ REVOKED  \\\n",
       "295        0.0      No  ...  Sports Car     Yes  10099.0         2      No   \n",
       "1317       0.0      No  ...     Minivan     Yes      0.0         0      No   \n",
       "1651       0.0      No  ...         SUV     Yes      0.0         0      No   \n",
       "3749       0.0      No  ...  Sports Car     Yes  25235.0         1     Yes   \n",
       "4365       NaN     Yes  ...         Van     Yes      0.0         0      No   \n",
       "4554       0.0      No  ...  Sports Car     Yes   4518.0         1      No   \n",
       "5227       NaN     Yes  ...         SUV     Yes   4656.0         4      No   \n",
       "\n",
       "      MVR_PTS  CLM_AMT CAR_AGE CLAIM_FLAG           URBANICITY  \n",
       "295         4   6142.0     5.0          1  Highly Urban/ Urban  \n",
       "1317        7   3092.0     8.0          1  Highly Urban/ Urban  \n",
       "1651        0   3444.0     6.0          1  Highly Urban/ Urban  \n",
       "3749        0   2541.0    13.0          1  Highly Urban/ Urban  \n",
       "4365        6   5640.0     1.0          1  Highly Urban/ Urban  \n",
       "4554        1   4798.0     1.0          1  Highly Urban/ Urban  \n",
       "5227        3      0.0     1.0          0  Highly Rural/ Rural  \n",
       "\n",
       "[7 rows x 27 columns]"
      ]
     },
     "execution_count": 131,
     "metadata": {},
     "output_type": "execute_result"
    }
   ],
   "source": [
    "df[df['AGE'].isna()]"
   ]
  },
  {
   "cell_type": "code",
   "execution_count": 130,
   "metadata": {},
   "outputs": [
    {
     "data": {
      "text/plain": [
       "295    1986-02-18\n",
       "1317   1983-11-21\n",
       "1651   1984-10-18\n",
       "3749   1986-02-17\n",
       "4365   1984-02-15\n",
       "4554   1985-08-17\n",
       "5227   1987-12-03\n",
       "Name: BIRTH, dtype: datetime64[ns]"
      ]
     },
     "execution_count": 130,
     "metadata": {},
     "output_type": "execute_result"
    }
   ],
   "source": [
    "df[df['AGE'].isna()]['BIRTH']"
   ]
  },
  {
   "cell_type": "markdown",
   "metadata": {},
   "source": [
    "### Analiza i imputacja braków danych"
   ]
  }
 ],
 "metadata": {
  "interpreter": {
   "hash": "4a06d5604a8ae254e093ddfdb9274b063a5f34c596232e75139b5abc85d2fbb8"
  },
  "kernelspec": {
   "display_name": "Python 3.8.5 ('base')",
   "language": "python",
   "name": "python3"
  },
  "language_info": {
   "codemirror_mode": {
    "name": "ipython",
    "version": 3
   },
   "file_extension": ".py",
   "mimetype": "text/x-python",
   "name": "python",
   "nbconvert_exporter": "python",
   "pygments_lexer": "ipython3",
   "version": "3.8.5"
  },
  "orig_nbformat": 4
 },
 "nbformat": 4,
 "nbformat_minor": 2
}
