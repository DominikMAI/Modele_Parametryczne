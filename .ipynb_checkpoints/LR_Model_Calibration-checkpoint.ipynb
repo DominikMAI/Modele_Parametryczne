{
 "cells": [
  {
   "cell_type": "code",
   "execution_count": 376,
   "id": "7a6ac09f-4d83-44d2-9ace-376645a72a43",
   "metadata": {},
   "outputs": [],
   "source": [
    "import pandas as pd\n",
    "import numpy as np\n",
    "import seaborn as sns\n",
    "import matplotlib.pyplot as plt\n",
    "import warnings\n",
    "import statsmodels as sm\n",
    "from sklearn.model_selection import train_test_split\n",
    "import statsmodels.formula.api as smf\n",
    "import random\n",
    "from sklearn.metrics import confusion_matrix\n",
    "from sklearn.metrics import *\n",
    "from sklearn.model_selection import RepeatedStratifiedKFold\n",
    "from sklearn.model_selection import cross_val_score\n",
    "warnings.filterwarnings(\"ignore\")"
   ]
  },
  {
   "cell_type": "code",
   "execution_count": 424,
   "id": "7623174d-1229-4489-a547-c2404c4e9d48",
   "metadata": {},
   "outputs": [],
   "source": [
    "df = pd.read_csv('./dane/LR_dane_treningowe_testowe.csv')\n",
    "df.head(1)"
   ]
  },
  {
   "cell_type": "code",
   "execution_count": 424,
   "id": "239a0b49-c13f-40d3-8aa0-abc73f023a08",
   "metadata": {},
   "outputs": [
    {
     "data": {
      "text/html": [
       "<div>\n",
       "<style scoped>\n",
       "    .dataframe tbody tr th:only-of-type {\n",
       "        vertical-align: middle;\n",
       "    }\n",
       "\n",
       "    .dataframe tbody tr th {\n",
       "        vertical-align: top;\n",
       "    }\n",
       "\n",
       "    .dataframe thead th {\n",
       "        text-align: right;\n",
       "    }\n",
       "</style>\n",
       "<table border=\"1\" class=\"dataframe\">\n",
       "  <thead>\n",
       "    <tr style=\"text-align: right;\">\n",
       "      <th></th>\n",
       "      <th>Unnamed: 0</th>\n",
       "      <th>ID</th>\n",
       "      <th>KIDSDRIV</th>\n",
       "      <th>BIRTH</th>\n",
       "      <th>AGE</th>\n",
       "      <th>HOMEKIDS</th>\n",
       "      <th>YOJ</th>\n",
       "      <th>INCOME</th>\n",
       "      <th>PARENT1</th>\n",
       "      <th>HOME_VAL</th>\n",
       "      <th>...</th>\n",
       "      <th>RED_CAR</th>\n",
       "      <th>OLDCLAIM</th>\n",
       "      <th>CLM_FREQ</th>\n",
       "      <th>REVOKED</th>\n",
       "      <th>MVR_PTS</th>\n",
       "      <th>CLM_AMT</th>\n",
       "      <th>CAR_AGE</th>\n",
       "      <th>CLAIM_FLAG</th>\n",
       "      <th>URBANICITY</th>\n",
       "      <th>AGE_GROUP</th>\n",
       "    </tr>\n",
       "  </thead>\n",
       "  <tbody>\n",
       "    <tr>\n",
       "      <th>0</th>\n",
       "      <td>0</td>\n",
       "      <td>63581743</td>\n",
       "      <td>0</td>\n",
       "      <td>16MAR39</td>\n",
       "      <td>60.0</td>\n",
       "      <td>0</td>\n",
       "      <td>11.0</td>\n",
       "      <td>67.349</td>\n",
       "      <td>0</td>\n",
       "      <td>0.0</td>\n",
       "      <td>...</td>\n",
       "      <td>1</td>\n",
       "      <td>4.461</td>\n",
       "      <td>2</td>\n",
       "      <td>0</td>\n",
       "      <td>3</td>\n",
       "      <td>0.0</td>\n",
       "      <td>18.0</td>\n",
       "      <td>0</td>\n",
       "      <td>1</td>\n",
       "      <td>5</td>\n",
       "    </tr>\n",
       "  </tbody>\n",
       "</table>\n",
       "<p>1 rows × 29 columns</p>\n",
       "</div>"
      ],
      "text/plain": [
       "   Unnamed: 0        ID  KIDSDRIV    BIRTH   AGE  HOMEKIDS   YOJ  INCOME  \\\n",
       "0           0  63581743         0  16MAR39  60.0         0  11.0  67.349   \n",
       "\n",
       "   PARENT1  HOME_VAL  ...  RED_CAR  OLDCLAIM CLM_FREQ REVOKED  MVR_PTS  \\\n",
       "0        0       0.0  ...        1     4.461        2       0        3   \n",
       "\n",
       "   CLM_AMT  CAR_AGE  CLAIM_FLAG  URBANICITY  AGE_GROUP  \n",
       "0      0.0     18.0           0           1          5  \n",
       "\n",
       "[1 rows x 29 columns]"
      ]
     },
     "execution_count": 424,
     "metadata": {},
     "output_type": "execute_result"
    }
   ],
   "source": [
    "# technika imputacji\n",
    "imputer = KNNImputer(n_neighbors=2)\n",
    "\n",
    "imputer.fit_transform(df)"
   ]
  },
  {
   "cell_type": "code",
   "execution_count": 425,
   "id": "8c6fc496-95e9-49ca-8c9d-ea5513c99e12",
   "metadata": {},
   "outputs": [
    {
     "data": {
      "text/plain": [
       "Text(0, 0.5, 'Liczebność')"
      ]
     },
     "execution_count": 425,
     "metadata": {},
     "output_type": "execute_result"
    },
    {
     "data": {
      "image/png": "[encoded data removed]",
      "text/plain": [
       "<Figure size 864x576 with 1 Axes>"
      ]
     },
     "metadata": {
      "needs_background": "light"
     },
     "output_type": "display_data"
    }
   ],
   "source": [
    "plt.figure(figsize=(12, 8))\n",
    "df.CLAIM_FLAG.value_counts().nlargest(10).sort_values(ascending=False).plot.bar()\n",
    "plt.title(\"Niezbalansowana dystrybucja klas\")\n",
    "plt.xlabel(\"Klasy\")\n",
    "plt.ylabel(\"Liczebność\")"
   ]
  },
  {
   "cell_type": "code",
   "execution_count": 426,
   "id": "fa44f2d9-2625-4bac-a815-e9556fd051f0",
   "metadata": {},
   "outputs": [
    {
     "data": {
      "text/plain": [
       "0    0.733443\n",
       "1    0.266557\n",
       "Name: CLAIM_FLAG, dtype: float64"
      ]
     },
     "execution_count": 426,
     "metadata": {},
     "output_type": "execute_result"
    }
   ],
   "source": [
    "w = df['CLAIM_FLAG'].value_counts() / df.shape[0]\n",
    "w"
   ]
  },
  {
   "cell_type": "code",
   "execution_count": 427,
   "id": "94e44859-93da-4826-ae8a-4a7faedb7714",
   "metadata": {},
   "outputs": [],
   "source": [
    "df['sample_weights'] = 0\n",
    "df['sample_weights'][df['CLAIM_FLAG'] == 0] = w[1]\n",
    "df['sample_weights'][df['CLAIM_FLAG'] == 1] = w[0]"
   ]
  },
  {
   "cell_type": "code",
   "execution_count": 463,
   "id": "4811d7cc-fae7-4b8e-bd6c-16e4d702adb6",
   "metadata": {},
   "outputs": [],
   "source": [
    "# standaryzacja\n",
    "#df['INCOME'] = ((df['INCOME'] - df['INCOME'].mean()) / df['INCOME'].std())\n",
    "#df['OLDCLAIM'] = ((df['OLDCLAIM'] - df['OLDCLAIM'].mean()) / df['OLDCLAIM'].std())\n",
    "#df['CAR_AGE'] =( (df['CAR_AGE'] - df['CAR_AGE'].mean()) / df['CAR_AGE'].std())"
   ]
  },
  {
   "cell_type": "code",
   "execution_count": 501,
   "id": "f0eb7f38-3893-470a-bbfa-e21ee3df707f",
   "metadata": {},
   "outputs": [
    {
     "data": {
      "text/html": [
       "<div>\n",
       "<style scoped>\n",
       "    .dataframe tbody tr th:only-of-type {\n",
       "        vertical-align: middle;\n",
       "    }\n",
       "\n",
       "    .dataframe tbody tr th {\n",
       "        vertical-align: top;\n",
       "    }\n",
       "\n",
       "    .dataframe thead th {\n",
       "        text-align: right;\n",
       "    }\n",
       "</style>\n",
       "<table border=\"1\" class=\"dataframe\">\n",
       "  <thead>\n",
       "    <tr style=\"text-align: right;\">\n",
       "      <th></th>\n",
       "      <th>Unnamed: 0</th>\n",
       "      <th>ID</th>\n",
       "      <th>KIDSDRIV</th>\n",
       "      <th>BIRTH</th>\n",
       "      <th>AGE</th>\n",
       "      <th>HOMEKIDS</th>\n",
       "      <th>YOJ</th>\n",
       "      <th>INCOME</th>\n",
       "      <th>PARENT1</th>\n",
       "      <th>HOME_VAL</th>\n",
       "      <th>...</th>\n",
       "      <th>CLM_FREQ</th>\n",
       "      <th>REVOKED</th>\n",
       "      <th>MVR_PTS</th>\n",
       "      <th>CLM_AMT</th>\n",
       "      <th>CAR_AGE</th>\n",
       "      <th>CLAIM_FLAG</th>\n",
       "      <th>URBANICITY</th>\n",
       "      <th>AGE_GROUP</th>\n",
       "      <th>sample_weights</th>\n",
       "      <th>Nrow</th>\n",
       "    </tr>\n",
       "  </thead>\n",
       "  <tbody>\n",
       "    <tr>\n",
       "      <th>0</th>\n",
       "      <td>0</td>\n",
       "      <td>63581743</td>\n",
       "      <td>0</td>\n",
       "      <td>16MAR39</td>\n",
       "      <td>60.0</td>\n",
       "      <td>0</td>\n",
       "      <td>11.0</td>\n",
       "      <td>0.151778</td>\n",
       "      <td>0</td>\n",
       "      <td>0.000</td>\n",
       "      <td>...</td>\n",
       "      <td>2</td>\n",
       "      <td>0</td>\n",
       "      <td>3</td>\n",
       "      <td>0.0</td>\n",
       "      <td>0.921260</td>\n",
       "      <td>0</td>\n",
       "      <td>1</td>\n",
       "      <td>5</td>\n",
       "      <td>0.266557</td>\n",
       "      <td>0</td>\n",
       "    </tr>\n",
       "    <tr>\n",
       "      <th>1</th>\n",
       "      <td>1</td>\n",
       "      <td>132761049</td>\n",
       "      <td>0</td>\n",
       "      <td>21JAN56</td>\n",
       "      <td>43.0</td>\n",
       "      <td>0</td>\n",
       "      <td>11.0</td>\n",
       "      <td>0.173767</td>\n",
       "      <td>0</td>\n",
       "      <td>257.252</td>\n",
       "      <td>...</td>\n",
       "      <td>0</td>\n",
       "      <td>0</td>\n",
       "      <td>0</td>\n",
       "      <td>0.0</td>\n",
       "      <td>0.787402</td>\n",
       "      <td>0</td>\n",
       "      <td>1</td>\n",
       "      <td>3</td>\n",
       "      <td>0.266557</td>\n",
       "      <td>1</td>\n",
       "    </tr>\n",
       "    <tr>\n",
       "      <th>2</th>\n",
       "      <td>2</td>\n",
       "      <td>921317019</td>\n",
       "      <td>0</td>\n",
       "      <td>18NOV51</td>\n",
       "      <td>48.0</td>\n",
       "      <td>0</td>\n",
       "      <td>11.0</td>\n",
       "      <td>0.138578</td>\n",
       "      <td>0</td>\n",
       "      <td>0.000</td>\n",
       "      <td>...</td>\n",
       "      <td>0</td>\n",
       "      <td>0</td>\n",
       "      <td>2</td>\n",
       "      <td>0.0</td>\n",
       "      <td>0.858268</td>\n",
       "      <td>0</td>\n",
       "      <td>1</td>\n",
       "      <td>4</td>\n",
       "      <td>0.266557</td>\n",
       "      <td>2</td>\n",
       "    </tr>\n",
       "    <tr>\n",
       "      <th>3</th>\n",
       "      <td>3</td>\n",
       "      <td>727598473</td>\n",
       "      <td>0</td>\n",
       "      <td>05MAR64</td>\n",
       "      <td>35.0</td>\n",
       "      <td>1</td>\n",
       "      <td>10.0</td>\n",
       "      <td>0.104963</td>\n",
       "      <td>0</td>\n",
       "      <td>124.191</td>\n",
       "      <td>...</td>\n",
       "      <td>2</td>\n",
       "      <td>0</td>\n",
       "      <td>3</td>\n",
       "      <td>0.0</td>\n",
       "      <td>0.858268</td>\n",
       "      <td>0</td>\n",
       "      <td>1</td>\n",
       "      <td>2</td>\n",
       "      <td>0.266557</td>\n",
       "      <td>3</td>\n",
       "    </tr>\n",
       "    <tr>\n",
       "      <th>4</th>\n",
       "      <td>4</td>\n",
       "      <td>450221861</td>\n",
       "      <td>0</td>\n",
       "      <td>05JUN48</td>\n",
       "      <td>51.0</td>\n",
       "      <td>0</td>\n",
       "      <td>14.0</td>\n",
       "      <td>0.000000</td>\n",
       "      <td>0</td>\n",
       "      <td>306.251</td>\n",
       "      <td>...</td>\n",
       "      <td>0</td>\n",
       "      <td>0</td>\n",
       "      <td>0</td>\n",
       "      <td>0.0</td>\n",
       "      <td>0.826772</td>\n",
       "      <td>0</td>\n",
       "      <td>1</td>\n",
       "      <td>4</td>\n",
       "      <td>0.266557</td>\n",
       "      <td>4</td>\n",
       "    </tr>\n",
       "  </tbody>\n",
       "</table>\n",
       "<p>5 rows × 31 columns</p>\n",
       "</div>"
      ],
      "text/plain": [
       "   Unnamed: 0         ID  KIDSDRIV    BIRTH   AGE  HOMEKIDS   YOJ    INCOME  \\\n",
       "0           0   63581743         0  16MAR39  60.0         0  11.0  0.151778   \n",
       "1           1  132761049         0  21JAN56  43.0         0  11.0  0.173767   \n",
       "2           2  921317019         0  18NOV51  48.0         0  11.0  0.138578   \n",
       "3           3  727598473         0  05MAR64  35.0         1  10.0  0.104963   \n",
       "4           4  450221861         0  05JUN48  51.0         0  14.0  0.000000   \n",
       "\n",
       "   PARENT1  HOME_VAL  ...  CLM_FREQ  REVOKED MVR_PTS CLM_AMT   CAR_AGE  \\\n",
       "0        0     0.000  ...         2        0       3     0.0  0.921260   \n",
       "1        0   257.252  ...         0        0       0     0.0  0.787402   \n",
       "2        0     0.000  ...         0        0       2     0.0  0.858268   \n",
       "3        0   124.191  ...         2        0       3     0.0  0.858268   \n",
       "4        0   306.251  ...         0        0       0     0.0  0.826772   \n",
       "\n",
       "   CLAIM_FLAG  URBANICITY  AGE_GROUP  sample_weights  Nrow  \n",
       "0           0           1          5        0.266557     0  \n",
       "1           0           1          3        0.266557     1  \n",
       "2           0           1          4        0.266557     2  \n",
       "3           0           1          2        0.266557     3  \n",
       "4           0           1          4        0.266557     4  \n",
       "\n",
       "[5 rows x 31 columns]"
      ]
     },
     "execution_count": 501,
     "metadata": {},
     "output_type": "execute_result"
    }
   ],
   "source": [
    "#min max\n",
    "df['INCOME'] = (df['INCOME'] - df['INCOME'].min()) /  ( df['INCOME'].max() -  df['INCOME'].min())\n",
    "df['OLDCLAIM'] = (df['OLDCLAIM'] - df['OLDCLAIM'].min()) /  ( df['OLDCLAIM'].max() -  df['OLDCLAIM'].min())\n",
    "df['CAR_AGE'] =(df['CAR_AGE'] - df['CAR_AGE'].min()) / ( df['CAR_AGE'].max() -  df['CAR_AGE'].min())\n",
    "df.head()"
   ]
  },
  {
   "cell_type": "code",
   "execution_count": 502,
   "id": "38a51ee8-871f-4186-a486-816ce73292b8",
   "metadata": {},
   "outputs": [],
   "source": [
    "## OpracowaćCLM_FREQ, , CLM_AMT, "
   ]
  },
  {
   "cell_type": "code",
   "execution_count": 503,
   "id": "56305e3e-b546-4f8a-9473-c3c97ee9a846",
   "metadata": {},
   "outputs": [],
   "source": [
    "df['Nrow'] = [x for x in range(df.shape[0])] "
   ]
  },
  {
   "cell_type": "code",
   "execution_count": 504,
   "id": "c6dd4288-6d49-40ca-b4da-e177382c7255",
   "metadata": {},
   "outputs": [],
   "source": [
    "ids = random.sample(list(df['Nrow'].values), int(.70*df.shape[0]))\n",
    "df_train = df[df['Nrow'].isin(ids)]\n",
    "df_test = df[~df['Nrow'].isin(ids)]"
   ]
  },
  {
   "cell_type": "code",
   "execution_count": 505,
   "id": "db3f28ce-3f56-479f-a3c2-58c904869c23",
   "metadata": {},
   "outputs": [
    {
     "data": {
      "text/plain": [
       "Text(0, 0.5, 'Liczebność')"
      ]
     },
     "execution_count": 505,
     "metadata": {},
     "output_type": "execute_result"
    },
    {
     "data": {
      "image/png": "[encoded data removed]",
      "text/plain": [
       "<Figure size 864x576 with 1 Axes>"
      ]
     },
     "metadata": {
      "needs_background": "light"
     },
     "output_type": "display_data"
    },
    {
     "data": {
      "image/png": "[encoded data removed]",
      "text/plain": [
       "<Figure size 864x576 with 1 Axes>"
      ]
     },
     "metadata": {
      "needs_background": "light"
     },
     "output_type": "display_data"
    }
   ],
   "source": [
    "plt.figure(figsize=(12, 8))\n",
    "df_train.CLAIM_FLAG.value_counts().nlargest(10).sort_values(ascending=False).plot.bar()\n",
    "plt.title(\"Niezbalansowana dystrybucja klas - treningowe\")\n",
    "plt.xlabel(\"Klasy\")\n",
    "plt.ylabel(\"Liczebność\")\n",
    "\n",
    "plt.figure(figsize=(12, 8))\n",
    "df_test.CLAIM_FLAG.value_counts().nlargest(10).sort_values(ascending=False).plot.bar()\n",
    "plt.title(\"Niezbalansowana dystrybucja klas - testowe\")\n",
    "plt.xlabel(\"Klasy\")\n",
    "plt.ylabel(\"Liczebność\")"
   ]
  },
  {
   "cell_type": "markdown",
   "id": "3980d84e-c36a-4301-ab9e-8dce79bbdb01",
   "metadata": {},
   "source": [
    "MLE -  Maximum Likelihood Estimation"
   ]
  },
  {
   "cell_type": "code",
   "execution_count": 506,
   "id": "716379f0-d349-4718-9425-d04e67d41a3a",
   "metadata": {},
   "outputs": [
    {
     "name": "stdout",
     "output_type": "stream",
     "text": [
      "Optimization terminated successfully.\n",
      "         Current function value: 0.540946\n",
      "         Iterations 6\n"
     ]
    }
   ],
   "source": [
    "m1 = smf.logit(formula = 'CLAIM_FLAG ~ INCOME + CAR_AGE + AGE_GROUP + HOMEKIDS + MVR_PTS', data = df_train, sample_weight = df_train['sample_weights']).fit()"
   ]
  },
  {
   "cell_type": "code",
   "execution_count": 507,
   "id": "c72e33ef-3ca4-4739-9d02-140d99115187",
   "metadata": {},
   "outputs": [
    {
     "name": "stdout",
     "output_type": "stream",
     "text": [
      "                           Logit Regression Results                           \n",
      "==============================================================================\n",
      "Dep. Variable:             CLAIM_FLAG   No. Observations:                 7208\n",
      "Model:                          Logit   Df Residuals:                     7202\n",
      "Method:                           MLE   Df Model:                            5\n",
      "Date:                Fri, 03 Jun 2022   Pseudo R-squ.:                 0.06074\n",
      "Time:                        12:24:29   Log-Likelihood:                -3899.1\n",
      "converged:                       True   LL-Null:                       -4151.3\n",
      "Covariance Type:            nonrobust   LLR p-value:                9.428e-107\n",
      "==============================================================================\n"
     ]
    }
   ],
   "source": [
    "print(m1.summary().tables[0])"
   ]
  },
  {
   "cell_type": "code",
   "execution_count": 508,
   "id": "f7d44be6-2ee0-40d3-87cd-85c979f2175b",
   "metadata": {},
   "outputs": [
    {
     "name": "stdout",
     "output_type": "stream",
     "text": [
      "==============================================================================\n",
      "                 coef    std err          z      P>|z|      [0.025      0.975]\n",
      "------------------------------------------------------------------------------\n",
      "Intercept     -0.5907      0.171     -3.457      0.001      -0.926      -0.256\n",
      "INCOME        -3.2841      0.504     -6.510      0.000      -4.273      -2.295\n",
      "CAR_AGE       -0.2923      0.127     -2.308      0.021      -0.540      -0.044\n",
      "AGE_GROUP     -0.0931      0.034     -2.755      0.006      -0.159      -0.027\n",
      "HOMEKIDS       0.1594      0.026      6.060      0.000       0.108       0.211\n",
      "MVR_PTS        0.2179      0.012     18.037      0.000       0.194       0.242\n",
      "==============================================================================\n"
     ]
    }
   ],
   "source": [
    "print(m1.summary().tables[1])"
   ]
  },
  {
   "cell_type": "code",
   "execution_count": null,
   "id": "5acbe4d1-98a6-4169-adc3-39e0249430fa",
   "metadata": {},
   "outputs": [],
   "source": []
  },
  {
   "cell_type": "code",
   "execution_count": 529,
   "id": "dd3bb430-8e3e-4e85-a814-11889ef155ae",
   "metadata": {},
   "outputs": [],
   "source": [
    "p = 0.5\n",
    "y_pred = m1.predict(df_test)\n",
    "y_pred_kwant = y_pred.copy()\n",
    "\n",
    "y_pred_kwant[y_pred_kwant >= p] = 1\n",
    "y_pred_kwant[y_pred_kwant < p] = 0"
   ]
  },
  {
   "cell_type": "code",
   "execution_count": 530,
   "id": "f91f27cd-1f8c-4545-a600-853e2fa0939a",
   "metadata": {},
   "outputs": [
    {
     "name": "stdout",
     "output_type": "stream",
     "text": [
      "[[2177   62]\n",
      " [ 758   93]]\n"
     ]
    }
   ],
   "source": [
    "print(confusion_matrix(df_test[\"CLAIM_FLAG\"], y_pred_kwant.astype(np.int32)))"
   ]
  },
  {
   "cell_type": "code",
   "execution_count": 531,
   "id": "d6dabcff-f424-46a2-9c01-9c7fb298b25a",
   "metadata": {},
   "outputs": [
    {
     "data": {
      "text/plain": [
       "array([0., 1.])"
      ]
     },
     "execution_count": 531,
     "metadata": {},
     "output_type": "execute_result"
    }
   ],
   "source": [
    "y_pred_kwant.unique()"
   ]
  },
  {
   "cell_type": "code",
   "execution_count": 532,
   "id": "38669625-8a9b-4690-9666-dda209844580",
   "metadata": {},
   "outputs": [
    {
     "name": "stdout",
     "output_type": "stream",
     "text": [
      "Dokładność wynosi 73.0 %, ale bieda\n",
      "Zbalansowana dokładność wynosi 67.0 %, żenada\n"
     ]
    }
   ],
   "source": [
    "acc = round(accuracy_score(y_pred_kwant, df_test[\"CLAIM_FLAG\"]),2)*100\n",
    "b_acc = round(balanced_accuracy_score(y_pred_kwant,df_test[\"CLAIM_FLAG\"]),2)*100\n",
    "\n",
    "print(f'Dokładność wynosi {acc} %, ale bieda')\n",
    "print(f'Zbalansowana dokładność wynosi {b_acc} %, żenada')"
   ]
  },
  {
   "cell_type": "code",
   "execution_count": 533,
   "id": "0d7144d1-1096-4e05-a1e5-519c58c238b9",
   "metadata": {},
   "outputs": [
    {
     "name": "stdout",
     "output_type": "stream",
     "text": [
      "Area Under Curve: 0.6708688245315161\n",
      "Recall score: 0.6\n"
     ]
    }
   ],
   "source": [
    "print(f'Area Under Curve: {roc_auc_score(y_pred_kwant, df_test[\"CLAIM_FLAG\"])}')\n",
    "print(f'Recall score: {recall_score(y_pred_kwant, df_test[\"CLAIM_FLAG\"])}')"
   ]
  },
  {
   "cell_type": "code",
   "execution_count": 534,
   "id": "6c3ab665-59da-444a-b2b5-8e6729e78801",
   "metadata": {},
   "outputs": [],
   "source": [
    "fpr, tpr, _ = roc_curve(df_test[\"CLAIM_FLAG\"], y_pred)\n",
    "roc_auc = auc(fpr, tpr)"
   ]
  },
  {
   "cell_type": "code",
   "execution_count": 538,
   "id": "ffc7f686-5e54-49a5-9e09-aba63791c84e",
   "metadata": {},
   "outputs": [
    {
     "name": "stderr",
     "output_type": "stream",
     "text": [
      "No handles with labels found to put in legend.\n"
     ]
    },
    {
     "data": {
      "image/png": "[encoded data removed]",
      "text/plain": [
       "<Figure size 432x288 with 1 Axes>"
      ]
     },
     "metadata": {
      "needs_background": "light"
     },
     "output_type": "display_data"
    }
   ],
   "source": [
    "plt.figure()\n",
    "lw = 2\n",
    "plt.plot(fpr, tpr,color=\"orange\")\n",
    "plt.plot([0, 1], [0, 1], color=\"navy\", lw=lw, linestyle=\"--\")\n",
    "plt.xlim([0.0, 1.0])\n",
    "plt.ylim([0.0, 1.05])\n",
    "plt.xlabel(\"False Positive Rate\")\n",
    "plt.ylabel(\"True Positive Rate\")\n",
    "plt.title(\"Receiver operating characteristic example\")\n",
    "plt.legend(loc=\"lower right\")\n",
    "plt.grid()\n",
    "plt.show()"
   ]
  },
  {
   "cell_type": "code",
   "execution_count": 537,
   "id": "1fecc7fb-b2c0-4065-9587-a459fdba144c",
   "metadata": {},
   "outputs": [
    {
     "data": {
      "image/png": "[encoded data removed]",
      "text/plain": [
       "<Figure size 432x288 with 1 Axes>"
      ]
     },
     "metadata": {
      "needs_background": "light"
     },
     "output_type": "display_data"
    }
   ],
   "source": [
    "accl=[]\n",
    "b_accl=[]\n",
    "top = 10\n",
    "for i in range(top):\n",
    "    y_pred_kwant = y_pred.copy()\n",
    "    y_pred_kwant[y_pred_kwant >= (i*0.1)] = 1\n",
    "    y_pred_kwant[y_pred_kwant < (i*0.1)] = 0\n",
    "    \n",
    "    acc = round(accuracy_score(y_pred_kwant, df_test[\"CLAIM_FLAG\"]),2)*100\n",
    "    \n",
    "    b_acc = round(balanced_accuracy_score(y_pred_kwant,df_test[\"CLAIM_FLAG\"]),2)*100\n",
    "    #print(f'Zbalansowana dokładność wynosi {b_acc} %')\n",
    "    \n",
    "    accl.append(acc)\n",
    "    b_accl.append(b_acc)\n",
    "    #print(f'{round(i*0.1)} Dokładność wynosi {acc} %')\n",
    "    \n",
    "plt.plot([*range(top)], accl, label = 'Accuracy')\n",
    "plt.plot([*range(top)], b_accl,label = 'Balanced Accuracy' )\n",
    "plt.legend()\n",
    "plt.vlines(np.argmax(b_accl),0,100, color = 'red', ls='--')\n",
    "plt.show()"
   ]
  },
  {
   "cell_type": "code",
   "execution_count": null,
   "id": "fd68d12b-7c68-4ef4-84de-089f29951f9b",
   "metadata": {},
   "outputs": [],
   "source": []
  },
  {
   "cell_type": "code",
   "execution_count": null,
   "id": "905f7785-11e1-4abd-bd5d-2ee2b4082c43",
   "metadata": {},
   "outputs": [],
   "source": []
  },
  {
   "cell_type": "raw",
   "id": "7bb0b45e-539e-4582-8917-0280510fa1a6",
   "metadata": {},
   "source": []
  },
  {
   "cell_type": "code",
   "execution_count": null,
   "id": "f9402b6f-7e22-418b-8414-fe4914a36105",
   "metadata": {},
   "outputs": [],
   "source": []
  },
  {
   "cell_type": "code",
   "execution_count": null,
   "id": "d1fffa0a-812b-4a9f-9382-713e1b6545f8",
   "metadata": {},
   "outputs": [],
   "source": []
  },
  {
   "cell_type": "code",
   "execution_count": null,
   "id": "b0d69fcc-5397-490e-a75c-905604582938",
   "metadata": {},
   "outputs": [],
   "source": []
  },
  {
   "cell_type": "code",
   "execution_count": null,
   "id": "5d1de12e-d31c-4156-bf4e-b622df24a19d",
   "metadata": {},
   "outputs": [],
   "source": []
  }
 ],
 "metadata": {
  "kernelspec": {
   "display_name": "Python 3",
   "language": "python",
   "name": "python3"
  },
  "language_info": {
   "codemirror_mode": {
    "name": "ipython",
    "version": 3
   },
   "file_extension": ".py",
   "mimetype": "text/x-python",
   "name": "python",
   "nbconvert_exporter": "python",
   "pygments_lexer": "ipython3",
   "version": "3.8.8"
  }
 },
 "nbformat": 4,
 "nbformat_minor": 5
}
