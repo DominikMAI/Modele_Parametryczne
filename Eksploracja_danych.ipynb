{
 "cells": [
  {
   "cell_type": "code",
   "execution_count": 64,
   "id": "90007a9b-ecd2-4143-bbf1-6d9ef03694a2",
   "metadata": {},
   "outputs": [],
   "source": [
    "import pandas as pd\n",
    "import numpy as np\n",
    "import seaborn as sns\n",
    "import matplotlib.pyplot as plt\n",
    "from dateutil import relativedelta\n",
    "import warnings\n",
    "from sklearn.impute import KNNImputer\n",
    "warnings.filterwarnings(\"ignore\")\n",
    "#Reference:\n",
    "#https://www.kaggle.com/code/kerneler/starter-car-insurance-claim-data-62f4f91c-d/notebook\n",
    "#https://towardsdatascience.com/15-data-exploration-techniques-to-go-from-data-to-insights-93f66e6805df\n",
    "#https://towardsdatascience.com/how-to-perform-exploratory-data-analysis-with-seaborn-97e3413e841d"
   ]
  },
  {
   "cell_type": "code",
   "execution_count": 203,
   "id": "bb560a63-a20c-4f58-a601-4acdbe958199",
   "metadata": {},
   "outputs": [
    {
     "data": {
      "text/html": [
       "<div>\n",
       "<style scoped>\n",
       "    .dataframe tbody tr th:only-of-type {\n",
       "        vertical-align: middle;\n",
       "    }\n",
       "\n",
       "    .dataframe tbody tr th {\n",
       "        vertical-align: top;\n",
       "    }\n",
       "\n",
       "    .dataframe thead th {\n",
       "        text-align: right;\n",
       "    }\n",
       "</style>\n",
       "<table border=\"1\" class=\"dataframe\">\n",
       "  <thead>\n",
       "    <tr style=\"text-align: right;\">\n",
       "      <th></th>\n",
       "      <th>ID</th>\n",
       "      <th>KIDSDRIV</th>\n",
       "      <th>BIRTH</th>\n",
       "      <th>AGE</th>\n",
       "      <th>HOMEKIDS</th>\n",
       "      <th>YOJ</th>\n",
       "      <th>INCOME</th>\n",
       "      <th>PARENT1</th>\n",
       "      <th>HOME_VAL</th>\n",
       "      <th>MSTATUS</th>\n",
       "      <th>...</th>\n",
       "      <th>CAR_TYPE</th>\n",
       "      <th>RED_CAR</th>\n",
       "      <th>OLDCLAIM</th>\n",
       "      <th>CLM_FREQ</th>\n",
       "      <th>REVOKED</th>\n",
       "      <th>MVR_PTS</th>\n",
       "      <th>CLM_AMT</th>\n",
       "      <th>CAR_AGE</th>\n",
       "      <th>CLAIM_FLAG</th>\n",
       "      <th>URBANICITY</th>\n",
       "    </tr>\n",
       "  </thead>\n",
       "  <tbody>\n",
       "    <tr>\n",
       "      <th>0</th>\n",
       "      <td>63581743</td>\n",
       "      <td>0</td>\n",
       "      <td>16MAR39</td>\n",
       "      <td>60.0</td>\n",
       "      <td>0</td>\n",
       "      <td>11.0</td>\n",
       "      <td>$67,349</td>\n",
       "      <td>No</td>\n",
       "      <td>$0</td>\n",
       "      <td>z_No</td>\n",
       "      <td>...</td>\n",
       "      <td>Minivan</td>\n",
       "      <td>yes</td>\n",
       "      <td>$4,461</td>\n",
       "      <td>2</td>\n",
       "      <td>No</td>\n",
       "      <td>3</td>\n",
       "      <td>$0</td>\n",
       "      <td>18.0</td>\n",
       "      <td>0</td>\n",
       "      <td>Highly Urban/ Urban</td>\n",
       "    </tr>\n",
       "    <tr>\n",
       "      <th>1</th>\n",
       "      <td>132761049</td>\n",
       "      <td>0</td>\n",
       "      <td>21JAN56</td>\n",
       "      <td>43.0</td>\n",
       "      <td>0</td>\n",
       "      <td>11.0</td>\n",
       "      <td>$91,449</td>\n",
       "      <td>No</td>\n",
       "      <td>$257,252</td>\n",
       "      <td>z_No</td>\n",
       "      <td>...</td>\n",
       "      <td>Minivan</td>\n",
       "      <td>yes</td>\n",
       "      <td>$0</td>\n",
       "      <td>0</td>\n",
       "      <td>No</td>\n",
       "      <td>0</td>\n",
       "      <td>$0</td>\n",
       "      <td>1.0</td>\n",
       "      <td>0</td>\n",
       "      <td>Highly Urban/ Urban</td>\n",
       "    </tr>\n",
       "    <tr>\n",
       "      <th>2</th>\n",
       "      <td>921317019</td>\n",
       "      <td>0</td>\n",
       "      <td>18NOV51</td>\n",
       "      <td>48.0</td>\n",
       "      <td>0</td>\n",
       "      <td>11.0</td>\n",
       "      <td>$52,881</td>\n",
       "      <td>No</td>\n",
       "      <td>$0</td>\n",
       "      <td>z_No</td>\n",
       "      <td>...</td>\n",
       "      <td>Van</td>\n",
       "      <td>yes</td>\n",
       "      <td>$0</td>\n",
       "      <td>0</td>\n",
       "      <td>No</td>\n",
       "      <td>2</td>\n",
       "      <td>$0</td>\n",
       "      <td>10.0</td>\n",
       "      <td>0</td>\n",
       "      <td>Highly Urban/ Urban</td>\n",
       "    </tr>\n",
       "    <tr>\n",
       "      <th>3</th>\n",
       "      <td>727598473</td>\n",
       "      <td>0</td>\n",
       "      <td>05MAR64</td>\n",
       "      <td>35.0</td>\n",
       "      <td>1</td>\n",
       "      <td>10.0</td>\n",
       "      <td>$16,039</td>\n",
       "      <td>No</td>\n",
       "      <td>$124,191</td>\n",
       "      <td>Yes</td>\n",
       "      <td>...</td>\n",
       "      <td>z_SUV</td>\n",
       "      <td>no</td>\n",
       "      <td>$38,690</td>\n",
       "      <td>2</td>\n",
       "      <td>No</td>\n",
       "      <td>3</td>\n",
       "      <td>$0</td>\n",
       "      <td>10.0</td>\n",
       "      <td>0</td>\n",
       "      <td>Highly Urban/ Urban</td>\n",
       "    </tr>\n",
       "    <tr>\n",
       "      <th>4</th>\n",
       "      <td>450221861</td>\n",
       "      <td>0</td>\n",
       "      <td>05JUN48</td>\n",
       "      <td>51.0</td>\n",
       "      <td>0</td>\n",
       "      <td>14.0</td>\n",
       "      <td>NaN</td>\n",
       "      <td>No</td>\n",
       "      <td>$306,251</td>\n",
       "      <td>Yes</td>\n",
       "      <td>...</td>\n",
       "      <td>Minivan</td>\n",
       "      <td>yes</td>\n",
       "      <td>$0</td>\n",
       "      <td>0</td>\n",
       "      <td>No</td>\n",
       "      <td>0</td>\n",
       "      <td>$0</td>\n",
       "      <td>6.0</td>\n",
       "      <td>0</td>\n",
       "      <td>Highly Urban/ Urban</td>\n",
       "    </tr>\n",
       "  </tbody>\n",
       "</table>\n",
       "<p>5 rows × 27 columns</p>\n",
       "</div>"
      ],
      "text/plain": [
       "          ID  KIDSDRIV    BIRTH   AGE  HOMEKIDS   YOJ   INCOME PARENT1  \\\n",
       "0   63581743         0  16MAR39  60.0         0  11.0  $67,349      No   \n",
       "1  132761049         0  21JAN56  43.0         0  11.0  $91,449      No   \n",
       "2  921317019         0  18NOV51  48.0         0  11.0  $52,881      No   \n",
       "3  727598473         0  05MAR64  35.0         1  10.0  $16,039      No   \n",
       "4  450221861         0  05JUN48  51.0         0  14.0      NaN      No   \n",
       "\n",
       "   HOME_VAL MSTATUS  ... CAR_TYPE RED_CAR OLDCLAIM  CLM_FREQ REVOKED MVR_PTS  \\\n",
       "0        $0    z_No  ...  Minivan     yes   $4,461         2      No       3   \n",
       "1  $257,252    z_No  ...  Minivan     yes       $0         0      No       0   \n",
       "2        $0    z_No  ...      Van     yes       $0         0      No       2   \n",
       "3  $124,191     Yes  ...    z_SUV      no  $38,690         2      No       3   \n",
       "4  $306,251     Yes  ...  Minivan     yes       $0         0      No       0   \n",
       "\n",
       "   CLM_AMT CAR_AGE CLAIM_FLAG           URBANICITY  \n",
       "0       $0    18.0          0  Highly Urban/ Urban  \n",
       "1       $0     1.0          0  Highly Urban/ Urban  \n",
       "2       $0    10.0          0  Highly Urban/ Urban  \n",
       "3       $0    10.0          0  Highly Urban/ Urban  \n",
       "4       $0     6.0          0  Highly Urban/ Urban  \n",
       "\n",
       "[5 rows x 27 columns]"
      ]
     },
     "execution_count": 203,
     "metadata": {},
     "output_type": "execute_result"
    }
   ],
   "source": [
    "df = pd.read_csv(\"car_insurance_claim.csv\")\n",
    "df.head()"
   ]
  },
  {
   "cell_type": "markdown",
   "id": "717218b2-f56b-4795-87a2-46d11da2dba5",
   "metadata": {
    "tags": []
   },
   "source": [
    "### Opis zmiennych"
   ]
  },
  {
   "cell_type": "code",
   "execution_count": 204,
   "id": "ddbfd4fa-f54c-45ef-a8c2-93aeb0dc2323",
   "metadata": {},
   "outputs": [
    {
     "name": "stdout",
     "output_type": "stream",
     "text": [
      "<class 'pandas.core.frame.DataFrame'>\n",
      "RangeIndex: 10302 entries, 0 to 10301\n",
      "Data columns (total 27 columns):\n",
      " #   Column      Non-Null Count  Dtype  \n",
      "---  ------      --------------  -----  \n",
      " 0   ID          10302 non-null  int64  \n",
      " 1   KIDSDRIV    10302 non-null  int64  \n",
      " 2   BIRTH       10302 non-null  object \n",
      " 3   AGE         10295 non-null  float64\n",
      " 4   HOMEKIDS    10302 non-null  int64  \n",
      " 5   YOJ         9754 non-null   float64\n",
      " 6   INCOME      9732 non-null   object \n",
      " 7   PARENT1     10302 non-null  object \n",
      " 8   HOME_VAL    9727 non-null   object \n",
      " 9   MSTATUS     10302 non-null  object \n",
      " 10  GENDER      10302 non-null  object \n",
      " 11  EDUCATION   10302 non-null  object \n",
      " 12  OCCUPATION  9637 non-null   object \n",
      " 13  TRAVTIME    10302 non-null  int64  \n",
      " 14  CAR_USE     10302 non-null  object \n",
      " 15  BLUEBOOK    10302 non-null  object \n",
      " 16  TIF         10302 non-null  int64  \n",
      " 17  CAR_TYPE    10302 non-null  object \n",
      " 18  RED_CAR     10302 non-null  object \n",
      " 19  OLDCLAIM    10302 non-null  object \n",
      " 20  CLM_FREQ    10302 non-null  int64  \n",
      " 21  REVOKED     10302 non-null  object \n",
      " 22  MVR_PTS     10302 non-null  int64  \n",
      " 23  CLM_AMT     10302 non-null  object \n",
      " 24  CAR_AGE     9663 non-null   float64\n",
      " 25  CLAIM_FLAG  10302 non-null  int64  \n",
      " 26  URBANICITY  10302 non-null  object \n",
      "dtypes: float64(3), int64(8), object(16)\n",
      "memory usage: 2.1+ MB\n"
     ]
    }
   ],
   "source": [
    "df.info()"
   ]
  },
  {
   "cell_type": "markdown",
   "id": "bd4d5c14",
   "metadata": {},
   "source": [
    "Załadowane dane składają się z 10303 wierszy i 27 kolumn. Część zmiennych zawiera braki danych, które zostaną z badane w daleszej części analizy."
   ]
  },
  {
   "cell_type": "markdown",
   "id": "e7563a5e",
   "metadata": {},
   "source": [
    "### Zawartość ramki danych"
   ]
  },
  {
   "cell_type": "markdown",
   "id": "91e55adb-fb53-47d7-a9b2-34328481bbe7",
   "metadata": {},
   "source": [
    "'ID' - Identyfikator </br>\n",
    "'KIDSDRIV' - Liczba dzieci klienta mogących prowadzić samochód </br>\n",
    "'BIRTH' - Data urodzenia </br>\n",
    "'AGE' - Wiek </br>\n",
    "'HOMEKIDS' - Liczba dzieci w domu klienta </br>\n",
    "'YOJ' - Liczba przepracowanych lat w miejscu pracy</br>\n",
    "'INCOME' - Dochód </br>\n",
    "'PARENT1' - Czy klient jest samotnym rodzicem </br>\n",
    "'HOME_VAL' - Wartość domu </br>\n",
    "'MSTATUS' - Stan cywilny </br>\n",
    "'GENDER' - Płeć </br>\n",
    "'EDUCATION' - Poziom wykształcenia </br>\n",
    "'OCCUPATION' - Zawód </br>\n",
    "'TRAVTIME' - Czas dojazdu do pracy w minutach </br>\n",
    "'CAR_USE' - Charakter użytkowania pojazdu (prywatny/komercyjny) </br>\n",
    "'BLUEBOOK' - Wartość pojazdu </br>\n",
    "'TIF' - Liczba lat jako klient TU (Time in Force) </br>\n",
    "'CAR_TYPE' - Typ pojazdu </br>\n",
    "'RED_CAR' - Czy samochód ma kolor czerwony </br>\n",
    "'OLDCLAIM' - Łączna wartość szkód w ostatnich 5 latach </br>\n",
    "'CLM_FREQ' - Liczba szkód w ostatnich 5 latach </br>\n",
    "'REVOKED' - Odebranie prawa jazdy w ostatnich 7 latach  </br>\n",
    "'MVR_PTS' - Punkty karne (Motor Vehicle Record Points) </br>\n",
    "'CLM_AMT' - Wartość szkody </br>\n",
    "'CAR_AGE' - Wiek samochodu </br>\n",
    "'CLAIM_FLAG' - Wystąpienie szkody </br>\n",
    "'URBANICITY' - Stopień urbanizacji miejsca zamieszkania </br>"
   ]
  },
  {
   "cell_type": "markdown",
   "id": "06cd6c18",
   "metadata": {},
   "source": [
    "### Weryfikacja unikalnych wartości i poprawności typów danych"
   ]
  },
  {
   "cell_type": "code",
   "execution_count": 205,
   "id": "06c7005c",
   "metadata": {},
   "outputs": [
    {
     "name": "stdout",
     "output_type": "stream",
     "text": [
      "ID int64\n",
      "[ 63581743 132761049 921317019 ...  67790126 849208064 680381960]\n",
      "KIDSDRIV int64\n",
      "[0 1 2 3 4]\n",
      "BIRTH object\n",
      "['16MAR39' '21JAN56' '18NOV51' ... '13AUG54' '18JUN51' '27FEB47']\n",
      "AGE float64\n",
      "[60. 43. 48. 35. 51. 50. 34. 54. 40. 44. 37. 53. 55. 45. 39. 59. 42. 31.\n",
      " 28. 47. 46. 33. 32. 49. 36. 52. 41. 56. 38. 63. 62. 30. 29. 58. 64. 66.\n",
      " 26. 61. 80. 57. nan 25. 27. 20. 21. 19. 72. 69. 24. 67. 22. 23. 65. 70.\n",
      " 17. 16. 81. 73. 71. 68. 18. 76.]\n",
      "HOMEKIDS int64\n",
      "[0 1 2 3 4 5]\n",
      "YOJ float64\n",
      "[11. 10. 14. nan 12.  7.  5.  0. 13.  9. 17.  8. 15. 16.  6. 18. 23.  4.\n",
      "  3.  2. 19.  1.]\n",
      "INCOME object\n",
      "['$67,349' '$91,449' '$52,881' ... '$164,669' '$107,204' '$53,235']\n",
      "PARENT1 object\n",
      "['No' 'Yes']\n",
      "HOME_VAL object\n",
      "['$0' '$257,252' '$124,191' ... '$332,591' '$170,611' '$197,017']\n",
      "MSTATUS object\n",
      "['z_No' 'Yes']\n",
      "GENDER object\n",
      "['M' 'z_F']\n",
      "EDUCATION object\n",
      "['PhD' 'z_High School' 'Bachelors' '<High School' 'Masters']\n",
      "OCCUPATION object\n",
      "['Professional' 'z_Blue Collar' 'Manager' 'Clerical' 'Doctor' 'Lawyer' nan\n",
      " 'Home Maker' 'Student']\n",
      "TRAVTIME int64\n",
      "[ 14  22  26   5  32  36  46  33  21  30  44  34  48  15  25  64  74  43\n",
      "  45  42  27  29  52   8   7  16  37  12  38  65  18  47  10  40  62  35\n",
      "  24  20  50  13  31  28  11   9  57  49  61  41  23  59  17  63  53  68\n",
      "  54  60  39  69  55  73  51  58  81  19   6  83  56  75  84  70  67  72\n",
      "  79  76  78  66  88  71  90  86  87 113  80  98  77  93  82 124  85 142\n",
      "  99  95 105  92 134  89 103  97  91 101]\n",
      "CAR_USE object\n",
      "['Private' 'Commercial']\n",
      "BLUEBOOK object\n",
      "['$14,230' '$14,940' '$21,970' ... '$2,790' '$28,490' '$32,960']\n",
      "TIF int64\n",
      "[11  1  4  7  6 10  9 17 18 13  5  3 16 12  8 14 20 22 21  2 15 19 25]\n",
      "CAR_TYPE object\n",
      "['Minivan' 'Van' 'z_SUV' 'Sports Car' 'Panel Truck' 'Pickup']\n",
      "RED_CAR object\n",
      "['yes' 'no']\n",
      "OLDCLAIM object\n",
      "['$4,461' '$0' '$38,690' ... '$33,026' '$3,995' '$9,245']\n",
      "CLM_FREQ int64\n",
      "[2 0 1 3 5 4]\n",
      "REVOKED object\n",
      "['No' 'Yes']\n",
      "MVR_PTS int64\n",
      "[ 3  0  2 10  1  4  5 13  8  6  7  9 11 12]\n",
      "CLM_AMT object\n",
      "['$0' '$2,946' '$6,477' ... '$3,106' '$3,135' '$1,815']\n",
      "CAR_AGE float64\n",
      "[18.  1. 10.  6. 17.  7. 11.  9.  4.  5. 13. 16. 20. 14. 12. 15. nan  8.\n",
      "  3. 21. 19. 23.  0. 22.  2. 26. 27. 24. 25. -3. 28.]\n",
      "CLAIM_FLAG int64\n",
      "[0 1]\n",
      "URBANICITY object\n",
      "['Highly Urban/ Urban' 'z_Highly Rural/ Rural']\n"
     ]
    }
   ],
   "source": [
    "for i in df.columns:\n",
    "    print(i, df[i].dtype)\n",
    "    print(df.loc[:,i].unique())"
   ]
  },
  {
   "cell_type": "markdown",
   "id": "d1664da2",
   "metadata": {},
   "source": [
    "Zidentyfikowano zmienne z nieprawidłowymi typami danych lub wartościami, które należy poprawić. Zmienna 'BIRTH' zapisana jest w formacie 'DDMMMRR' (np. '21MAR67') i traktowana jako tekst - należy dokonać konwersji na typ daty (datetime). Zmienne INCOME, HOME_VAL, BLUEBOOK, OLDCLAIM, CLM_AMT zawierają wartości liczbowe poprzedzone znakiem '$' z separatorem tysięcy ',' - oba znaki należy usunąć i dokonać konwersji na typ liczbowy (float/int). W danych występuje 10 zmiennych jakościowych traktowanych jako tekst a ponadto część wartości zawiera prefiks 'z_', który należy usunąć. Ww. zmienne powinny zostać przekonwertowane na typ kategorii (category)."
   ]
  },
  {
   "cell_type": "markdown",
   "id": "60866400",
   "metadata": {},
   "source": [
    "### Oczyszczenie zmiennych i zmiana typów danych"
   ]
  },
  {
   "cell_type": "markdown",
   "id": "23c33cf9-6392-4fc7-a62e-2ba73436097c",
   "metadata": {},
   "source": [
    "2.1. Usunięcie znaków '$' i ',' w zmiennych ilosciowych"
   ]
  },
  {
   "cell_type": "code",
   "execution_count": 206,
   "id": "fcdcbd48",
   "metadata": {},
   "outputs": [
    {
     "name": "stdout",
     "output_type": "stream",
     "text": [
      "INCOME\n",
      "HOME_VAL\n",
      "BLUEBOOK\n",
      "OLDCLAIM\n",
      "CLM_AMT\n"
     ]
    }
   ],
   "source": [
    "# Zamiana znaków '$' i ',' na '' i konwersja typu na float\n",
    "for i in df.columns:\n",
    "    n = 0\n",
    "    for j in list(df[i].values):\n",
    "        if '$' in str(j):\n",
    "            n += 1\n",
    "            print(i)\n",
    "            if n >= 1:\n",
    "                df[i] = df[i].str.replace('$', '')\n",
    "                df[i] = df[i].str.replace(',', '').astype(np.float32)\n",
    "                break"
   ]
  },
  {
   "cell_type": "markdown",
   "id": "23c33cf9-6392-4fc7-a62e-2ba73436097c",
   "metadata": {},
   "source": [
    "2.2. Konwersja BIRTHDATE na typ daty"
   ]
  },
  {
   "cell_type": "code",
   "execution_count": 207,
   "id": "abf74f07",
   "metadata": {},
   "outputs": [
    {
     "data": {
      "text/plain": [
       "min    7\n",
       "max    7\n",
       "Name: BIRTH, dtype: int64"
      ]
     },
     "execution_count": 207,
     "metadata": {},
     "output_type": "execute_result"
    }
   ],
   "source": [
    "# Sprawdzenie czy wszystkie wartości w kolumnie 'BIRTH' mają dokładnie 7 znaków\n",
    "df['BIRTH'].apply(lambda row: len(row)).agg(['min', 'max'])"
   ]
  },
  {
   "cell_type": "code",
   "execution_count": 208,
   "id": "607ac7d3",
   "metadata": {},
   "outputs": [
    {
     "data": {
      "text/plain": [
       "min    18\n",
       "max    87\n",
       "Name: BIRTH, dtype: object"
      ]
     },
     "execution_count": 208,
     "metadata": {},
     "output_type": "execute_result"
    }
   ],
   "source": [
    "# Sprawdzenie czy wartości mogą pochodzić z XXI wieku\n",
    "df['BIRTH'].apply(lambda row: row[-2:]).agg(['min', 'max'])"
   ]
  },
  {
   "cell_type": "markdown",
   "id": "a4a7ec54",
   "metadata": {},
   "source": [
    "Daty urodzenia obejmują lata 1918-1987"
   ]
  },
  {
   "cell_type": "code",
   "execution_count": 209,
   "id": "9fe180b0",
   "metadata": {},
   "outputs": [
    {
     "data": {
      "text/plain": [
       "0    16MAR1939\n",
       "1    21JAN1956\n",
       "2    18NOV1951\n",
       "3    05MAR1964\n",
       "4    05JUN1948\n",
       "Name: BIRTH, dtype: object"
      ]
     },
     "execution_count": 209,
     "metadata": {},
     "output_type": "execute_result"
    }
   ],
   "source": [
    "# Modyfikacja roku urodzenia na pełny rok w celu łatwiejszej konwersji\n",
    "df['BIRTH'] = df['BIRTH'].apply(lambda row: row[:-2] + '19' +  row[-2:])\n",
    "df['BIRTH'].head()"
   ]
  },
  {
   "cell_type": "code",
   "execution_count": 210,
   "id": "89c1e3d3",
   "metadata": {},
   "outputs": [],
   "source": [
    "df['BIRTH'] = pd.to_datetime(df['BIRTH'], format='%d%b%Y')"
   ]
  },
  {
   "cell_type": "markdown",
   "id": "52338c62",
   "metadata": {},
   "source": [
    "2.3. Usunięcie przedrostka 'z_'"
   ]
  },
  {
   "cell_type": "code",
   "execution_count": 211,
   "id": "07741b11",
   "metadata": {},
   "outputs": [
    {
     "name": "stdout",
     "output_type": "stream",
     "text": [
      "['z_No' 'Yes']\n",
      "['M' 'z_F']\n",
      "['PhD' 'z_High School' 'Bachelors' '<High School' 'Masters']\n",
      "['Professional' 'z_Blue Collar' 'Manager' 'Clerical' 'Doctor' 'Lawyer' nan\n",
      " 'Home Maker' 'Student']\n",
      "['Minivan' 'Van' 'z_SUV' 'Sports Car' 'Panel Truck' 'Pickup']\n",
      "['Highly Urban/ Urban' 'z_Highly Rural/ Rural']\n"
     ]
    }
   ],
   "source": [
    "# Wartości przed zmianą\n",
    "for i in ['MSTATUS', 'GENDER', 'EDUCATION', 'OCCUPATION', 'CAR_TYPE', 'URBANICITY']:\n",
    "    print(df.loc[:,i].unique())"
   ]
  },
  {
   "cell_type": "code",
   "execution_count": 212,
   "id": "fbcabcc0",
   "metadata": {},
   "outputs": [],
   "source": [
    "# Usunięcie przedrostka 'z_'\n",
    "for i in ['MSTATUS', 'GENDER', 'EDUCATION', 'OCCUPATION', 'CAR_TYPE', 'URBANICITY']:\n",
    "    df.loc[:,i] = df.loc[:,i].apply(lambda row: row.replace('z_', '') if type(row) == str else row)"
   ]
  },
  {
   "cell_type": "code",
   "execution_count": 213,
   "id": "0857786e",
   "metadata": {},
   "outputs": [
    {
     "name": "stdout",
     "output_type": "stream",
     "text": [
      "['No' 'Yes']\n",
      "['M' 'F']\n",
      "['PhD' 'High School' 'Bachelors' '<High School' 'Masters']\n",
      "['Professional' 'Blue Collar' 'Manager' 'Clerical' 'Doctor' 'Lawyer' nan\n",
      " 'Home Maker' 'Student']\n",
      "['Minivan' 'Van' 'SUV' 'Sports Car' 'Panel Truck' 'Pickup']\n",
      "['Highly Urban/ Urban' 'Highly Rural/ Rural']\n"
     ]
    }
   ],
   "source": [
    "# Wartości po zmianie\n",
    "for i in ['MSTATUS', 'GENDER', 'EDUCATION', 'OCCUPATION', 'CAR_TYPE', 'URBANICITY']:\n",
    "    print(df.loc[:,i].unique())"
   ]
  },
  {
   "cell_type": "markdown",
   "id": "e21539e5",
   "metadata": {},
   "source": [
    "2.4. Weryfikacja pozostałych kategorii"
   ]
  },
  {
   "cell_type": "code",
   "execution_count": 214,
   "id": "4e007049",
   "metadata": {},
   "outputs": [
    {
     "name": "stdout",
     "output_type": "stream",
     "text": [
      "['No' 'Yes']\n",
      "['Private' 'Commercial']\n",
      "['yes' 'no']\n",
      "['No' 'Yes']\n"
     ]
    }
   ],
   "source": [
    "for i in ['PARENT1', 'CAR_USE', 'RED_CAR', 'REVOKED']:\n",
    "    print(df.loc[:,i].unique())"
   ]
  },
  {
   "cell_type": "code",
   "execution_count": 215,
   "id": "e9763cf4",
   "metadata": {},
   "outputs": [],
   "source": [
    "df['RED_CAR'] = df['RED_CAR'].replace(['no', 'yes'], ['No', 'Yes'])"
   ]
  },
  {
   "cell_type": "markdown",
   "id": "fc496ac4",
   "metadata": {},
   "source": [
    "2.5. Konwersja zmiennych typu tekstowego na typ kategorii oraz zmiennych 0-1 na bool"
   ]
  },
  {
   "cell_type": "code",
   "execution_count": 220,
   "id": "480c112a",
   "metadata": {},
   "outputs": [],
   "source": [
    "df['PARENT1'][df['PARENT1'] == 'Yes'] = True\n",
    "df['PARENT1'][df['PARENT1'] == 'No'] = False\n",
    "df['PARENT1'] = df['PARENT1'].astype('bool')\n",
    "\n",
    "df['MSTATUS'][df['MSTATUS'] == 'Yes'] = True\n",
    "df['MSTATUS'][df['MSTATUS'] == 'No'] = False\n",
    "df['MSTATUS'] = df['MSTATUS'].astype('bool')\n",
    "\n",
    "df['RED_CAR'][df['RED_CAR'] == 'Yes'] = True \n",
    "df['RED_CAR'][df['RED_CAR'] == 'No'] = False\n",
    "df['RED_CAR'] = df['RED_CAR'].astype('bool')\n",
    "\n",
    "df['REVOKED'][df['REVOKED'] == 'Yes'] = True\n",
    "df['REVOKED'][df['REVOKED'] == 'No'] = False\n",
    "df['REVOKED'] = df['REVOKED'].astype('bool')\n",
    "\n",
    "df['CLAIM_FLAG'] = df['CLAIM_FLAG'].astype('bool')"
   ]
  },
  {
   "cell_type": "code",
   "execution_count": 222,
   "id": "910b27f8",
   "metadata": {},
   "outputs": [],
   "source": [
    "for i in df.columns:\n",
    "    if df[i].dtype == 'object':\n",
    "        df[i] = df[i].astype('category')"
   ]
  },
  {
   "cell_type": "code",
   "execution_count": 225,
   "id": "d742b76a",
   "metadata": {},
   "outputs": [
    {
     "name": "stdout",
     "output_type": "stream",
     "text": [
      "<class 'pandas.core.frame.DataFrame'>\n",
      "RangeIndex: 10302 entries, 0 to 10301\n",
      "Data columns (total 27 columns):\n",
      " #   Column      Non-Null Count  Dtype         \n",
      "---  ------      --------------  -----         \n",
      " 0   ID          10302 non-null  int64         \n",
      " 1   KIDSDRIV    10302 non-null  int64         \n",
      " 2   BIRTH       10302 non-null  datetime64[ns]\n",
      " 3   AGE         10295 non-null  float64       \n",
      " 4   HOMEKIDS    10302 non-null  int64         \n",
      " 5   YOJ         9754 non-null   float64       \n",
      " 6   INCOME      9732 non-null   float32       \n",
      " 7   PARENT1     10302 non-null  bool          \n",
      " 8   HOME_VAL    9727 non-null   float32       \n",
      " 9   MSTATUS     10302 non-null  bool          \n",
      " 10  GENDER      10302 non-null  category      \n",
      " 11  EDUCATION   10302 non-null  category      \n",
      " 12  OCCUPATION  9637 non-null   category      \n",
      " 13  TRAVTIME    10302 non-null  int64         \n",
      " 14  CAR_USE     10302 non-null  category      \n",
      " 15  BLUEBOOK    10302 non-null  float32       \n",
      " 16  TIF         10302 non-null  int64         \n",
      " 17  CAR_TYPE    10302 non-null  category      \n",
      " 18  RED_CAR     10302 non-null  bool          \n",
      " 19  OLDCLAIM    10302 non-null  float32       \n",
      " 20  CLM_FREQ    10302 non-null  int64         \n",
      " 21  REVOKED     10302 non-null  bool          \n",
      " 22  MVR_PTS     10302 non-null  int64         \n",
      " 23  CLM_AMT     10302 non-null  float32       \n",
      " 24  CAR_AGE     9663 non-null   float64       \n",
      " 25  CLAIM_FLAG  10302 non-null  bool          \n",
      " 26  URBANICITY  10302 non-null  category      \n",
      "dtypes: bool(5), category(6), datetime64[ns](1), float32(5), float64(3), int64(7)\n",
      "memory usage: 1.2 MB\n"
     ]
    }
   ],
   "source": [
    "df.info()"
   ]
  },
  {
   "cell_type": "markdown",
   "id": "1c46d606",
   "metadata": {},
   "source": [
    "Po wykonaniu powyższych operacji zmienne mają poprawne typy danych:\n",
    "- 11 zmiennych jakościowych (w tym 5 zmiennych 0-1)\n",
    "- 15 zmiennych ilościowych\n",
    "- 1 zmienna opisująca datę."
   ]
  },
  {
   "cell_type": "markdown",
   "id": "7d629c28",
   "metadata": {},
   "source": [
    "### Walidacja dat i zmiennych ilościowych w zbiorze"
   ]
  },
  {
   "cell_type": "markdown",
   "id": "5720cb3b",
   "metadata": {},
   "source": [
    "3.1. Walidacja zakresu"
   ]
  },
  {
   "cell_type": "code",
   "execution_count": 226,
   "id": "ded74da8",
   "metadata": {},
   "outputs": [
    {
     "data": {
      "text/html": [
       "<div>\n",
       "<style scoped>\n",
       "    .dataframe tbody tr th:only-of-type {\n",
       "        vertical-align: middle;\n",
       "    }\n",
       "\n",
       "    .dataframe tbody tr th {\n",
       "        vertical-align: top;\n",
       "    }\n",
       "\n",
       "    .dataframe thead th {\n",
       "        text-align: right;\n",
       "    }\n",
       "</style>\n",
       "<table border=\"1\" class=\"dataframe\">\n",
       "  <thead>\n",
       "    <tr style=\"text-align: right;\">\n",
       "      <th></th>\n",
       "      <th>KIDSDRIV</th>\n",
       "      <th>BIRTH</th>\n",
       "      <th>AGE</th>\n",
       "      <th>HOMEKIDS</th>\n",
       "      <th>YOJ</th>\n",
       "      <th>INCOME</th>\n",
       "      <th>PARENT1</th>\n",
       "      <th>HOME_VAL</th>\n",
       "      <th>MSTATUS</th>\n",
       "      <th>TRAVTIME</th>\n",
       "      <th>BLUEBOOK</th>\n",
       "      <th>TIF</th>\n",
       "      <th>RED_CAR</th>\n",
       "      <th>OLDCLAIM</th>\n",
       "      <th>CLM_FREQ</th>\n",
       "      <th>REVOKED</th>\n",
       "      <th>MVR_PTS</th>\n",
       "      <th>CLM_AMT</th>\n",
       "      <th>CAR_AGE</th>\n",
       "      <th>CLAIM_FLAG</th>\n",
       "    </tr>\n",
       "  </thead>\n",
       "  <tbody>\n",
       "    <tr>\n",
       "      <th>min</th>\n",
       "      <td>0</td>\n",
       "      <td>1918-07-04</td>\n",
       "      <td>16.0</td>\n",
       "      <td>0</td>\n",
       "      <td>0.0</td>\n",
       "      <td>0.0</td>\n",
       "      <td>False</td>\n",
       "      <td>0.0</td>\n",
       "      <td>False</td>\n",
       "      <td>5</td>\n",
       "      <td>1500.0</td>\n",
       "      <td>1</td>\n",
       "      <td>False</td>\n",
       "      <td>0.0</td>\n",
       "      <td>0</td>\n",
       "      <td>False</td>\n",
       "      <td>0</td>\n",
       "      <td>0.0</td>\n",
       "      <td>-3.0</td>\n",
       "      <td>False</td>\n",
       "    </tr>\n",
       "    <tr>\n",
       "      <th>max</th>\n",
       "      <td>4</td>\n",
       "      <td>1987-12-03</td>\n",
       "      <td>81.0</td>\n",
       "      <td>5</td>\n",
       "      <td>23.0</td>\n",
       "      <td>367030.0</td>\n",
       "      <td>True</td>\n",
       "      <td>885282.0</td>\n",
       "      <td>True</td>\n",
       "      <td>142</td>\n",
       "      <td>69740.0</td>\n",
       "      <td>25</td>\n",
       "      <td>True</td>\n",
       "      <td>57037.0</td>\n",
       "      <td>5</td>\n",
       "      <td>True</td>\n",
       "      <td>13</td>\n",
       "      <td>123247.0</td>\n",
       "      <td>28.0</td>\n",
       "      <td>True</td>\n",
       "    </tr>\n",
       "  </tbody>\n",
       "</table>\n",
       "</div>"
      ],
      "text/plain": [
       "     KIDSDRIV      BIRTH   AGE  HOMEKIDS   YOJ    INCOME  PARENT1  HOME_VAL  \\\n",
       "min         0 1918-07-04  16.0         0   0.0       0.0    False       0.0   \n",
       "max         4 1987-12-03  81.0         5  23.0  367030.0     True  885282.0   \n",
       "\n",
       "     MSTATUS  TRAVTIME  BLUEBOOK  TIF  RED_CAR  OLDCLAIM  CLM_FREQ  REVOKED  \\\n",
       "min    False         5    1500.0    1    False       0.0         0    False   \n",
       "max     True       142   69740.0   25     True   57037.0         5     True   \n",
       "\n",
       "     MVR_PTS   CLM_AMT  CAR_AGE  CLAIM_FLAG  \n",
       "min        0       0.0     -3.0       False  \n",
       "max       13  123247.0     28.0        True  "
      ]
     },
     "execution_count": 226,
     "metadata": {},
     "output_type": "execute_result"
    }
   ],
   "source": [
    "df.iloc[:,1:].agg(['min', 'max'])"
   ]
  },
  {
   "cell_type": "markdown",
   "id": "6bbb8fb1",
   "metadata": {},
   "source": [
    "Zakresy wartości zmiennych nie budzą zastrzeżeń za wyjątkiem zmiennej 'CAR_AGE', w której występuje jedna wartość ujemna:"
   ]
  },
  {
   "cell_type": "code",
   "execution_count": 227,
   "id": "7dca8072",
   "metadata": {},
   "outputs": [
    {
     "data": {
      "text/plain": [
       "1"
      ]
     },
     "execution_count": 227,
     "metadata": {},
     "output_type": "execute_result"
    }
   ],
   "source": [
    "len(df[df['CAR_AGE'] < 0])"
   ]
  },
  {
   "cell_type": "code",
   "execution_count": 228,
   "id": "1622cf9e",
   "metadata": {},
   "outputs": [
    {
     "data": {
      "text/plain": [
       "ID                      676425834\n",
       "KIDSDRIV                        0\n",
       "BIRTH         1952-06-02 00:00:00\n",
       "AGE                            47\n",
       "HOMEKIDS                        0\n",
       "YOJ                            12\n",
       "INCOME                      48696\n",
       "PARENT1                     False\n",
       "HOME_VAL                   212014\n",
       "MSTATUS                     False\n",
       "GENDER                          F\n",
       "EDUCATION               Bachelors\n",
       "OCCUPATION           Professional\n",
       "TRAVTIME                       46\n",
       "CAR_USE                   Private\n",
       "BLUEBOOK                    15390\n",
       "TIF                             4\n",
       "CAR_TYPE                   Pickup\n",
       "RED_CAR                     False\n",
       "OLDCLAIM                    33521\n",
       "CLM_FREQ                        3\n",
       "REVOKED                      True\n",
       "MVR_PTS                         1\n",
       "CLM_AMT                      1469\n",
       "CAR_AGE                        -3\n",
       "CLAIM_FLAG                   True\n",
       "URBANICITY    Highly Urban/ Urban\n",
       "Name: 8771, dtype: object"
      ]
     },
     "execution_count": 228,
     "metadata": {},
     "output_type": "execute_result"
    }
   ],
   "source": [
    "df[df['CAR_AGE'] < 0].squeeze()"
   ]
  },
  {
   "cell_type": "markdown",
   "id": "55e600ba",
   "metadata": {},
   "source": [
    "Prawdopodobną przyczyną błędu może być przypadkowe dopisanie znaku '-' przed wartością 3. Niepoprawną wartość należałoby usunąć, a następnie dokonać imputacji na podstawie posiadanych informacji o pozostałych zmiennych i obserwacjach lub po prostu zmienić ją na 3. Przed zastąpieniem wartości liczbą 3 zweryfikowano statystyki dotyczące wartości samochodu i dochodu 12 klientów posiadających 3-letnie pickupy: "
   ]
  },
  {
   "cell_type": "code",
   "execution_count": 229,
   "id": "be86a7e4",
   "metadata": {},
   "outputs": [
    {
     "data": {
      "text/html": [
       "<div>\n",
       "<style scoped>\n",
       "    .dataframe tbody tr th:only-of-type {\n",
       "        vertical-align: middle;\n",
       "    }\n",
       "\n",
       "    .dataframe tbody tr th {\n",
       "        vertical-align: top;\n",
       "    }\n",
       "\n",
       "    .dataframe thead th {\n",
       "        text-align: right;\n",
       "    }\n",
       "</style>\n",
       "<table border=\"1\" class=\"dataframe\">\n",
       "  <thead>\n",
       "    <tr style=\"text-align: right;\">\n",
       "      <th></th>\n",
       "      <th>BLUEBOOK</th>\n",
       "      <th>INCOME</th>\n",
       "    </tr>\n",
       "  </thead>\n",
       "  <tbody>\n",
       "    <tr>\n",
       "      <th>median</th>\n",
       "      <td>9575.0</td>\n",
       "      <td>34522.0</td>\n",
       "    </tr>\n",
       "    <tr>\n",
       "      <th>max</th>\n",
       "      <td>28870.0</td>\n",
       "      <td>85731.0</td>\n",
       "    </tr>\n",
       "    <tr>\n",
       "      <th>min</th>\n",
       "      <td>4600.0</td>\n",
       "      <td>5409.0</td>\n",
       "    </tr>\n",
       "    <tr>\n",
       "      <th>count</th>\n",
       "      <td>12.0</td>\n",
       "      <td>11.0</td>\n",
       "    </tr>\n",
       "  </tbody>\n",
       "</table>\n",
       "</div>"
      ],
      "text/plain": [
       "        BLUEBOOK   INCOME\n",
       "median    9575.0  34522.0\n",
       "max      28870.0  85731.0\n",
       "min       4600.0   5409.0\n",
       "count       12.0     11.0"
      ]
     },
     "execution_count": 229,
     "metadata": {},
     "output_type": "execute_result"
    }
   ],
   "source": [
    "# BLUEBOOK: 15390, INCOME: 48696\n",
    "df[(df['CAR_TYPE'] == 'Pickup') & (df['CAR_AGE'] == 3)][['BLUEBOOK', 'INCOME']].agg(['median', 'max', 'min', 'count'])"
   ]
  },
  {
   "cell_type": "markdown",
   "id": "ad831ba9",
   "metadata": {},
   "source": [
    "Wartość samochodu klienta z niepoprawnym wiekiem pojazdu mieści się w zakresie 4600-28870 i przewyższa medianę. Biorąc pod uwagę fakt, że również dochód klienta jest wyższy od dochodu przeciętnego właściciela analogicznego pojazdu można uznać, że analizowany klient rzeczywiście posiada 3-letni samochód będący po prostu lepszym modelem niż samochód przeciętnego klienta ze względu na wyższe dochody."
   ]
  },
  {
   "cell_type": "code",
   "execution_count": 230,
   "id": "516c3ef4",
   "metadata": {},
   "outputs": [],
   "source": [
    "df.loc[8771, 'CAR_AGE'] = 3"
   ]
  },
  {
   "cell_type": "markdown",
   "id": "1bd3b97d",
   "metadata": {},
   "source": [
    "3.2. Weryfikacja czy wszystkie dane dotyczą tego samego roku"
   ]
  },
  {
   "cell_type": "code",
   "execution_count": 231,
   "id": "a25ad91b",
   "metadata": {},
   "outputs": [
    {
     "data": {
      "text/plain": [
       "min    1998\n",
       "max    1999\n",
       "dtype: int64"
      ]
     },
     "execution_count": 231,
     "metadata": {},
     "output_type": "execute_result"
    }
   ],
   "source": [
    "dates_check = (df[~df['AGE'].isna()]['BIRTH'] + df[~df['AGE'].isna()]['AGE'].apply(lambda row: relativedelta.relativedelta(years=row))).apply(lambda row: row.year)\n",
    "dates_check.agg(['min', 'max'])"
   ]
  },
  {
   "cell_type": "markdown",
   "id": "538b7a77",
   "metadata": {},
   "source": [
    "Na podstawie analizy dat urodzenia i wieku klientów stwierdzono, że dane dotyczą lat 1998 i 1999. Prawdopodobne wydaje się, że wiek klienta określony jest na dzień zawarcia polisy, natomiast dane mogą dotyczyć szkód zgłoszonych w roku 1999. W zdecydowanej większośi bowiem uzyskany rok to 1999, zaś liczba obserwacji wskazujących na rok 1998 jest zbyt duża, aby można było uznać ją za błędną:"
   ]
  },
  {
   "cell_type": "code",
   "execution_count": 232,
   "id": "e035a1c0",
   "metadata": {},
   "outputs": [
    {
     "data": {
      "text/plain": [
       "1999    9050\n",
       "1998    1245\n",
       "dtype: int64"
      ]
     },
     "execution_count": 232,
     "metadata": {},
     "output_type": "execute_result"
    }
   ],
   "source": [
    "dates_check.value_counts()"
   ]
  },
  {
   "cell_type": "markdown",
   "id": "655ced83",
   "metadata": {},
   "source": [
    "3.3. Weryfikacja występowania braków wieku i możliwości uzupełnienia ich wykorzystując datę urodzenia"
   ]
  },
  {
   "cell_type": "code",
   "execution_count": 235,
   "id": "fb782f5f",
   "metadata": {},
   "outputs": [
    {
     "data": {
      "text/html": [
       "<div>\n",
       "<style scoped>\n",
       "    .dataframe tbody tr th:only-of-type {\n",
       "        vertical-align: middle;\n",
       "    }\n",
       "\n",
       "    .dataframe tbody tr th {\n",
       "        vertical-align: top;\n",
       "    }\n",
       "\n",
       "    .dataframe thead th {\n",
       "        text-align: right;\n",
       "    }\n",
       "</style>\n",
       "<table border=\"1\" class=\"dataframe\">\n",
       "  <thead>\n",
       "    <tr style=\"text-align: right;\">\n",
       "      <th></th>\n",
       "      <th>ID</th>\n",
       "      <th>KIDSDRIV</th>\n",
       "      <th>BIRTH</th>\n",
       "      <th>AGE</th>\n",
       "      <th>HOMEKIDS</th>\n",
       "      <th>YOJ</th>\n",
       "      <th>INCOME</th>\n",
       "      <th>PARENT1</th>\n",
       "      <th>HOME_VAL</th>\n",
       "      <th>MSTATUS</th>\n",
       "      <th>...</th>\n",
       "      <th>CAR_TYPE</th>\n",
       "      <th>RED_CAR</th>\n",
       "      <th>OLDCLAIM</th>\n",
       "      <th>CLM_FREQ</th>\n",
       "      <th>REVOKED</th>\n",
       "      <th>MVR_PTS</th>\n",
       "      <th>CLM_AMT</th>\n",
       "      <th>CAR_AGE</th>\n",
       "      <th>CLAIM_FLAG</th>\n",
       "      <th>URBANICITY</th>\n",
       "    </tr>\n",
       "  </thead>\n",
       "  <tbody>\n",
       "    <tr>\n",
       "      <th>295</th>\n",
       "      <td>242777133</td>\n",
       "      <td>0</td>\n",
       "      <td>1986-02-18</td>\n",
       "      <td>NaN</td>\n",
       "      <td>2</td>\n",
       "      <td>8.0</td>\n",
       "      <td>2954.0</td>\n",
       "      <td>True</td>\n",
       "      <td>0.0</td>\n",
       "      <td>False</td>\n",
       "      <td>...</td>\n",
       "      <td>Sports Car</td>\n",
       "      <td>True</td>\n",
       "      <td>10099.0</td>\n",
       "      <td>2</td>\n",
       "      <td>False</td>\n",
       "      <td>4</td>\n",
       "      <td>6142.0</td>\n",
       "      <td>5.0</td>\n",
       "      <td>True</td>\n",
       "      <td>Highly Urban/ Urban</td>\n",
       "    </tr>\n",
       "    <tr>\n",
       "      <th>1317</th>\n",
       "      <td>55084702</td>\n",
       "      <td>0</td>\n",
       "      <td>1983-11-21</td>\n",
       "      <td>NaN</td>\n",
       "      <td>3</td>\n",
       "      <td>0.0</td>\n",
       "      <td>0.0</td>\n",
       "      <td>True</td>\n",
       "      <td>0.0</td>\n",
       "      <td>False</td>\n",
       "      <td>...</td>\n",
       "      <td>Minivan</td>\n",
       "      <td>True</td>\n",
       "      <td>0.0</td>\n",
       "      <td>0</td>\n",
       "      <td>False</td>\n",
       "      <td>7</td>\n",
       "      <td>3092.0</td>\n",
       "      <td>8.0</td>\n",
       "      <td>True</td>\n",
       "      <td>Highly Urban/ Urban</td>\n",
       "    </tr>\n",
       "    <tr>\n",
       "      <th>1651</th>\n",
       "      <td>194301482</td>\n",
       "      <td>0</td>\n",
       "      <td>1984-10-18</td>\n",
       "      <td>NaN</td>\n",
       "      <td>2</td>\n",
       "      <td>0.0</td>\n",
       "      <td>0.0</td>\n",
       "      <td>True</td>\n",
       "      <td>0.0</td>\n",
       "      <td>False</td>\n",
       "      <td>...</td>\n",
       "      <td>SUV</td>\n",
       "      <td>True</td>\n",
       "      <td>0.0</td>\n",
       "      <td>0</td>\n",
       "      <td>False</td>\n",
       "      <td>0</td>\n",
       "      <td>3444.0</td>\n",
       "      <td>6.0</td>\n",
       "      <td>True</td>\n",
       "      <td>Highly Urban/ Urban</td>\n",
       "    </tr>\n",
       "    <tr>\n",
       "      <th>3749</th>\n",
       "      <td>919557945</td>\n",
       "      <td>0</td>\n",
       "      <td>1986-02-17</td>\n",
       "      <td>NaN</td>\n",
       "      <td>2</td>\n",
       "      <td>0.0</td>\n",
       "      <td>NaN</td>\n",
       "      <td>True</td>\n",
       "      <td>0.0</td>\n",
       "      <td>False</td>\n",
       "      <td>...</td>\n",
       "      <td>Sports Car</td>\n",
       "      <td>True</td>\n",
       "      <td>25235.0</td>\n",
       "      <td>1</td>\n",
       "      <td>True</td>\n",
       "      <td>0</td>\n",
       "      <td>2541.0</td>\n",
       "      <td>13.0</td>\n",
       "      <td>True</td>\n",
       "      <td>Highly Urban/ Urban</td>\n",
       "    </tr>\n",
       "    <tr>\n",
       "      <th>4365</th>\n",
       "      <td>968439150</td>\n",
       "      <td>0</td>\n",
       "      <td>1984-02-15</td>\n",
       "      <td>NaN</td>\n",
       "      <td>3</td>\n",
       "      <td>12.0</td>\n",
       "      <td>16227.0</td>\n",
       "      <td>False</td>\n",
       "      <td>NaN</td>\n",
       "      <td>True</td>\n",
       "      <td>...</td>\n",
       "      <td>Van</td>\n",
       "      <td>True</td>\n",
       "      <td>0.0</td>\n",
       "      <td>0</td>\n",
       "      <td>False</td>\n",
       "      <td>6</td>\n",
       "      <td>5640.0</td>\n",
       "      <td>1.0</td>\n",
       "      <td>True</td>\n",
       "      <td>Highly Urban/ Urban</td>\n",
       "    </tr>\n",
       "    <tr>\n",
       "      <th>4554</th>\n",
       "      <td>285745137</td>\n",
       "      <td>0</td>\n",
       "      <td>1985-08-17</td>\n",
       "      <td>NaN</td>\n",
       "      <td>0</td>\n",
       "      <td>9.0</td>\n",
       "      <td>14484.0</td>\n",
       "      <td>False</td>\n",
       "      <td>0.0</td>\n",
       "      <td>False</td>\n",
       "      <td>...</td>\n",
       "      <td>Sports Car</td>\n",
       "      <td>True</td>\n",
       "      <td>4518.0</td>\n",
       "      <td>1</td>\n",
       "      <td>False</td>\n",
       "      <td>1</td>\n",
       "      <td>4798.0</td>\n",
       "      <td>1.0</td>\n",
       "      <td>True</td>\n",
       "      <td>Highly Urban/ Urban</td>\n",
       "    </tr>\n",
       "    <tr>\n",
       "      <th>5227</th>\n",
       "      <td>945868698</td>\n",
       "      <td>0</td>\n",
       "      <td>1987-12-03</td>\n",
       "      <td>NaN</td>\n",
       "      <td>0</td>\n",
       "      <td>0.0</td>\n",
       "      <td>0.0</td>\n",
       "      <td>False</td>\n",
       "      <td>NaN</td>\n",
       "      <td>True</td>\n",
       "      <td>...</td>\n",
       "      <td>SUV</td>\n",
       "      <td>True</td>\n",
       "      <td>4656.0</td>\n",
       "      <td>4</td>\n",
       "      <td>False</td>\n",
       "      <td>3</td>\n",
       "      <td>0.0</td>\n",
       "      <td>1.0</td>\n",
       "      <td>False</td>\n",
       "      <td>Highly Rural/ Rural</td>\n",
       "    </tr>\n",
       "  </tbody>\n",
       "</table>\n",
       "<p>7 rows × 27 columns</p>\n",
       "</div>"
      ],
      "text/plain": [
       "             ID  KIDSDRIV      BIRTH  AGE  HOMEKIDS   YOJ   INCOME  PARENT1  \\\n",
       "295   242777133         0 1986-02-18  NaN         2   8.0   2954.0     True   \n",
       "1317   55084702         0 1983-11-21  NaN         3   0.0      0.0     True   \n",
       "1651  194301482         0 1984-10-18  NaN         2   0.0      0.0     True   \n",
       "3749  919557945         0 1986-02-17  NaN         2   0.0      NaN     True   \n",
       "4365  968439150         0 1984-02-15  NaN         3  12.0  16227.0    False   \n",
       "4554  285745137         0 1985-08-17  NaN         0   9.0  14484.0    False   \n",
       "5227  945868698         0 1987-12-03  NaN         0   0.0      0.0    False   \n",
       "\n",
       "      HOME_VAL  MSTATUS  ...    CAR_TYPE RED_CAR OLDCLAIM  CLM_FREQ REVOKED  \\\n",
       "295        0.0    False  ...  Sports Car    True  10099.0         2   False   \n",
       "1317       0.0    False  ...     Minivan    True      0.0         0   False   \n",
       "1651       0.0    False  ...         SUV    True      0.0         0   False   \n",
       "3749       0.0    False  ...  Sports Car    True  25235.0         1    True   \n",
       "4365       NaN     True  ...         Van    True      0.0         0   False   \n",
       "4554       0.0    False  ...  Sports Car    True   4518.0         1   False   \n",
       "5227       NaN     True  ...         SUV    True   4656.0         4   False   \n",
       "\n",
       "      MVR_PTS  CLM_AMT CAR_AGE  CLAIM_FLAG           URBANICITY  \n",
       "295         4   6142.0     5.0        True  Highly Urban/ Urban  \n",
       "1317        7   3092.0     8.0        True  Highly Urban/ Urban  \n",
       "1651        0   3444.0     6.0        True  Highly Urban/ Urban  \n",
       "3749        0   2541.0    13.0        True  Highly Urban/ Urban  \n",
       "4365        6   5640.0     1.0        True  Highly Urban/ Urban  \n",
       "4554        1   4798.0     1.0        True  Highly Urban/ Urban  \n",
       "5227        3      0.0     1.0       False  Highly Rural/ Rural  \n",
       "\n",
       "[7 rows x 27 columns]"
      ]
     },
     "execution_count": 235,
     "metadata": {},
     "output_type": "execute_result"
    }
   ],
   "source": [
    "df[df['AGE'].isna()]"
   ]
  },
  {
   "cell_type": "markdown",
   "id": "c11b71c5",
   "metadata": {},
   "source": [
    "Wszystkie obserwacje, które nie posiadają wartości opisującej wiek dotyczą osób urodzonych w latach 1983-1987, a zatem mających mniej niż 16 lat w roku, którego dotyczą dane. Należy zauważyć, że minimalny wiek klienta w posiadanych danych to właśnie 16 lat. Co ciekawe w przypadku 6 z 7 analizowanych klientów odnotowano szkodę. 5 z 7 klientów ma 2 lub 3 dzieci, jednak prawdopodonie na tyle młodych, że nie posiadają one jeszcze prawa jazdy ('KIDSDRIV' = 0). Wydaje się, że w większości przypadków rzeczywiście obserwacje dotyczą młodych klientów, jednak z pewnością nie takich, którzy mogliby mieć mniej niż 16 lat. Zmienną 'BIRTHDATE' można więc w ww. przypadkach uznać za błędną. Tym samym biorąc pod uwagę, że w pozostałych przypadkach wiek jest uzupełniony, zmienna nie wnosi żadnej dodatkowej wartości i można usunąć ją ze zbioru."
   ]
  },
  {
   "cell_type": "code",
   "execution_count": 236,
   "id": "deaf2cca",
   "metadata": {},
   "outputs": [],
   "source": [
    "del df['BIRTH']"
   ]
  },
  {
   "cell_type": "markdown",
   "id": "628494fb",
   "metadata": {},
   "source": [
    "3.4. Weryfikacja poprawności zmiennej YOJ (Years on Job)"
   ]
  },
  {
   "cell_type": "code",
   "execution_count": 237,
   "id": "2a87f004",
   "metadata": {},
   "outputs": [
    {
     "data": {
      "text/plain": [
       "4.0       1\n",
       "5.0       2\n",
       "6.0       1\n",
       "8.0       2\n",
       "9.0       7\n",
       "10.0      5\n",
       "11.0     11\n",
       "12.0     23\n",
       "13.0     25\n",
       "14.0     44\n",
       "15.0     40\n",
       "16.0     53\n",
       "17.0     82\n",
       "18.0     98\n",
       "19.0    117\n",
       "20.0    122\n",
       "dtype: int64"
      ]
     },
     "execution_count": 237,
     "metadata": {},
     "output_type": "execute_result"
    }
   ],
   "source": [
    "# Wyliczenie wieku klienta w momencie rozpoczęcia pracy\n",
    "yoj_check = (df['AGE'] - df['YOJ']).value_counts().sort_index()\n",
    "yoj_check[:20]"
   ]
  },
  {
   "cell_type": "code",
   "execution_count": 238,
   "id": "53edea59",
   "metadata": {},
   "outputs": [
    {
     "data": {
      "text/plain": [
       "77"
      ]
     },
     "execution_count": 238,
     "metadata": {},
     "output_type": "execute_result"
    }
   ],
   "source": [
    "yoj_check.loc[0:13].sum()"
   ]
  },
  {
   "cell_type": "code",
   "execution_count": 239,
   "id": "885abbde",
   "metadata": {},
   "outputs": [
    {
     "data": {
      "text/html": [
       "<div>\n",
       "<style scoped>\n",
       "    .dataframe tbody tr th:only-of-type {\n",
       "        vertical-align: middle;\n",
       "    }\n",
       "\n",
       "    .dataframe tbody tr th {\n",
       "        vertical-align: top;\n",
       "    }\n",
       "\n",
       "    .dataframe thead th {\n",
       "        text-align: right;\n",
       "    }\n",
       "</style>\n",
       "<table border=\"1\" class=\"dataframe\">\n",
       "  <thead>\n",
       "    <tr style=\"text-align: right;\">\n",
       "      <th></th>\n",
       "      <th>INCOME</th>\n",
       "      <th>HOME_VAL</th>\n",
       "      <th>BLUEBOOK</th>\n",
       "      <th>YOJ</th>\n",
       "    </tr>\n",
       "  </thead>\n",
       "  <tbody>\n",
       "    <tr>\n",
       "      <th>count</th>\n",
       "      <td>76.000000</td>\n",
       "      <td>74.000000</td>\n",
       "      <td>77.000000</td>\n",
       "      <td>77.000000</td>\n",
       "    </tr>\n",
       "    <tr>\n",
       "      <th>mean</th>\n",
       "      <td>29240.486328</td>\n",
       "      <td>89123.460938</td>\n",
       "      <td>11047.791992</td>\n",
       "      <td>12.493506</td>\n",
       "    </tr>\n",
       "    <tr>\n",
       "      <th>median</th>\n",
       "      <td>21488.000000</td>\n",
       "      <td>84216.500000</td>\n",
       "      <td>9430.000000</td>\n",
       "      <td>12.000000</td>\n",
       "    </tr>\n",
       "  </tbody>\n",
       "</table>\n",
       "</div>"
      ],
      "text/plain": [
       "              INCOME      HOME_VAL      BLUEBOOK        YOJ\n",
       "count      76.000000     74.000000     77.000000  77.000000\n",
       "mean    29240.486328  89123.460938  11047.791992  12.493506\n",
       "median  21488.000000  84216.500000   9430.000000  12.000000"
      ]
     },
     "metadata": {},
     "output_type": "display_data"
    },
    {
     "data": {
      "text/html": [
       "<div>\n",
       "<style scoped>\n",
       "    .dataframe tbody tr th:only-of-type {\n",
       "        vertical-align: middle;\n",
       "    }\n",
       "\n",
       "    .dataframe tbody tr th {\n",
       "        vertical-align: top;\n",
       "    }\n",
       "\n",
       "    .dataframe thead th {\n",
       "        text-align: right;\n",
       "    }\n",
       "</style>\n",
       "<table border=\"1\" class=\"dataframe\">\n",
       "  <thead>\n",
       "    <tr style=\"text-align: right;\">\n",
       "      <th></th>\n",
       "      <th>INCOME</th>\n",
       "      <th>HOME_VAL</th>\n",
       "      <th>BLUEBOOK</th>\n",
       "      <th>YOJ</th>\n",
       "    </tr>\n",
       "  </thead>\n",
       "  <tbody>\n",
       "    <tr>\n",
       "      <th>count</th>\n",
       "      <td>9137.000000</td>\n",
       "      <td>9131.000</td>\n",
       "      <td>9670.000000</td>\n",
       "      <td>9670.000000</td>\n",
       "    </tr>\n",
       "    <tr>\n",
       "      <th>mean</th>\n",
       "      <td>62012.292969</td>\n",
       "      <td>155185.625</td>\n",
       "      <td>15666.333008</td>\n",
       "      <td>10.462565</td>\n",
       "    </tr>\n",
       "    <tr>\n",
       "      <th>median</th>\n",
       "      <td>54067.000000</td>\n",
       "      <td>161587.000</td>\n",
       "      <td>14390.000000</td>\n",
       "      <td>11.000000</td>\n",
       "    </tr>\n",
       "  </tbody>\n",
       "</table>\n",
       "</div>"
      ],
      "text/plain": [
       "              INCOME    HOME_VAL      BLUEBOOK          YOJ\n",
       "count    9137.000000    9131.000   9670.000000  9670.000000\n",
       "mean    62012.292969  155185.625  15666.333008    10.462565\n",
       "median  54067.000000  161587.000  14390.000000    11.000000"
      ]
     },
     "metadata": {},
     "output_type": "display_data"
    },
    {
     "data": {
      "text/plain": [
       "High School     0.428571\n",
       "Bachelors       0.285714\n",
       "<High School    0.233766\n",
       "Masters         0.051948\n",
       "PhD             0.000000\n",
       "Name: EDUCATION, dtype: float64"
      ]
     },
     "metadata": {},
     "output_type": "display_data"
    },
    {
     "data": {
      "text/plain": [
       "High School     0.288211\n",
       "Bachelors       0.272389\n",
       "Masters         0.201965\n",
       "<High School    0.145502\n",
       "PhD             0.091934\n",
       "Name: EDUCATION, dtype: float64"
      ]
     },
     "metadata": {},
     "output_type": "display_data"
    }
   ],
   "source": [
    "display(df[(df['AGE'] - df['YOJ']) <= 13][['INCOME', 'HOME_VAL', 'BLUEBOOK', 'YOJ']].agg(['count', 'mean', 'median']))\n",
    "display(df[(df['AGE'] - df['YOJ']) > 13][['INCOME', 'HOME_VAL', 'BLUEBOOK', 'YOJ']].agg(['count', 'mean', 'median']))\n",
    "display(df[(df['AGE'] - df['YOJ']) <= 13]['EDUCATION'].value_counts(normalize=True))\n",
    "display(df[(df['AGE'] - df['YOJ']) > 13]['EDUCATION'].value_counts(normalize=True))"
   ]
  },
  {
   "cell_type": "markdown",
   "id": "3c9422c2",
   "metadata": {},
   "source": [
    "Zidentyfikowano przypadki, które budzą wątpliwości co do merytorycznej poprawności danych dotyczących wieku i liczby przepracowanych lat. W 77 z nich klient musiałby rozpocząć pracę w wieku co najwyżej 13 lat. Analizując powyższe przypadki i porównując je z pozostałymi obserwacjami można stwierdzić wyraźne różnice w zamożności między obiema grupami pomimo podobnej liczby przepracowanych lat. Są to także osoby, które przeciętnie charakteryzują się niższym wykształceniem w stosunku do pozostałych klientów, co może sugerować wczesne rozpoczęcie pracy związane np. z trudną sytuacją materialną. Nie można zatem z całą pewnością stwierdzić błędów w danych, tym bardziej, że przypadki rozpoczęcia pracy w wieku poniżej 10 lat, a więc szczególnie podejrzane, występują tylko 13 razy. Należy jednak mieć na uwadze, że dane mogą zawierać błędy."
   ]
  },
  {
   "cell_type": "markdown",
   "id": "9217b844",
   "metadata": {},
   "source": [
    "### Analiza i imputacja braków danych"
   ]
  },
  {
   "cell_type": "code",
   "execution_count": 240,
   "id": "42ec0d3d",
   "metadata": {},
   "outputs": [
    {
     "data": {
      "text/plain": [
       "ID              0\n",
       "KIDSDRIV        0\n",
       "AGE             7\n",
       "HOMEKIDS        0\n",
       "YOJ           548\n",
       "INCOME        570\n",
       "PARENT1         0\n",
       "HOME_VAL      575\n",
       "MSTATUS         0\n",
       "GENDER          0\n",
       "EDUCATION       0\n",
       "OCCUPATION    665\n",
       "TRAVTIME        0\n",
       "CAR_USE         0\n",
       "BLUEBOOK        0\n",
       "TIF             0\n",
       "CAR_TYPE        0\n",
       "RED_CAR         0\n",
       "OLDCLAIM        0\n",
       "CLM_FREQ        0\n",
       "REVOKED         0\n",
       "MVR_PTS         0\n",
       "CLM_AMT         0\n",
       "CAR_AGE       639\n",
       "CLAIM_FLAG      0\n",
       "URBANICITY      0\n",
       "dtype: int64"
      ]
     },
     "execution_count": 240,
     "metadata": {},
     "output_type": "execute_result"
    }
   ],
   "source": [
    "df.isna().sum()"
   ]
  },
  {
   "cell_type": "code",
   "execution_count": null,
   "id": "756174b7",
   "metadata": {},
   "outputs": [],
   "source": []
  },
  {
   "cell_type": "code",
   "execution_count": null,
   "id": "4e443429",
   "metadata": {},
   "outputs": [],
   "source": []
  },
  {
   "cell_type": "code",
   "execution_count": null,
   "id": "630215e3",
   "metadata": {},
   "outputs": [],
   "source": []
  },
  {
   "cell_type": "markdown",
   "id": "93600818",
   "metadata": {},
   "source": [
    "### Wstępna analiza danych"
   ]
  },
  {
   "cell_type": "markdown",
   "id": "f294e526",
   "metadata": {},
   "source": [
    "5.1. Podstawowe statystyki opisowe zmiennych ilościowych"
   ]
  },
  {
   "cell_type": "code",
   "execution_count": 241,
   "id": "21f8eccd",
   "metadata": {},
   "outputs": [
    {
     "data": {
      "text/html": [
       "<div>\n",
       "<style scoped>\n",
       "    .dataframe tbody tr th:only-of-type {\n",
       "        vertical-align: middle;\n",
       "    }\n",
       "\n",
       "    .dataframe tbody tr th {\n",
       "        vertical-align: top;\n",
       "    }\n",
       "\n",
       "    .dataframe thead th {\n",
       "        text-align: right;\n",
       "    }\n",
       "</style>\n",
       "<table border=\"1\" class=\"dataframe\">\n",
       "  <thead>\n",
       "    <tr style=\"text-align: right;\">\n",
       "      <th></th>\n",
       "      <th>KIDSDRIV</th>\n",
       "      <th>AGE</th>\n",
       "      <th>HOMEKIDS</th>\n",
       "      <th>YOJ</th>\n",
       "      <th>INCOME</th>\n",
       "      <th>HOME_VAL</th>\n",
       "      <th>TRAVTIME</th>\n",
       "      <th>BLUEBOOK</th>\n",
       "      <th>TIF</th>\n",
       "      <th>OLDCLAIM</th>\n",
       "      <th>CLM_FREQ</th>\n",
       "      <th>MVR_PTS</th>\n",
       "      <th>CLM_AMT</th>\n",
       "      <th>CAR_AGE</th>\n",
       "    </tr>\n",
       "  </thead>\n",
       "  <tbody>\n",
       "    <tr>\n",
       "      <th>count</th>\n",
       "      <td>10302.00</td>\n",
       "      <td>10295.00</td>\n",
       "      <td>10302.00</td>\n",
       "      <td>9754.00</td>\n",
       "      <td>9732.00</td>\n",
       "      <td>9727.00</td>\n",
       "      <td>10302.00</td>\n",
       "      <td>10302.00</td>\n",
       "      <td>10302.00</td>\n",
       "      <td>10302.00</td>\n",
       "      <td>10302.00</td>\n",
       "      <td>10302.00</td>\n",
       "      <td>10302.00</td>\n",
       "      <td>9663.00</td>\n",
       "    </tr>\n",
       "    <tr>\n",
       "      <th>mean</th>\n",
       "      <td>0.17</td>\n",
       "      <td>44.84</td>\n",
       "      <td>0.72</td>\n",
       "      <td>10.47</td>\n",
       "      <td>61572.14</td>\n",
       "      <td>154522.83</td>\n",
       "      <td>33.42</td>\n",
       "      <td>15659.95</td>\n",
       "      <td>5.33</td>\n",
       "      <td>4033.98</td>\n",
       "      <td>0.80</td>\n",
       "      <td>1.71</td>\n",
       "      <td>1511.27</td>\n",
       "      <td>8.30</td>\n",
       "    </tr>\n",
       "    <tr>\n",
       "      <th>std</th>\n",
       "      <td>0.51</td>\n",
       "      <td>8.61</td>\n",
       "      <td>1.12</td>\n",
       "      <td>4.11</td>\n",
       "      <td>47457.46</td>\n",
       "      <td>129186.62</td>\n",
       "      <td>15.87</td>\n",
       "      <td>8428.76</td>\n",
       "      <td>4.11</td>\n",
       "      <td>8733.08</td>\n",
       "      <td>1.15</td>\n",
       "      <td>2.16</td>\n",
       "      <td>4725.11</td>\n",
       "      <td>5.71</td>\n",
       "    </tr>\n",
       "    <tr>\n",
       "      <th>min</th>\n",
       "      <td>0.00</td>\n",
       "      <td>16.00</td>\n",
       "      <td>0.00</td>\n",
       "      <td>0.00</td>\n",
       "      <td>0.00</td>\n",
       "      <td>0.00</td>\n",
       "      <td>5.00</td>\n",
       "      <td>1500.00</td>\n",
       "      <td>1.00</td>\n",
       "      <td>0.00</td>\n",
       "      <td>0.00</td>\n",
       "      <td>0.00</td>\n",
       "      <td>0.00</td>\n",
       "      <td>0.00</td>\n",
       "    </tr>\n",
       "    <tr>\n",
       "      <th>25%</th>\n",
       "      <td>0.00</td>\n",
       "      <td>39.00</td>\n",
       "      <td>0.00</td>\n",
       "      <td>9.00</td>\n",
       "      <td>27584.00</td>\n",
       "      <td>0.00</td>\n",
       "      <td>22.00</td>\n",
       "      <td>9200.00</td>\n",
       "      <td>1.00</td>\n",
       "      <td>0.00</td>\n",
       "      <td>0.00</td>\n",
       "      <td>0.00</td>\n",
       "      <td>0.00</td>\n",
       "      <td>1.00</td>\n",
       "    </tr>\n",
       "    <tr>\n",
       "      <th>50%</th>\n",
       "      <td>0.00</td>\n",
       "      <td>45.00</td>\n",
       "      <td>0.00</td>\n",
       "      <td>11.00</td>\n",
       "      <td>53529.00</td>\n",
       "      <td>160661.00</td>\n",
       "      <td>33.00</td>\n",
       "      <td>14400.00</td>\n",
       "      <td>4.00</td>\n",
       "      <td>0.00</td>\n",
       "      <td>0.00</td>\n",
       "      <td>1.00</td>\n",
       "      <td>0.00</td>\n",
       "      <td>8.00</td>\n",
       "    </tr>\n",
       "    <tr>\n",
       "      <th>75%</th>\n",
       "      <td>0.00</td>\n",
       "      <td>51.00</td>\n",
       "      <td>1.00</td>\n",
       "      <td>13.00</td>\n",
       "      <td>86166.00</td>\n",
       "      <td>238256.00</td>\n",
       "      <td>44.00</td>\n",
       "      <td>20890.00</td>\n",
       "      <td>7.00</td>\n",
       "      <td>4647.50</td>\n",
       "      <td>2.00</td>\n",
       "      <td>3.00</td>\n",
       "      <td>1144.75</td>\n",
       "      <td>12.00</td>\n",
       "    </tr>\n",
       "    <tr>\n",
       "      <th>max</th>\n",
       "      <td>4.00</td>\n",
       "      <td>81.00</td>\n",
       "      <td>5.00</td>\n",
       "      <td>23.00</td>\n",
       "      <td>367030.00</td>\n",
       "      <td>885282.00</td>\n",
       "      <td>142.00</td>\n",
       "      <td>69740.00</td>\n",
       "      <td>25.00</td>\n",
       "      <td>57037.00</td>\n",
       "      <td>5.00</td>\n",
       "      <td>13.00</td>\n",
       "      <td>123247.00</td>\n",
       "      <td>28.00</td>\n",
       "    </tr>\n",
       "  </tbody>\n",
       "</table>\n",
       "</div>"
      ],
      "text/plain": [
       "       KIDSDRIV       AGE  HOMEKIDS      YOJ     INCOME   HOME_VAL  TRAVTIME  \\\n",
       "count  10302.00  10295.00  10302.00  9754.00    9732.00    9727.00  10302.00   \n",
       "mean       0.17     44.84      0.72    10.47   61572.14  154522.83     33.42   \n",
       "std        0.51      8.61      1.12     4.11   47457.46  129186.62     15.87   \n",
       "min        0.00     16.00      0.00     0.00       0.00       0.00      5.00   \n",
       "25%        0.00     39.00      0.00     9.00   27584.00       0.00     22.00   \n",
       "50%        0.00     45.00      0.00    11.00   53529.00  160661.00     33.00   \n",
       "75%        0.00     51.00      1.00    13.00   86166.00  238256.00     44.00   \n",
       "max        4.00     81.00      5.00    23.00  367030.00  885282.00    142.00   \n",
       "\n",
       "       BLUEBOOK       TIF  OLDCLAIM  CLM_FREQ   MVR_PTS    CLM_AMT  CAR_AGE  \n",
       "count  10302.00  10302.00  10302.00  10302.00  10302.00   10302.00  9663.00  \n",
       "mean   15659.95      5.33   4033.98      0.80      1.71    1511.27     8.30  \n",
       "std     8428.76      4.11   8733.08      1.15      2.16    4725.11     5.71  \n",
       "min     1500.00      1.00      0.00      0.00      0.00       0.00     0.00  \n",
       "25%     9200.00      1.00      0.00      0.00      0.00       0.00     1.00  \n",
       "50%    14400.00      4.00      0.00      0.00      1.00       0.00     8.00  \n",
       "75%    20890.00      7.00   4647.50      2.00      3.00    1144.75    12.00  \n",
       "max    69740.00     25.00  57037.00      5.00     13.00  123247.00    28.00  "
      ]
     },
     "execution_count": 241,
     "metadata": {},
     "output_type": "execute_result"
    }
   ],
   "source": [
    "report = pd.DataFrame(df.iloc[:,1:].describe()).round(2)\n",
    "report"
   ]
  },
  {
   "cell_type": "markdown",
   "id": "c62a2cb5",
   "metadata": {},
   "source": [
    "5.2. Rozkłady zmiennych ilościowych"
   ]
  },
  {
   "cell_type": "code",
   "execution_count": null,
   "id": "bd87d266",
   "metadata": {},
   "outputs": [],
   "source": [
    "plt.style.use('ggplot')"
   ]
  },
  {
   "cell_type": "code",
   "execution_count": null,
   "id": "2be76401-8dff-4776-97ad-4a95a56c7fdc",
   "metadata": {},
   "outputs": [
    {
     "data": {
      "image/png": "[encoded data removed]",
      "text/plain": [
       "<Figure size 1440x1080 with 25 Axes>"
      ]
     },
     "metadata": {},
     "output_type": "display_data"
    }
   ],
   "source": [
    "df[list(report.columns)].hist(bins=15, figsize=(20, 15), layout=(5, 5))\n",
    "plt.show()"
   ]
  },
  {
   "cell_type": "markdown",
   "id": "d88d1a09",
   "metadata": {},
   "source": [
    "5.3. Zależności pomiędzy zmiennymi ilościowymi"
   ]
  },
  {
   "cell_type": "code",
   "execution_count": 264,
   "id": "e0732207",
   "metadata": {},
   "outputs": [
    {
     "data": {
      "image/png": "[encoded data removed]",
      "text/plain": [
       "<Figure size 936x936 with 2 Axes>"
      ]
     },
     "metadata": {},
     "output_type": "display_data"
    }
   ],
   "source": [
    "numeric_cols = []\n",
    "for c in df.columns[1:]:\n",
    "    if str(df.loc[:, c].dtype) not in ['category', 'bool']:\n",
    "        numeric_cols.append(c)\n",
    "\n",
    "\n",
    "fig=plt.figure(figsize = (13, 13))\n",
    "ax1 = fig.add_subplot(111)\n",
    "corr = df[numeric_cols].corr().round(2)\n",
    "sns.heatmap(corr, vmin = 0.0, vmax = 1, square=True, linewidths = 0.1, annot = True, annot_kws={\"size\" : 8}, cmap = \"coolwarm\")\n",
    "plt.title(\"Macierz korelacji dla zmiennych\")\n",
    "plt.show()"
   ]
  },
  {
   "cell_type": "markdown",
   "id": "1ef68790",
   "metadata": {},
   "source": [
    "5.3. Częstości występowania wariantów zmiennych jakościowych"
   ]
  },
  {
   "cell_type": "code",
   "execution_count": 266,
   "id": "b585735c",
   "metadata": {},
   "outputs": [
    {
     "name": "stdout",
     "output_type": "stream",
     "text": [
      "       PARENT1  Udział %\n",
      "False     8959  0.869637\n",
      "True      1343  0.130363\n",
      "\n",
      "\n",
      "       MSTATUS  Udział %\n",
      "True      6188   0.60066\n",
      "False     4114   0.39934\n",
      "\n",
      "\n",
      "   GENDER  Udział %\n",
      "F    5545  0.538245\n",
      "M    4757  0.461755\n",
      "\n",
      "\n",
      "              EDUCATION  Udział %\n",
      "High School        2952  0.286546\n",
      "Bachelors          2823  0.274024\n",
      "Masters            2078  0.201708\n",
      "<High School       1515  0.147059\n",
      "PhD                 934  0.090662\n",
      "\n",
      "\n",
      "              OCCUPATION  Udział %\n",
      "Blue Collar         2288  0.237418\n",
      "Clerical            1590  0.164989\n",
      "Professional        1408  0.146104\n",
      "Manager             1257  0.130435\n",
      "Lawyer              1031  0.106984\n",
      "Student              899  0.093286\n",
      "Home Maker           843  0.087475\n",
      "Doctor               321  0.033309\n",
      "\n",
      "\n",
      "            CAR_USE  Udział %\n",
      "Private        6513  0.632207\n",
      "Commercial     3789  0.367793\n",
      "\n",
      "\n",
      "             CAR_TYPE  Udział %\n",
      "SUV              2883  0.279849\n",
      "Minivan          2694  0.261503\n",
      "Pickup           1772  0.172005\n",
      "Sports Car       1179  0.114444\n",
      "Van               921  0.089400\n",
      "Panel Truck       853  0.082799\n",
      "\n",
      "\n",
      "       RED_CAR  Udział %\n",
      "False     7326  0.711124\n",
      "True      2976  0.288876\n",
      "\n",
      "\n",
      "       REVOKED  Udział %\n",
      "False     9041  0.877597\n",
      "True      1261  0.122403\n",
      "\n",
      "\n",
      "       CLAIM_FLAG  Udział %\n",
      "False        7556   0.73345\n",
      "True         2746   0.26655\n",
      "\n",
      "\n",
      "                     URBANICITY  Udział %\n",
      "Highly Urban/ Urban        8230  0.798874\n",
      "Highly Rural/ Rural        2072  0.201126\n",
      "\n",
      "\n"
     ]
    }
   ],
   "source": [
    "for i in df.columns:\n",
    "    if str(df[i].dtype) in ['category', 'bool']:\n",
    "        val_counts_df = df[i].value_counts()\n",
    "        val_counts_norm_df = pd.DataFrame(df[i].value_counts(normalize=True))\n",
    "        val_counts_norm_df.columns = ['Udział %']\n",
    "        print(pd.concat([val_counts_df, val_counts_norm_df], axis=1))\n",
    "        print('\\n')"
   ]
  },
  {
   "cell_type": "code",
   "execution_count": null,
   "id": "d6f9fba8",
   "metadata": {},
   "outputs": [],
   "source": []
  },
  {
   "cell_type": "code",
   "execution_count": null,
   "id": "950c30a7",
   "metadata": {},
   "outputs": [],
   "source": []
  },
  {
   "cell_type": "code",
   "execution_count": null,
   "id": "76b87f6a",
   "metadata": {},
   "outputs": [],
   "source": []
  },
  {
   "cell_type": "markdown",
   "id": "0acf08b8-877d-4cbe-8823-225fd560b5d4",
   "metadata": {},
   "source": [
    "### Scenariusz eksploracji danych zawarte w analizie\n",
    "\n",
    "1. Weryfikacja unikalnych wartości\n",
    "2. Eliminacja błędów danych\n",
    "3. Rozkłady zmiennych\n",
    "4. Liczebności/Czestość zdarzeń\n",
    "5. Analiza pareto\n",
    "6. Zależności pomiędzy zmiennymi"
   ]
  },
  {
   "cell_type": "markdown",
   "id": "854c0a1f-616b-49d6-bf82-869d42dcb97a",
   "metadata": {},
   "source": [
    "2.3 Zamiana teskstu na factory"
   ]
  },
  {
   "cell_type": "code",
   "execution_count": 244,
   "id": "b7882b5a-9585-4eea-833b-a5bc7d6ce928",
   "metadata": {},
   "outputs": [],
   "source": [
    "# To kodowanie na razie bym odłożył na później PS\n",
    "\n",
    "# df['GENDER'][df['GENDER'] == 'M'] = 1 \n",
    "# df['GENDER'][df['GENDER'] == 'F'] = 0 \n",
    "\n",
    "# df['CAR_USE'][df['CAR_USE'] == 'Private'] = 1 \n",
    "# df['CAR_USE'][df['CAR_USE'] == 'Commercial'] = 0 \n",
    "\n",
    "# df['CAR_USE'][df['CAR_USE'] == 'Private'] = 1 \n",
    "# df['CAR_USE'][df['CAR_USE'] == 'Commercial'] = 0 \n",
    "\n",
    "# df['URBANICITY'][df['URBANICITY'] == df['URBANICITY'].unique()[0]] = 1 \n",
    "# df['URBANICITY'][df['URBANICITY'] == df['URBANICITY'].unique()[1]] = 0 \n",
    "\n",
    "# n = 0\n",
    "# for val in df['CAR_TYPE'].unique():\n",
    "#     n += 1\n",
    "#     print(val, n)\n",
    "#     df['CAR_TYPE'][df['CAR_TYPE'] == val] = n\n"
   ]
  },
  {
   "cell_type": "markdown",
   "id": "35e05fa6-37df-492f-83ce-753593dd5317",
   "metadata": {},
   "source": [
    "### 4. Analiza częstości występowania"
   ]
  },
  {
   "cell_type": "code",
   "execution_count": 276,
   "id": "515652f5-3494-4b16-9dd3-91b9dcf8eda6",
   "metadata": {},
   "outputs": [],
   "source": [
    "df['AGE_GROUP'] = 0\n",
    "df['AGE_GROUP'][(df['AGE'] > 15) & (df['AGE'] <= 26)] = 1\n",
    "df['AGE_GROUP'][(df['AGE'] > 26) & (df['AGE'] <= 36)] = 2\n",
    "df['AGE_GROUP'][(df['AGE'] > 36) & (df['AGE'] <= 46)] = 3\n",
    "df['AGE_GROUP'][(df['AGE'] > 46) & (df['AGE'] <= 56)] = 4\n",
    "df['AGE_GROUP'][(df['AGE'] > 56) & (df['AGE'] <= 66)] = 5\n",
    "df['AGE_GROUP'][(df['AGE'] > 66) & (df['AGE'] <= 76)] = 6\n",
    "df['AGE_GROUP'][(df['AGE'] > 76)] = 7\n",
    "\n",
    "###  DO ogarniecia czemu musze tak zrobic zeby sie wyswietlalo na plocie \n",
    "#df['AGE_GROUP'] = df['AGE_GROUP']-2\n",
    "#df = df[df['AGE_GROUP'] != 0]"
   ]
  },
  {
   "cell_type": "code",
   "execution_count": 277,
   "id": "ab02bf0e-ebaa-4f40-9a20-79dfcf61b107",
   "metadata": {},
   "outputs": [],
   "source": [
    "_df = df.copy()\n",
    "_df_1 = df.copy()"
   ]
  },
  {
   "cell_type": "code",
   "execution_count": 278,
   "id": "26f86747-0129-42dc-b22d-e03b41af19f4",
   "metadata": {},
   "outputs": [],
   "source": [
    "#### braki w wieku - zerowa\n",
    "#df[df['AGE_GROUP'] == 0]"
   ]
  },
  {
   "cell_type": "code",
   "execution_count": 279,
   "id": "d8aee6db-6bb8-4deb-9e62-93df5b2474f5",
   "metadata": {},
   "outputs": [],
   "source": [
    "## liczebność grup\n",
    "_df_1['AGE_GROUP_COUNT'] = df.groupby(['AGE_GROUP'])['CLAIM_FLAG'].transform('count')"
   ]
  },
  {
   "cell_type": "code",
   "execution_count": 280,
   "id": "67714a67-b2a7-44ba-ba7c-106ca977d5bd",
   "metadata": {},
   "outputs": [],
   "source": [
    "## średnia szkoda\n",
    "_df = df[df['CLAIM_FLAG'] == 1]\n",
    "_df['CLM_AMT_MEAN'] = _df.groupby(['AGE_GROUP'])['CLM_AMT'].transform('mean')"
   ]
  },
  {
   "cell_type": "code",
   "execution_count": 281,
   "id": "2abcd536-aae0-472a-ac60-6f6648eda933",
   "metadata": {},
   "outputs": [
    {
     "data": {
      "text/plain": [
       "array([2, 3, 4, 5, 1, 0, 6], dtype=int64)"
      ]
     },
     "execution_count": 281,
     "metadata": {},
     "output_type": "execute_result"
    }
   ],
   "source": [
    "## udział CLAIM_FLAG=1 w grupie\n",
    "_df['CLM_FLG_PRCNT'] = (df.groupby(['AGE_GROUP'])['CLAIM_FLAG'].transform('sum') / df.groupby(['AGE_GROUP'])['CLAIM_FLAG'].transform('count'))*100\n",
    "\n",
    "_df['AGE_GROUP'].unique()"
   ]
  },
  {
   "cell_type": "code",
   "execution_count": null,
   "id": "fa6cdb63",
   "metadata": {},
   "outputs": [],
   "source": []
  },
  {
   "cell_type": "code",
   "execution_count": 181,
   "id": "a5ca913c-d32f-4ebf-b8fd-ff95c99432c9",
   "metadata": {},
   "outputs": [
    {
     "ename": "ValueError",
     "evalue": "The number of FixedLocator locations (8), usually from a call to set_ticks, does not match the number of ticklabels (6).",
     "output_type": "error",
     "traceback": [
      "\u001b[1;31m---------------------------------------------------------------------------\u001b[0m",
      "\u001b[1;31mValueError\u001b[0m                                Traceback (most recent call last)",
      "\u001b[1;32m~\\AppData\\Local\\Temp/ipykernel_11044/2938315837.py\u001b[0m in \u001b[0;36m<module>\u001b[1;34m\u001b[0m\n\u001b[0;32m     10\u001b[0m \u001b[1;33m\u001b[0m\u001b[0m\n\u001b[0;32m     11\u001b[0m     \u001b[1;31m### O CO CHODZI\u001b[0m\u001b[1;33m\u001b[0m\u001b[1;33m\u001b[0m\u001b[1;33m\u001b[0m\u001b[0m\n\u001b[1;32m---> 12\u001b[1;33m     g.set_xticklabels(['16-26','27-36','37-46',\n\u001b[0m\u001b[0;32m     13\u001b[0m                        '47-56','57-66','66-76'])\n\u001b[0;32m     14\u001b[0m \u001b[1;33m\u001b[0m\u001b[0m\n",
      "\u001b[1;32md:\\Programowanie\\Anaconda\\lib\\site-packages\\matplotlib\\axes\\_base.py\u001b[0m in \u001b[0;36mwrapper\u001b[1;34m(self, *args, **kwargs)\u001b[0m\n\u001b[0;32m     61\u001b[0m \u001b[1;33m\u001b[0m\u001b[0m\n\u001b[0;32m     62\u001b[0m         \u001b[1;32mdef\u001b[0m \u001b[0mwrapper\u001b[0m\u001b[1;33m(\u001b[0m\u001b[0mself\u001b[0m\u001b[1;33m,\u001b[0m \u001b[1;33m*\u001b[0m\u001b[0margs\u001b[0m\u001b[1;33m,\u001b[0m \u001b[1;33m**\u001b[0m\u001b[0mkwargs\u001b[0m\u001b[1;33m)\u001b[0m\u001b[1;33m:\u001b[0m\u001b[1;33m\u001b[0m\u001b[1;33m\u001b[0m\u001b[0m\n\u001b[1;32m---> 63\u001b[1;33m             \u001b[1;32mreturn\u001b[0m \u001b[0mget_method\u001b[0m\u001b[1;33m(\u001b[0m\u001b[0mself\u001b[0m\u001b[1;33m)\u001b[0m\u001b[1;33m(\u001b[0m\u001b[1;33m*\u001b[0m\u001b[0margs\u001b[0m\u001b[1;33m,\u001b[0m \u001b[1;33m**\u001b[0m\u001b[0mkwargs\u001b[0m\u001b[1;33m)\u001b[0m\u001b[1;33m\u001b[0m\u001b[1;33m\u001b[0m\u001b[0m\n\u001b[0m\u001b[0;32m     64\u001b[0m \u001b[1;33m\u001b[0m\u001b[0m\n\u001b[0;32m     65\u001b[0m         \u001b[0mwrapper\u001b[0m\u001b[1;33m.\u001b[0m\u001b[0m__module__\u001b[0m \u001b[1;33m=\u001b[0m \u001b[0mowner\u001b[0m\u001b[1;33m.\u001b[0m\u001b[0m__module__\u001b[0m\u001b[1;33m\u001b[0m\u001b[1;33m\u001b[0m\u001b[0m\n",
      "\u001b[1;32md:\\Programowanie\\Anaconda\\lib\\site-packages\\matplotlib\\cbook\\deprecation.py\u001b[0m in \u001b[0;36mwrapper\u001b[1;34m(*args, **kwargs)\u001b[0m\n\u001b[0;32m    449\u001b[0m                 \u001b[1;34m\"parameter will become keyword-only %(removal)s.\"\u001b[0m\u001b[1;33m,\u001b[0m\u001b[1;33m\u001b[0m\u001b[1;33m\u001b[0m\u001b[0m\n\u001b[0;32m    450\u001b[0m                 name=name, obj_type=f\"parameter of {func.__name__}()\")\n\u001b[1;32m--> 451\u001b[1;33m         \u001b[1;32mreturn\u001b[0m \u001b[0mfunc\u001b[0m\u001b[1;33m(\u001b[0m\u001b[1;33m*\u001b[0m\u001b[0margs\u001b[0m\u001b[1;33m,\u001b[0m \u001b[1;33m**\u001b[0m\u001b[0mkwargs\u001b[0m\u001b[1;33m)\u001b[0m\u001b[1;33m\u001b[0m\u001b[1;33m\u001b[0m\u001b[0m\n\u001b[0m\u001b[0;32m    452\u001b[0m \u001b[1;33m\u001b[0m\u001b[0m\n\u001b[0;32m    453\u001b[0m     \u001b[1;32mreturn\u001b[0m \u001b[0mwrapper\u001b[0m\u001b[1;33m\u001b[0m\u001b[1;33m\u001b[0m\u001b[0m\n",
      "\u001b[1;32md:\\Programowanie\\Anaconda\\lib\\site-packages\\matplotlib\\axis.py\u001b[0m in \u001b[0;36m_set_ticklabels\u001b[1;34m(self, labels, fontdict, minor, **kwargs)\u001b[0m\n\u001b[0;32m   1791\u001b[0m         \u001b[1;32mif\u001b[0m \u001b[0mfontdict\u001b[0m \u001b[1;32mis\u001b[0m \u001b[1;32mnot\u001b[0m \u001b[1;32mNone\u001b[0m\u001b[1;33m:\u001b[0m\u001b[1;33m\u001b[0m\u001b[1;33m\u001b[0m\u001b[0m\n\u001b[0;32m   1792\u001b[0m             \u001b[0mkwargs\u001b[0m\u001b[1;33m.\u001b[0m\u001b[0mupdate\u001b[0m\u001b[1;33m(\u001b[0m\u001b[0mfontdict\u001b[0m\u001b[1;33m)\u001b[0m\u001b[1;33m\u001b[0m\u001b[1;33m\u001b[0m\u001b[0m\n\u001b[1;32m-> 1793\u001b[1;33m         \u001b[1;32mreturn\u001b[0m \u001b[0mself\u001b[0m\u001b[1;33m.\u001b[0m\u001b[0mset_ticklabels\u001b[0m\u001b[1;33m(\u001b[0m\u001b[0mlabels\u001b[0m\u001b[1;33m,\u001b[0m \u001b[0mminor\u001b[0m\u001b[1;33m=\u001b[0m\u001b[0mminor\u001b[0m\u001b[1;33m,\u001b[0m \u001b[1;33m**\u001b[0m\u001b[0mkwargs\u001b[0m\u001b[1;33m)\u001b[0m\u001b[1;33m\u001b[0m\u001b[1;33m\u001b[0m\u001b[0m\n\u001b[0m\u001b[0;32m   1794\u001b[0m \u001b[1;33m\u001b[0m\u001b[0m\n\u001b[0;32m   1795\u001b[0m     \u001b[1;33m@\u001b[0m\u001b[0mcbook\u001b[0m\u001b[1;33m.\u001b[0m\u001b[0m_make_keyword_only\u001b[0m\u001b[1;33m(\u001b[0m\u001b[1;34m\"3.2\"\u001b[0m\u001b[1;33m,\u001b[0m \u001b[1;34m\"minor\"\u001b[0m\u001b[1;33m)\u001b[0m\u001b[1;33m\u001b[0m\u001b[1;33m\u001b[0m\u001b[0m\n",
      "\u001b[1;32md:\\Programowanie\\Anaconda\\lib\\site-packages\\matplotlib\\axis.py\u001b[0m in \u001b[0;36mset_ticklabels\u001b[1;34m(self, ticklabels, minor, **kwargs)\u001b[0m\n\u001b[0;32m   1712\u001b[0m             \u001b[1;31m# remove all tick labels, so only error for > 0 ticklabels\u001b[0m\u001b[1;33m\u001b[0m\u001b[1;33m\u001b[0m\u001b[1;33m\u001b[0m\u001b[0m\n\u001b[0;32m   1713\u001b[0m             \u001b[1;32mif\u001b[0m \u001b[0mlen\u001b[0m\u001b[1;33m(\u001b[0m\u001b[0mlocator\u001b[0m\u001b[1;33m.\u001b[0m\u001b[0mlocs\u001b[0m\u001b[1;33m)\u001b[0m \u001b[1;33m!=\u001b[0m \u001b[0mlen\u001b[0m\u001b[1;33m(\u001b[0m\u001b[0mticklabels\u001b[0m\u001b[1;33m)\u001b[0m \u001b[1;32mand\u001b[0m \u001b[0mlen\u001b[0m\u001b[1;33m(\u001b[0m\u001b[0mticklabels\u001b[0m\u001b[1;33m)\u001b[0m \u001b[1;33m!=\u001b[0m \u001b[1;36m0\u001b[0m\u001b[1;33m:\u001b[0m\u001b[1;33m\u001b[0m\u001b[1;33m\u001b[0m\u001b[0m\n\u001b[1;32m-> 1714\u001b[1;33m                 raise ValueError(\n\u001b[0m\u001b[0;32m   1715\u001b[0m                     \u001b[1;34m\"The number of FixedLocator locations\"\u001b[0m\u001b[1;33m\u001b[0m\u001b[1;33m\u001b[0m\u001b[0m\n\u001b[0;32m   1716\u001b[0m                     \u001b[1;34mf\" ({len(locator.locs)}), usually from a call to\"\u001b[0m\u001b[1;33m\u001b[0m\u001b[1;33m\u001b[0m\u001b[0m\n",
      "\u001b[1;31mValueError\u001b[0m: The number of FixedLocator locations (8), usually from a call to set_ticks, does not match the number of ticklabels (6)."
     ]
    },
    {
     "data": {
      "image/png": "[encoded data removed]",
      "text/plain": [
       "<Figure size 720x360 with 2 Axes>"
      ]
     },
     "metadata": {},
     "output_type": "display_data"
    }
   ],
   "source": [
    "'''\n",
    "# ilościowe zmienne bez ID\n",
    "for col in ['AGE_GROUP']:\n",
    "    ### drugi plot\n",
    "\n",
    "    fig=plt.figure(figsize = (10, 5))\n",
    "    ax1 = fig.add_subplot(111)\n",
    "    ax2 = plt.twinx()\n",
    "    g=sns.barplot(x = 'AGE_GROUP',y ='AGE_GROUP_COUNT',data=_df_1,color = 'sandybrown',ax = ax1)\n",
    "    \n",
    "    ### O CO CHODZI\n",
    "    g.set_xticklabels(['16-26','27-36','37-46',\n",
    "                       '47-56','57-66','66-76'])\n",
    "    \n",
    "    sns.lineplot( data = _df,x = col, y = \"CLM_FLG_PRCNT\",ax = ax2,color = 'red')\n",
    "    plt.show()\n",
    "    \n",
    "    \n",
    "    ### drugi plot\n",
    "    fig = plt.figure(figsize = (10, 5))\n",
    "    ax1 = fig.add_subplot(111)\n",
    "    ax2 = plt.twinx()\n",
    "    g = sns.barplot(x = 'AGE_GROUP',y = _df_1['AGE_GROUP_COUNT'],data=_df_1,color = 'sandybrown',ax = ax1)\n",
    "    g.set_xticklabels(['16-26','27-36','37-46',\n",
    "                       '47-56','57-66','66-76'\n",
    "                       ])\n",
    "    \n",
    "    sns.lineplot( data = _df,x = col, y = \"CLM_AMT_MEAN\",ax = ax2,color = 'red')\n",
    "    plt.show()\n",
    "    \n",
    "    ### drugi plot\n",
    "    fig = plt.figure(figsize = (10, 5))\n",
    "    ax1 = fig.add_subplot(111)\n",
    "    ax2 = plt.twinx()\n",
    "    g = sns.barplot(x = 'AGE_GROUP',y = 'CLM_AMT_MEAN',data=_df,color = 'sandybrown',ax = ax1)\n",
    "    g.set_xticklabels(['16-26','27-36','37-46',\n",
    "                       '47-56','57-66',\n",
    "                       ])\n",
    "\n",
    "    sns.lineplot( data = _df , x = 'AGE_GROUP', y = \"CLM_FLG_PRCNT\",ax = ax2,color = 'red')\n",
    "    plt.show()\n",
    "'''"
   ]
  },
  {
   "cell_type": "code",
   "execution_count": null,
   "id": "2083b481-101a-4f79-be43-b571c434c1f1",
   "metadata": {},
   "outputs": [],
   "source": []
  },
  {
   "cell_type": "markdown",
   "id": "69ecb8b2-acd6-49f2-a5ac-2374ee89a335",
   "metadata": {},
   "source": [
    "### 5. Analiza pareto spaghetti bolognese"
   ]
  },
  {
   "cell_type": "code",
   "execution_count": 71,
   "id": "6b297dba-294c-4966-b143-cd68a8e8eb4f",
   "metadata": {},
   "outputs": [
    {
     "data": {
      "text/html": [
       "<div>\n",
       "<style scoped>\n",
       "    .dataframe tbody tr th:only-of-type {\n",
       "        vertical-align: middle;\n",
       "    }\n",
       "\n",
       "    .dataframe tbody tr th {\n",
       "        vertical-align: top;\n",
       "    }\n",
       "\n",
       "    .dataframe thead th {\n",
       "        text-align: right;\n",
       "    }\n",
       "</style>\n",
       "<table border=\"1\" class=\"dataframe\">\n",
       "  <thead>\n",
       "    <tr style=\"text-align: right;\">\n",
       "      <th></th>\n",
       "      <th>ID</th>\n",
       "      <th>KIDSDRIV</th>\n",
       "      <th>BIRTH</th>\n",
       "      <th>AGE</th>\n",
       "      <th>HOMEKIDS</th>\n",
       "      <th>YOJ</th>\n",
       "      <th>INCOME</th>\n",
       "      <th>PARENT1</th>\n",
       "      <th>HOME_VAL</th>\n",
       "      <th>MSTATUS</th>\n",
       "      <th>...</th>\n",
       "      <th>RED_CAR</th>\n",
       "      <th>OLDCLAIM</th>\n",
       "      <th>CLM_FREQ</th>\n",
       "      <th>REVOKED</th>\n",
       "      <th>MVR_PTS</th>\n",
       "      <th>CLM_AMT</th>\n",
       "      <th>CAR_AGE</th>\n",
       "      <th>CLAIM_FLAG</th>\n",
       "      <th>URBANICITY</th>\n",
       "      <th>AGE_GROUP</th>\n",
       "    </tr>\n",
       "  </thead>\n",
       "  <tbody>\n",
       "    <tr>\n",
       "      <th>0</th>\n",
       "      <td>63581743</td>\n",
       "      <td>0</td>\n",
       "      <td>16MAR39</td>\n",
       "      <td>60.0</td>\n",
       "      <td>0</td>\n",
       "      <td>11.0</td>\n",
       "      <td>67.348999</td>\n",
       "      <td>0</td>\n",
       "      <td>0.000000</td>\n",
       "      <td>0</td>\n",
       "      <td>...</td>\n",
       "      <td>1</td>\n",
       "      <td>4.461000</td>\n",
       "      <td>2</td>\n",
       "      <td>0</td>\n",
       "      <td>3</td>\n",
       "      <td>0.0</td>\n",
       "      <td>18.0</td>\n",
       "      <td>0</td>\n",
       "      <td>1</td>\n",
       "      <td>5</td>\n",
       "    </tr>\n",
       "    <tr>\n",
       "      <th>1</th>\n",
       "      <td>132761049</td>\n",
       "      <td>0</td>\n",
       "      <td>21JAN56</td>\n",
       "      <td>43.0</td>\n",
       "      <td>0</td>\n",
       "      <td>11.0</td>\n",
       "      <td>91.448997</td>\n",
       "      <td>0</td>\n",
       "      <td>257.252014</td>\n",
       "      <td>0</td>\n",
       "      <td>...</td>\n",
       "      <td>1</td>\n",
       "      <td>0.000000</td>\n",
       "      <td>0</td>\n",
       "      <td>0</td>\n",
       "      <td>0</td>\n",
       "      <td>0.0</td>\n",
       "      <td>1.0</td>\n",
       "      <td>0</td>\n",
       "      <td>1</td>\n",
       "      <td>3</td>\n",
       "    </tr>\n",
       "    <tr>\n",
       "      <th>2</th>\n",
       "      <td>921317019</td>\n",
       "      <td>0</td>\n",
       "      <td>18NOV51</td>\n",
       "      <td>48.0</td>\n",
       "      <td>0</td>\n",
       "      <td>11.0</td>\n",
       "      <td>52.881001</td>\n",
       "      <td>0</td>\n",
       "      <td>0.000000</td>\n",
       "      <td>0</td>\n",
       "      <td>...</td>\n",
       "      <td>1</td>\n",
       "      <td>0.000000</td>\n",
       "      <td>0</td>\n",
       "      <td>0</td>\n",
       "      <td>2</td>\n",
       "      <td>0.0</td>\n",
       "      <td>10.0</td>\n",
       "      <td>0</td>\n",
       "      <td>1</td>\n",
       "      <td>4</td>\n",
       "    </tr>\n",
       "    <tr>\n",
       "      <th>3</th>\n",
       "      <td>727598473</td>\n",
       "      <td>0</td>\n",
       "      <td>05MAR64</td>\n",
       "      <td>35.0</td>\n",
       "      <td>1</td>\n",
       "      <td>10.0</td>\n",
       "      <td>16.039000</td>\n",
       "      <td>0</td>\n",
       "      <td>124.191002</td>\n",
       "      <td>1</td>\n",
       "      <td>...</td>\n",
       "      <td>0</td>\n",
       "      <td>38.689999</td>\n",
       "      <td>2</td>\n",
       "      <td>0</td>\n",
       "      <td>3</td>\n",
       "      <td>0.0</td>\n",
       "      <td>10.0</td>\n",
       "      <td>0</td>\n",
       "      <td>1</td>\n",
       "      <td>2</td>\n",
       "    </tr>\n",
       "    <tr>\n",
       "      <th>4</th>\n",
       "      <td>450221861</td>\n",
       "      <td>0</td>\n",
       "      <td>05JUN48</td>\n",
       "      <td>51.0</td>\n",
       "      <td>0</td>\n",
       "      <td>14.0</td>\n",
       "      <td>NaN</td>\n",
       "      <td>0</td>\n",
       "      <td>306.251007</td>\n",
       "      <td>1</td>\n",
       "      <td>...</td>\n",
       "      <td>1</td>\n",
       "      <td>0.000000</td>\n",
       "      <td>0</td>\n",
       "      <td>0</td>\n",
       "      <td>0</td>\n",
       "      <td>0.0</td>\n",
       "      <td>6.0</td>\n",
       "      <td>0</td>\n",
       "      <td>1</td>\n",
       "      <td>4</td>\n",
       "    </tr>\n",
       "  </tbody>\n",
       "</table>\n",
       "<p>5 rows × 28 columns</p>\n",
       "</div>"
      ],
      "text/plain": [
       "          ID  KIDSDRIV    BIRTH   AGE  HOMEKIDS   YOJ     INCOME PARENT1  \\\n",
       "0   63581743         0  16MAR39  60.0         0  11.0  67.348999       0   \n",
       "1  132761049         0  21JAN56  43.0         0  11.0  91.448997       0   \n",
       "2  921317019         0  18NOV51  48.0         0  11.0  52.881001       0   \n",
       "3  727598473         0  05MAR64  35.0         1  10.0  16.039000       0   \n",
       "4  450221861         0  05JUN48  51.0         0  14.0        NaN       0   \n",
       "\n",
       "     HOME_VAL MSTATUS  ... RED_CAR   OLDCLAIM CLM_FREQ  REVOKED MVR_PTS  \\\n",
       "0    0.000000       0  ...       1   4.461000        2        0       3   \n",
       "1  257.252014       0  ...       1   0.000000        0        0       0   \n",
       "2    0.000000       0  ...       1   0.000000        0        0       2   \n",
       "3  124.191002       1  ...       0  38.689999        2        0       3   \n",
       "4  306.251007       1  ...       1   0.000000        0        0       0   \n",
       "\n",
       "   CLM_AMT  CAR_AGE CLAIM_FLAG URBANICITY  AGE_GROUP  \n",
       "0      0.0     18.0          0          1          5  \n",
       "1      0.0      1.0          0          1          3  \n",
       "2      0.0     10.0          0          1          4  \n",
       "3      0.0     10.0          0          1          2  \n",
       "4      0.0      6.0          0          1          4  \n",
       "\n",
       "[5 rows x 28 columns]"
      ]
     },
     "execution_count": 71,
     "metadata": {},
     "output_type": "execute_result"
    }
   ],
   "source": [
    "df.head(5)"
   ]
  },
  {
   "cell_type": "markdown",
   "id": "467ec4ec-8214-4cb9-b470-1f014ad6a4f3",
   "metadata": {},
   "source": [
    "### 6. Zależność pomiędzy zmiennymi - "
   ]
  },
  {
   "cell_type": "code",
   "execution_count": 272,
   "id": "58e11389-a8dd-4be9-9e6f-7c84b02597cc",
   "metadata": {
    "scrolled": true,
    "tags": []
   },
   "outputs": [],
   "source": [
    "#sns.pairplot(df[list(report.columns)], hue = \"CLAIM_FLAG\")\n",
    "#plt.show()"
   ]
  },
  {
   "cell_type": "markdown",
   "id": "3bcc3934-4fab-4d0d-929a-84b5eb318992",
   "metadata": {},
   "source": [
    "## 8. Zapis danych do modelu"
   ]
  },
  {
   "cell_type": "code",
   "execution_count": 373,
   "id": "04e91039-3bfc-4252-8de0-a8f919dda7b8",
   "metadata": {},
   "outputs": [],
   "source": [
    "lr_df  = []"
   ]
  },
  {
   "cell_type": "code",
   "execution_count": 75,
   "id": "82d895e2-073c-4eae-b25c-7701b3f44a0b",
   "metadata": {},
   "outputs": [],
   "source": [
    "df.to_csv('./dane/LR_dane_treningowe_testowe.csv')"
   ]
  },
  {
   "cell_type": "code",
   "execution_count": 74,
   "id": "aab98a65-cb5a-4aa4-a16c-cff8920a2fd3",
   "metadata": {},
   "outputs": [
    {
     "data": {
      "text/plain": [
       "ID              0\n",
       "KIDSDRIV        0\n",
       "BIRTH           0\n",
       "AGE             7\n",
       "HOMEKIDS        0\n",
       "YOJ           548\n",
       "INCOME        570\n",
       "PARENT1         0\n",
       "HOME_VAL      575\n",
       "MSTATUS         0\n",
       "GENDER          0\n",
       "EDUCATION       0\n",
       "OCCUPATION    665\n",
       "TRAVTIME        0\n",
       "CAR_USE         0\n",
       "BLUEBOOK        0\n",
       "TIF             0\n",
       "CAR_TYPE        0\n",
       "RED_CAR         0\n",
       "OLDCLAIM        0\n",
       "CLM_FREQ        0\n",
       "REVOKED         0\n",
       "MVR_PTS         0\n",
       "CLM_AMT         0\n",
       "CAR_AGE       639\n",
       "CLAIM_FLAG      0\n",
       "URBANICITY      0\n",
       "AGE_GROUP       0\n",
       "dtype: int64"
      ]
     },
     "execution_count": 74,
     "metadata": {},
     "output_type": "execute_result"
    }
   ],
   "source": [
    "df.isna().sum()"
   ]
  }
 ],
 "metadata": {
  "interpreter": {
   "hash": "4a06d5604a8ae254e093ddfdb9274b063a5f34c596232e75139b5abc85d2fbb8"
  },
  "kernelspec": {
   "display_name": "Python 3.8.5 ('base')",
   "language": "python",
   "name": "python3"
  },
  "language_info": {
   "codemirror_mode": {
    "name": "ipython",
    "version": 3
   },
   "file_extension": ".py",
   "mimetype": "text/x-python",
   "name": "python",
   "nbconvert_exporter": "python",
   "pygments_lexer": "ipython3",
   "version": "3.8.5"
  }
 },
 "nbformat": 4,
 "nbformat_minor": 5
}
