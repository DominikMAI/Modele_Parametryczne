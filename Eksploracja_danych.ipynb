{
 "cells": [
  {
   "cell_type": "code",
   "execution_count": 210,
   "id": "3c74e83e-1a4d-4aae-9b37-96199eb8c762",
   "metadata": {},
   "outputs": [],
   "source": [
    "import pandas as pd\n",
    "import numpy as np\n",
    "import seaborn as sns\n",
    "import matplotlib.pyplot as plt\n",
    "#Reference:\n",
    "#https://www.kaggle.com/code/kerneler/starter-car-insurance-claim-data-62f4f91c-d/notebook\n",
    "#https://towardsdatascience.com/15-data-exploration-techniques-to-go-from-data-to-insights-93f66e6805df\n",
    "#https://towardsdatascience.com/how-to-perform-exploratory-data-analysis-with-seaborn-97e3413e841d"
   ]
  },
  {
   "cell_type": "code",
   "execution_count": 211,
   "id": "bb560a63-a20c-4f58-a601-4acdbe958199",
   "metadata": {},
   "outputs": [],
   "source": [
    "df = pd.read_csv(\"car_insurance_claim.csv\")"
   ]
  },
  {
   "cell_type": "markdown",
   "id": "717218b2-f56b-4795-87a2-46d11da2dba5",
   "metadata": {
    "tags": []
   },
   "source": [
    "##  Opis zmiennych"
   ]
  },
  {
   "cell_type": "code",
   "execution_count": 212,
   "id": "ddbfd4fa-f54c-45ef-a8c2-93aeb0dc2323",
   "metadata": {},
   "outputs": [
    {
     "name": "stdout",
     "output_type": "stream",
     "text": [
      "<class 'pandas.core.frame.DataFrame'>\n",
      "RangeIndex: 10302 entries, 0 to 10301\n",
      "Data columns (total 27 columns):\n",
      " #   Column      Non-Null Count  Dtype  \n",
      "---  ------      --------------  -----  \n",
      " 0   ID          10302 non-null  int64  \n",
      " 1   KIDSDRIV    10302 non-null  int64  \n",
      " 2   BIRTH       10302 non-null  object \n",
      " 3   AGE         10295 non-null  float64\n",
      " 4   HOMEKIDS    10302 non-null  int64  \n",
      " 5   YOJ         9754 non-null   float64\n",
      " 6   INCOME      9732 non-null   object \n",
      " 7   PARENT1     10302 non-null  object \n",
      " 8   HOME_VAL    9727 non-null   object \n",
      " 9   MSTATUS     10302 non-null  object \n",
      " 10  GENDER      10302 non-null  object \n",
      " 11  EDUCATION   10302 non-null  object \n",
      " 12  OCCUPATION  9637 non-null   object \n",
      " 13  TRAVTIME    10302 non-null  int64  \n",
      " 14  CAR_USE     10302 non-null  object \n",
      " 15  BLUEBOOK    10302 non-null  object \n",
      " 16  TIF         10302 non-null  int64  \n",
      " 17  CAR_TYPE    10302 non-null  object \n",
      " 18  RED_CAR     10302 non-null  object \n",
      " 19  OLDCLAIM    10302 non-null  object \n",
      " 20  CLM_FREQ    10302 non-null  int64  \n",
      " 21  REVOKED     10302 non-null  object \n",
      " 22  MVR_PTS     10302 non-null  int64  \n",
      " 23  CLM_AMT     10302 non-null  object \n",
      " 24  CAR_AGE     9663 non-null   float64\n",
      " 25  CLAIM_FLAG  10302 non-null  int64  \n",
      " 26  URBANICITY  10302 non-null  object \n",
      "dtypes: float64(3), int64(8), object(16)\n",
      "memory usage: 2.1+ MB\n"
     ]
    }
   ],
   "source": [
    "df.info()"
   ]
  },
  {
   "cell_type": "markdown",
   "id": "91e55adb-fb53-47d7-a9b2-34328481bbe7",
   "metadata": {},
   "source": [
    "### Zawartość ramki danych\n",
    "'ID', - identfyfikator </br>\n",
    "'KIDSDRIV' - (0,1,2,3,4) </br>\n",
    "'BIRTH' - data urodzenia, DZIEN-MIESIAC-ROK'</br>\n",
    "'AGE' - wiek (16 - 81)</br>\n",
    "'HOMEKIDS' - ile klient ma dzieci (0-5) </br>\n",
    "'YOJ' - Year of J?  </br>\n",
    "'INCOME' - dochód</br>\n",
    "'PARENT1' -  (No, Yes)</br>\n",
    "'HOME_VAL' - ? </br>\n",
    "'MSTATUS' - (yes/no) </br>\n",
    "'GENDER' - płeć, przykład 'M', 'z_F </br>\n",
    "'EDUCATION' - wykształcenie - 'PhD', 'z_High School', 'Bachelors', 'High School', 'Masters'</br>\n",
    "'OCCUPATION' - zawód - przykładowo -'Manager', 'Doctor' </br>\n",
    "'TRAVTIME' -  czas podrózy?w minutach?(14 -101)</br>\n",
    "'CAR_USE' - charakter użytkowania pojazdu - prywatny / komercyjny </br>\n",
    "'BLUEBOOK' - wartość pojazdu/ w USA używają tzw BlueBook</br>\n",
    "'TIF' - (2,25)</br>\n",
    "'CAR_TYPE' - typ ['Minivan', 'Van', 'z_SUV', 'Sports Car', 'Panel Truck', 'Pickup']</br>\n",
    "'RED_CAR' - </br>\n",
    "'OLDCLAIM' - koszt przeszłych roszczeń</br>\n",
    "'CLM_FREQ' - częstość roszczeń </br>\n",
    "'REVOKED' - odwolanie (TAK, NIE) </br>\n",
    "'MVR_PTS' - (0, 13)</br>\n",
    "'CLM_AMT' - liczba roszczeń (0,1,2,3,4,5)</br>\n",
    "'CAR_AGE' - wiek samochodu</br>\n",
    "'CLAIM_FLAG' - wystąpienie roszczenia - (0, 1)</br>\n",
    "'URBANICITY' - miejsce wypadku ? ('Highly Urban/ Urban', 'z_Highly Rural/ Rural') </br>"
   ]
  },
  {
   "cell_type": "code",
   "execution_count": 213,
   "id": "ecc7f41a-7fbc-4d14-83a5-c3c495d33b63",
   "metadata": {},
   "outputs": [
    {
     "data": {
      "text/html": [
       "<div>\n",
       "<style scoped>\n",
       "    .dataframe tbody tr th:only-of-type {\n",
       "        vertical-align: middle;\n",
       "    }\n",
       "\n",
       "    .dataframe tbody tr th {\n",
       "        vertical-align: top;\n",
       "    }\n",
       "\n",
       "    .dataframe thead th {\n",
       "        text-align: right;\n",
       "    }\n",
       "</style>\n",
       "<table border=\"1\" class=\"dataframe\">\n",
       "  <thead>\n",
       "    <tr style=\"text-align: right;\">\n",
       "      <th></th>\n",
       "      <th>ID</th>\n",
       "      <th>KIDSDRIV</th>\n",
       "      <th>AGE</th>\n",
       "      <th>HOMEKIDS</th>\n",
       "      <th>YOJ</th>\n",
       "      <th>TRAVTIME</th>\n",
       "      <th>TIF</th>\n",
       "      <th>CLM_FREQ</th>\n",
       "      <th>MVR_PTS</th>\n",
       "      <th>CAR_AGE</th>\n",
       "      <th>CLAIM_FLAG</th>\n",
       "    </tr>\n",
       "  </thead>\n",
       "  <tbody>\n",
       "    <tr>\n",
       "      <th>count</th>\n",
       "      <td>1.030200e+04</td>\n",
       "      <td>10302.00</td>\n",
       "      <td>10295.00</td>\n",
       "      <td>10302.00</td>\n",
       "      <td>9754.00</td>\n",
       "      <td>10302.00</td>\n",
       "      <td>10302.00</td>\n",
       "      <td>10302.00</td>\n",
       "      <td>10302.00</td>\n",
       "      <td>9663.00</td>\n",
       "      <td>10302.00</td>\n",
       "    </tr>\n",
       "    <tr>\n",
       "      <th>mean</th>\n",
       "      <td>4.956631e+08</td>\n",
       "      <td>0.17</td>\n",
       "      <td>44.84</td>\n",
       "      <td>0.72</td>\n",
       "      <td>10.47</td>\n",
       "      <td>33.42</td>\n",
       "      <td>5.33</td>\n",
       "      <td>0.80</td>\n",
       "      <td>1.71</td>\n",
       "      <td>8.30</td>\n",
       "      <td>0.27</td>\n",
       "    </tr>\n",
       "    <tr>\n",
       "      <th>std</th>\n",
       "      <td>2.864675e+08</td>\n",
       "      <td>0.51</td>\n",
       "      <td>8.61</td>\n",
       "      <td>1.12</td>\n",
       "      <td>4.11</td>\n",
       "      <td>15.87</td>\n",
       "      <td>4.11</td>\n",
       "      <td>1.15</td>\n",
       "      <td>2.16</td>\n",
       "      <td>5.71</td>\n",
       "      <td>0.44</td>\n",
       "    </tr>\n",
       "    <tr>\n",
       "      <th>min</th>\n",
       "      <td>6.317500e+04</td>\n",
       "      <td>0.00</td>\n",
       "      <td>16.00</td>\n",
       "      <td>0.00</td>\n",
       "      <td>0.00</td>\n",
       "      <td>5.00</td>\n",
       "      <td>1.00</td>\n",
       "      <td>0.00</td>\n",
       "      <td>0.00</td>\n",
       "      <td>-3.00</td>\n",
       "      <td>0.00</td>\n",
       "    </tr>\n",
       "    <tr>\n",
       "      <th>25%</th>\n",
       "      <td>2.442869e+08</td>\n",
       "      <td>0.00</td>\n",
       "      <td>39.00</td>\n",
       "      <td>0.00</td>\n",
       "      <td>9.00</td>\n",
       "      <td>22.00</td>\n",
       "      <td>1.00</td>\n",
       "      <td>0.00</td>\n",
       "      <td>0.00</td>\n",
       "      <td>1.00</td>\n",
       "      <td>0.00</td>\n",
       "    </tr>\n",
       "    <tr>\n",
       "      <th>50%</th>\n",
       "      <td>4.970043e+08</td>\n",
       "      <td>0.00</td>\n",
       "      <td>45.00</td>\n",
       "      <td>0.00</td>\n",
       "      <td>11.00</td>\n",
       "      <td>33.00</td>\n",
       "      <td>4.00</td>\n",
       "      <td>0.00</td>\n",
       "      <td>1.00</td>\n",
       "      <td>8.00</td>\n",
       "      <td>0.00</td>\n",
       "    </tr>\n",
       "    <tr>\n",
       "      <th>75%</th>\n",
       "      <td>7.394551e+08</td>\n",
       "      <td>0.00</td>\n",
       "      <td>51.00</td>\n",
       "      <td>1.00</td>\n",
       "      <td>13.00</td>\n",
       "      <td>44.00</td>\n",
       "      <td>7.00</td>\n",
       "      <td>2.00</td>\n",
       "      <td>3.00</td>\n",
       "      <td>12.00</td>\n",
       "      <td>1.00</td>\n",
       "    </tr>\n",
       "    <tr>\n",
       "      <th>max</th>\n",
       "      <td>9.999264e+08</td>\n",
       "      <td>4.00</td>\n",
       "      <td>81.00</td>\n",
       "      <td>5.00</td>\n",
       "      <td>23.00</td>\n",
       "      <td>142.00</td>\n",
       "      <td>25.00</td>\n",
       "      <td>5.00</td>\n",
       "      <td>13.00</td>\n",
       "      <td>28.00</td>\n",
       "      <td>1.00</td>\n",
       "    </tr>\n",
       "  </tbody>\n",
       "</table>\n",
       "</div>"
      ],
      "text/plain": [
       "                 ID  KIDSDRIV       AGE  HOMEKIDS      YOJ  TRAVTIME  \\\n",
       "count  1.030200e+04  10302.00  10295.00  10302.00  9754.00  10302.00   \n",
       "mean   4.956631e+08      0.17     44.84      0.72    10.47     33.42   \n",
       "std    2.864675e+08      0.51      8.61      1.12     4.11     15.87   \n",
       "min    6.317500e+04      0.00     16.00      0.00     0.00      5.00   \n",
       "25%    2.442869e+08      0.00     39.00      0.00     9.00     22.00   \n",
       "50%    4.970043e+08      0.00     45.00      0.00    11.00     33.00   \n",
       "75%    7.394551e+08      0.00     51.00      1.00    13.00     44.00   \n",
       "max    9.999264e+08      4.00     81.00      5.00    23.00    142.00   \n",
       "\n",
       "            TIF  CLM_FREQ   MVR_PTS  CAR_AGE  CLAIM_FLAG  \n",
       "count  10302.00  10302.00  10302.00  9663.00    10302.00  \n",
       "mean       5.33      0.80      1.71     8.30        0.27  \n",
       "std        4.11      1.15      2.16     5.71        0.44  \n",
       "min        1.00      0.00      0.00    -3.00        0.00  \n",
       "25%        1.00      0.00      0.00     1.00        0.00  \n",
       "50%        4.00      0.00      1.00     8.00        0.00  \n",
       "75%        7.00      2.00      3.00    12.00        1.00  \n",
       "max       25.00      5.00     13.00    28.00        1.00  "
      ]
     },
     "execution_count": 213,
     "metadata": {},
     "output_type": "execute_result"
    }
   ],
   "source": [
    "report = pd.DataFrame(df.describe()).round(2)\n",
    "report"
   ]
  },
  {
   "cell_type": "markdown",
   "id": "0acf08b8-877d-4cbe-8823-225fd560b5d4",
   "metadata": {},
   "source": [
    "### Scenariusz eksploracji danych zawarte w analizie\n",
    "\n",
    "1. Weryfikacja unikalnych wartości\n",
    "2. Eliminacja błędów danych\n",
    "3. Rozkłady zmiennych\n",
    "4. Liczebności/Czestość zdarzeń\n",
    "5. Analiza pareto\n",
    "6. Zależności pomiędzy zmiennymi"
   ]
  },
  {
   "cell_type": "markdown",
   "id": "c56866cc-3b36-4675-9edf-b1f9d3713198",
   "metadata": {
    "tags": []
   },
   "source": [
    "### 1. Unikalne wartośći"
   ]
  },
  {
   "cell_type": "code",
   "execution_count": 214,
   "id": "f7537c9c-ae6a-443a-b843-86a36f46ecac",
   "metadata": {
    "scrolled": true,
    "tags": []
   },
   "outputs": [
    {
     "name": "stdout",
     "output_type": "stream",
     "text": [
      "ID int64\n",
      "[ 63581743 132761049 921317019 ...  67790126 849208064 680381960]\n",
      "KIDSDRIV int64\n",
      "[0 1 2 3 4]\n",
      "BIRTH object\n",
      "['16MAR39' '21JAN56' '18NOV51' ... '13AUG54' '18JUN51' '27FEB47']\n",
      "AGE float64\n",
      "[60. 43. 48. 35. 51. 50. 34. 54. 40. 44. 37. 53. 55. 45. 39. 59. 42. 31.\n",
      " 28. 47. 46. 33. 32. 49. 36. 52. 41. 56. 38. 63. 62. 30. 29. 58. 64. 66.\n",
      " 26. 61. 80. 57. nan 25. 27. 20. 21. 19. 72. 69. 24. 67. 22. 23. 65. 70.\n",
      " 17. 16. 81. 73. 71. 68. 18. 76.]\n",
      "HOMEKIDS int64\n",
      "[0 1 2 3 4 5]\n",
      "YOJ float64\n",
      "[11. 10. 14. nan 12.  7.  5.  0. 13.  9. 17.  8. 15. 16.  6. 18. 23.  4.\n",
      "  3.  2. 19.  1.]\n",
      "INCOME object\n",
      "['$67,349' '$91,449' '$52,881' ... '$164,669' '$107,204' '$53,235']\n",
      "PARENT1 object\n",
      "['No' 'Yes']\n",
      "HOME_VAL object\n",
      "['$0' '$257,252' '$124,191' ... '$332,591' '$170,611' '$197,017']\n",
      "MSTATUS object\n",
      "['z_No' 'Yes']\n",
      "GENDER object\n",
      "['M' 'z_F']\n",
      "EDUCATION object\n",
      "['PhD' 'z_High School' 'Bachelors' '<High School' 'Masters']\n",
      "OCCUPATION object\n",
      "['Professional' 'z_Blue Collar' 'Manager' 'Clerical' 'Doctor' 'Lawyer' nan\n",
      " 'Home Maker' 'Student']\n",
      "TRAVTIME int64\n",
      "[ 14  22  26   5  32  36  46  33  21  30  44  34  48  15  25  64  74  43\n",
      "  45  42  27  29  52   8   7  16  37  12  38  65  18  47  10  40  62  35\n",
      "  24  20  50  13  31  28  11   9  57  49  61  41  23  59  17  63  53  68\n",
      "  54  60  39  69  55  73  51  58  81  19   6  83  56  75  84  70  67  72\n",
      "  79  76  78  66  88  71  90  86  87 113  80  98  77  93  82 124  85 142\n",
      "  99  95 105  92 134  89 103  97  91 101]\n",
      "CAR_USE object\n",
      "['Private' 'Commercial']\n",
      "BLUEBOOK object\n",
      "['$14,230' '$14,940' '$21,970' ... '$2,790' '$28,490' '$32,960']\n",
      "TIF int64\n",
      "[11  1  4  7  6 10  9 17 18 13  5  3 16 12  8 14 20 22 21  2 15 19 25]\n",
      "CAR_TYPE object\n",
      "['Minivan' 'Van' 'z_SUV' 'Sports Car' 'Panel Truck' 'Pickup']\n",
      "RED_CAR object\n",
      "['yes' 'no']\n",
      "OLDCLAIM object\n",
      "['$4,461' '$0' '$38,690' ... '$33,026' '$3,995' '$9,245']\n",
      "CLM_FREQ int64\n",
      "[2 0 1 3 5 4]\n",
      "REVOKED object\n",
      "['No' 'Yes']\n",
      "MVR_PTS int64\n",
      "[ 3  0  2 10  1  4  5 13  8  6  7  9 11 12]\n",
      "CLM_AMT object\n",
      "['$0' '$2,946' '$6,477' ... '$3,106' '$3,135' '$1,815']\n",
      "CAR_AGE float64\n",
      "[18.  1. 10.  6. 17.  7. 11.  9.  4.  5. 13. 16. 20. 14. 12. 15. nan  8.\n",
      "  3. 21. 19. 23.  0. 22.  2. 26. 27. 24. 25. -3. 28.]\n",
      "CLAIM_FLAG int64\n",
      "[0 1]\n",
      "URBANICITY object\n",
      "['Highly Urban/ Urban' 'z_Highly Rural/ Rural']\n"
     ]
    }
   ],
   "source": [
    "#df['HOME_VAL'].unique()\n",
    "for i in df.columns:\n",
    "    print(i, df[i].dtype)\n",
    "    print(df.loc[:,i].unique())\n"
   ]
  },
  {
   "cell_type": "markdown",
   "id": "e01ed4b9-0497-4625-91d3-49498912658c",
   "metadata": {
    "tags": []
   },
   "source": [
    "### 2. Błędy danych"
   ]
  },
  {
   "cell_type": "markdown",
   "id": "23c33cf9-6392-4fc7-a62e-2ba73436097c",
   "metadata": {},
   "source": [
    "2.1. Znak $ w zmiennych ilosciowych"
   ]
  },
  {
   "cell_type": "code",
   "execution_count": 215,
   "id": "e7fbc620-6f51-412a-b3bf-4fbfa2c2fed3",
   "metadata": {},
   "outputs": [
    {
     "name": "stdout",
     "output_type": "stream",
     "text": [
      "INCOME\n",
      "HOME_VAL\n",
      "BLUEBOOK\n",
      "OLDCLAIM\n",
      "CLM_AMT\n"
     ]
    },
    {
     "name": "stderr",
     "output_type": "stream",
     "text": [
      "/home/dlvm/anaconda3/envs/Surfaces/lib/python3.7/site-packages/ipykernel_launcher.py:9: FutureWarning: The default value of regex will change from True to False in a future version. In addition, single character regular expressions will *not* be treated as literal strings when regex=True.\n",
      "  if __name__ == \"__main__\":\n"
     ]
    }
   ],
   "source": [
    "# w zmiennych z $ podmieniam znak na pusty i zamieniam na float\n",
    "for i in df.columns:\n",
    "    n = 0\n",
    "    for j in list(df[i].values):\n",
    "        if '$' in str(j):\n",
    "            n += 1\n",
    "            print(i)\n",
    "            if n >= 1:\n",
    "                df[i] = df[i].str.replace('$', '')\n",
    "                df[i] = df[i].str.replace(',', '.').astype(np.float32)\n",
    "                break"
   ]
  },
  {
   "cell_type": "code",
   "execution_count": null,
   "id": "ecac0188-6442-4da6-a9da-0c519ce84cef",
   "metadata": {
    "scrolled": true,
    "tags": []
   },
   "outputs": [],
   "source": []
  },
  {
   "cell_type": "markdown",
   "id": "15fdce60-a61e-4e1e-8343-7c40ed975554",
   "metadata": {},
   "source": [
    "2.2. Wystepowanie brakujących wartości zidentyfikowanych jako NA"
   ]
  },
  {
   "cell_type": "code",
   "execution_count": 216,
   "id": "cf463086-7549-40f0-aed5-f4488b6ed5b8",
   "metadata": {},
   "outputs": [
    {
     "data": {
      "text/plain": [
       "ID              0\n",
       "KIDSDRIV        0\n",
       "BIRTH           0\n",
       "AGE             7\n",
       "HOMEKIDS        0\n",
       "YOJ           548\n",
       "INCOME        570\n",
       "PARENT1         0\n",
       "HOME_VAL      575\n",
       "MSTATUS         0\n",
       "GENDER          0\n",
       "EDUCATION       0\n",
       "OCCUPATION    665\n",
       "TRAVTIME        0\n",
       "CAR_USE         0\n",
       "BLUEBOOK        0\n",
       "TIF             0\n",
       "CAR_TYPE        0\n",
       "RED_CAR         0\n",
       "OLDCLAIM        0\n",
       "CLM_FREQ        0\n",
       "REVOKED         0\n",
       "MVR_PTS         0\n",
       "CLM_AMT         0\n",
       "CAR_AGE       639\n",
       "CLAIM_FLAG      0\n",
       "URBANICITY      0\n",
       "dtype: int64"
      ]
     },
     "execution_count": 216,
     "metadata": {},
     "output_type": "execute_result"
    }
   ],
   "source": [
    "df.isna().sum()"
   ]
  },
  {
   "cell_type": "code",
   "execution_count": 217,
   "id": "5e3d9b36-a969-4a5e-8d51-03f74e0ea394",
   "metadata": {},
   "outputs": [],
   "source": [
    "## Czyli musimy pomysleć jaka metoda zrobi imputacje danych.\n",
    "df = df.replace(np.nan, 0)"
   ]
  },
  {
   "cell_type": "code",
   "execution_count": 218,
   "id": "522ca6ca-f0f9-4aa2-897e-9ac1d2471f38",
   "metadata": {},
   "outputs": [
    {
     "data": {
      "text/html": [
       "<div>\n",
       "<style scoped>\n",
       "    .dataframe tbody tr th:only-of-type {\n",
       "        vertical-align: middle;\n",
       "    }\n",
       "\n",
       "    .dataframe tbody tr th {\n",
       "        vertical-align: top;\n",
       "    }\n",
       "\n",
       "    .dataframe thead th {\n",
       "        text-align: right;\n",
       "    }\n",
       "</style>\n",
       "<table border=\"1\" class=\"dataframe\">\n",
       "  <thead>\n",
       "    <tr style=\"text-align: right;\">\n",
       "      <th></th>\n",
       "      <th>ID</th>\n",
       "      <th>KIDSDRIV</th>\n",
       "      <th>AGE</th>\n",
       "      <th>HOMEKIDS</th>\n",
       "      <th>YOJ</th>\n",
       "      <th>INCOME</th>\n",
       "      <th>HOME_VAL</th>\n",
       "      <th>TRAVTIME</th>\n",
       "      <th>BLUEBOOK</th>\n",
       "      <th>TIF</th>\n",
       "      <th>OLDCLAIM</th>\n",
       "      <th>CLM_FREQ</th>\n",
       "      <th>MVR_PTS</th>\n",
       "      <th>CLM_AMT</th>\n",
       "      <th>CAR_AGE</th>\n",
       "      <th>CLAIM_FLAG</th>\n",
       "    </tr>\n",
       "  </thead>\n",
       "  <tbody>\n",
       "    <tr>\n",
       "      <th>count</th>\n",
       "      <td>1.030200e+04</td>\n",
       "      <td>10302.00</td>\n",
       "      <td>10302.00</td>\n",
       "      <td>10302.00</td>\n",
       "      <td>10302.00</td>\n",
       "      <td>10302.00</td>\n",
       "      <td>10302.00</td>\n",
       "      <td>10302.00</td>\n",
       "      <td>10302.00</td>\n",
       "      <td>10302.00</td>\n",
       "      <td>10302.00</td>\n",
       "      <td>10302.00</td>\n",
       "      <td>10302.00</td>\n",
       "      <td>10302.00</td>\n",
       "      <td>10302.00</td>\n",
       "      <td>10302.00</td>\n",
       "    </tr>\n",
       "    <tr>\n",
       "      <th>mean</th>\n",
       "      <td>4.956631e+08</td>\n",
       "      <td>0.17</td>\n",
       "      <td>44.81</td>\n",
       "      <td>0.72</td>\n",
       "      <td>9.92</td>\n",
       "      <td>60.36</td>\n",
       "      <td>145.90</td>\n",
       "      <td>33.42</td>\n",
       "      <td>15.66</td>\n",
       "      <td>5.33</td>\n",
       "      <td>13.67</td>\n",
       "      <td>0.80</td>\n",
       "      <td>1.71</td>\n",
       "      <td>9.78</td>\n",
       "      <td>7.78</td>\n",
       "      <td>0.27</td>\n",
       "    </tr>\n",
       "    <tr>\n",
       "      <th>std</th>\n",
       "      <td>2.864675e+08</td>\n",
       "      <td>0.51</td>\n",
       "      <td>8.68</td>\n",
       "      <td>1.12</td>\n",
       "      <td>4.64</td>\n",
       "      <td>58.49</td>\n",
       "      <td>130.45</td>\n",
       "      <td>15.87</td>\n",
       "      <td>8.43</td>\n",
       "      <td>4.11</td>\n",
       "      <td>87.77</td>\n",
       "      <td>1.15</td>\n",
       "      <td>2.16</td>\n",
       "      <td>78.86</td>\n",
       "      <td>5.89</td>\n",
       "      <td>0.44</td>\n",
       "    </tr>\n",
       "    <tr>\n",
       "      <th>min</th>\n",
       "      <td>6.317500e+04</td>\n",
       "      <td>0.00</td>\n",
       "      <td>0.00</td>\n",
       "      <td>0.00</td>\n",
       "      <td>0.00</td>\n",
       "      <td>0.00</td>\n",
       "      <td>0.00</td>\n",
       "      <td>5.00</td>\n",
       "      <td>1.50</td>\n",
       "      <td>1.00</td>\n",
       "      <td>0.00</td>\n",
       "      <td>0.00</td>\n",
       "      <td>0.00</td>\n",
       "      <td>0.00</td>\n",
       "      <td>-3.00</td>\n",
       "      <td>0.00</td>\n",
       "    </tr>\n",
       "    <tr>\n",
       "      <th>25%</th>\n",
       "      <td>2.442869e+08</td>\n",
       "      <td>0.00</td>\n",
       "      <td>39.00</td>\n",
       "      <td>0.00</td>\n",
       "      <td>8.00</td>\n",
       "      <td>23.20</td>\n",
       "      <td>0.00</td>\n",
       "      <td>22.00</td>\n",
       "      <td>9.20</td>\n",
       "      <td>1.00</td>\n",
       "      <td>0.00</td>\n",
       "      <td>0.00</td>\n",
       "      <td>0.00</td>\n",
       "      <td>0.00</td>\n",
       "      <td>1.00</td>\n",
       "      <td>0.00</td>\n",
       "    </tr>\n",
       "    <tr>\n",
       "      <th>50%</th>\n",
       "      <td>4.970043e+08</td>\n",
       "      <td>0.00</td>\n",
       "      <td>45.00</td>\n",
       "      <td>0.00</td>\n",
       "      <td>11.00</td>\n",
       "      <td>51.10</td>\n",
       "      <td>151.29</td>\n",
       "      <td>33.00</td>\n",
       "      <td>14.40</td>\n",
       "      <td>4.00</td>\n",
       "      <td>0.00</td>\n",
       "      <td>0.00</td>\n",
       "      <td>1.00</td>\n",
       "      <td>0.00</td>\n",
       "      <td>8.00</td>\n",
       "      <td>0.00</td>\n",
       "    </tr>\n",
       "    <tr>\n",
       "      <th>75%</th>\n",
       "      <td>7.394551e+08</td>\n",
       "      <td>0.00</td>\n",
       "      <td>51.00</td>\n",
       "      <td>1.00</td>\n",
       "      <td>13.00</td>\n",
       "      <td>84.04</td>\n",
       "      <td>233.09</td>\n",
       "      <td>44.00</td>\n",
       "      <td>20.89</td>\n",
       "      <td>7.00</td>\n",
       "      <td>4.94</td>\n",
       "      <td>2.00</td>\n",
       "      <td>3.00</td>\n",
       "      <td>1.50</td>\n",
       "      <td>12.00</td>\n",
       "      <td>1.00</td>\n",
       "    </tr>\n",
       "    <tr>\n",
       "      <th>max</th>\n",
       "      <td>9.999264e+08</td>\n",
       "      <td>4.00</td>\n",
       "      <td>81.00</td>\n",
       "      <td>5.00</td>\n",
       "      <td>23.00</td>\n",
       "      <td>997.00</td>\n",
       "      <td>885.28</td>\n",
       "      <td>142.00</td>\n",
       "      <td>69.74</td>\n",
       "      <td>25.00</td>\n",
       "      <td>999.00</td>\n",
       "      <td>5.00</td>\n",
       "      <td>13.00</td>\n",
       "      <td>991.00</td>\n",
       "      <td>28.00</td>\n",
       "      <td>1.00</td>\n",
       "    </tr>\n",
       "  </tbody>\n",
       "</table>\n",
       "</div>"
      ],
      "text/plain": [
       "                 ID  KIDSDRIV       AGE  HOMEKIDS       YOJ    INCOME  \\\n",
       "count  1.030200e+04  10302.00  10302.00  10302.00  10302.00  10302.00   \n",
       "mean   4.956631e+08      0.17     44.81      0.72      9.92     60.36   \n",
       "std    2.864675e+08      0.51      8.68      1.12      4.64     58.49   \n",
       "min    6.317500e+04      0.00      0.00      0.00      0.00      0.00   \n",
       "25%    2.442869e+08      0.00     39.00      0.00      8.00     23.20   \n",
       "50%    4.970043e+08      0.00     45.00      0.00     11.00     51.10   \n",
       "75%    7.394551e+08      0.00     51.00      1.00     13.00     84.04   \n",
       "max    9.999264e+08      4.00     81.00      5.00     23.00    997.00   \n",
       "\n",
       "       HOME_VAL  TRAVTIME  BLUEBOOK       TIF  OLDCLAIM  CLM_FREQ   MVR_PTS  \\\n",
       "count  10302.00  10302.00  10302.00  10302.00  10302.00  10302.00  10302.00   \n",
       "mean     145.90     33.42     15.66      5.33     13.67      0.80      1.71   \n",
       "std      130.45     15.87      8.43      4.11     87.77      1.15      2.16   \n",
       "min        0.00      5.00      1.50      1.00      0.00      0.00      0.00   \n",
       "25%        0.00     22.00      9.20      1.00      0.00      0.00      0.00   \n",
       "50%      151.29     33.00     14.40      4.00      0.00      0.00      1.00   \n",
       "75%      233.09     44.00     20.89      7.00      4.94      2.00      3.00   \n",
       "max      885.28    142.00     69.74     25.00    999.00      5.00     13.00   \n",
       "\n",
       "        CLM_AMT   CAR_AGE  CLAIM_FLAG  \n",
       "count  10302.00  10302.00    10302.00  \n",
       "mean       9.78      7.78        0.27  \n",
       "std       78.86      5.89        0.44  \n",
       "min        0.00     -3.00        0.00  \n",
       "25%        0.00      1.00        0.00  \n",
       "50%        0.00      8.00        0.00  \n",
       "75%        1.50     12.00        1.00  \n",
       "max      991.00     28.00        1.00  "
      ]
     },
     "execution_count": 218,
     "metadata": {},
     "output_type": "execute_result"
    }
   ],
   "source": [
    "report = pd.DataFrame(df.describe()).round(2)\n",
    "report"
   ]
  },
  {
   "cell_type": "markdown",
   "id": "52669a96-29f1-42e8-b2ce-75fbda667f05",
   "metadata": {},
   "source": [
    "### 3 . Rozkłady zmiennych ilościowych"
   ]
  },
  {
   "cell_type": "code",
   "execution_count": 126,
   "id": "2be76401-8dff-4776-97ad-4a95a56c7fdc",
   "metadata": {},
   "outputs": [
    {
     "data": {
      "image/png": "[encoded data removed]",
      "text/plain": [
       "<Figure size 1440x720 with 16 Axes>"
      ]
     },
     "metadata": {
      "needs_background": "light"
     },
     "output_type": "display_data"
    }
   ],
   "source": [
    "df[list(report.columns)].hist(bins=15, figsize=(20, 10), layout=(4, 4));"
   ]
  },
  {
   "cell_type": "markdown",
   "id": "35e05fa6-37df-492f-83ce-753593dd5317",
   "metadata": {},
   "source": [
    "### 4. Analiza częstości występowania"
   ]
  },
  {
   "cell_type": "code",
   "execution_count": 127,
   "id": "26f86747-0129-42dc-b22d-e03b41af19f4",
   "metadata": {},
   "outputs": [],
   "source": [
    "####\n",
    "df = df[df['CLM_AMT'] > 200]"
   ]
  },
  {
   "cell_type": "code",
   "execution_count": 231,
   "id": "7cd81318-2c0c-4036-b8a4-932f6029490c",
   "metadata": {},
   "outputs": [],
   "source": [
    "df['CLM_AMT_PRCNT'] = (df['CLM_AMT'] / df['CLM_AMT'].max())*100"
   ]
  },
  {
   "cell_type": "code",
   "execution_count": 235,
   "id": "bec2db43-36e0-4151-b419-d8c8c1c83951",
   "metadata": {},
   "outputs": [],
   "source": [
    "df['AGE_GROUP'] = (df['AGE'] / 10).round()\n",
    "df['AGE_GROUP_COUNT'] = df.groupby(['AGE_GROUP'])['CLAIM_FLAG'].transform('sum')"
   ]
  },
  {
   "cell_type": "code",
   "execution_count": null,
   "id": "f2cf3fad-9bba-4b91-89bd-659ae5fb791f",
   "metadata": {},
   "outputs": [],
   "source": []
  },
  {
   "cell_type": "code",
   "execution_count": 246,
   "id": "a5ca913c-d32f-4ebf-b8fd-ff95c99432c9",
   "metadata": {},
   "outputs": [
    {
     "data": {
      "image/png": "[encoded data removed]",
      "text/plain": [
       "<Figure size 720x360 with 2 Axes>"
      ]
     },
     "metadata": {
      "needs_background": "light"
     },
     "output_type": "display_data"
    }
   ],
   "source": [
    "# ilościowe zmienne bez ID\n",
    "for col in ['AGE_GROUP']:\n",
    "    fig=plt.figure(figsize=(10,5))\n",
    "    ax1 = fig.add_subplot(111)\n",
    "    \n",
    "    ax2 = plt.twinx()\n",
    "\n",
    "    #sns.distplot(df[col], bins=5,  kde=False,color='blue',hist_kws=dict(edgecolor=\"k\", linewidth=2))\n",
    "    g=sns.barplot(x='AGE_GROUP',y=df['AGE_GROUP_COUNT'],data=df,color='blue',ax=ax1)\n",
    "    g.set_xticklabels(['0-10','10-20','21-30','31-40','41-50','51-60','61-70','71-80'])\n",
    "    sns.lineplot( data=df,x=col, y=\"CLM_AMT_PRCNT\",ax=ax2,color='red')\n",
    "\n",
    "    plt.show()"
   ]
  },
  {
   "cell_type": "code",
   "execution_count": null,
   "id": "a3b6fb72-f48d-4dd6-b9a5-4c1f94408b20",
   "metadata": {},
   "outputs": [],
   "source": []
  },
  {
   "cell_type": "code",
   "execution_count": 144,
   "id": "2083b481-101a-4f79-be43-b571c434c1f1",
   "metadata": {},
   "outputs": [
    {
     "data": {
      "text/plain": [
       "[]"
      ]
     },
     "execution_count": 144,
     "metadata": {},
     "output_type": "execute_result"
    }
   ],
   "source": []
  },
  {
   "cell_type": "markdown",
   "id": "69ecb8b2-acd6-49f2-a5ac-2374ee89a335",
   "metadata": {},
   "source": [
    "### 5. Analiza pareto"
   ]
  },
  {
   "cell_type": "code",
   "execution_count": null,
   "id": "2fb60b71-5fd4-4dcc-94c1-0053bf1a0f77",
   "metadata": {},
   "outputs": [],
   "source": []
  },
  {
   "cell_type": "code",
   "execution_count": null,
   "id": "7350b626-35b4-4c5f-b0b5-9b7cfaa4be42",
   "metadata": {},
   "outputs": [],
   "source": []
  },
  {
   "cell_type": "code",
   "execution_count": null,
   "id": "66b38e3c-bb14-47d7-bc0b-035f8e616394",
   "metadata": {},
   "outputs": [],
   "source": []
  },
  {
   "cell_type": "code",
   "execution_count": null,
   "id": "6b297dba-294c-4966-b143-cd68a8e8eb4f",
   "metadata": {},
   "outputs": [],
   "source": []
  },
  {
   "cell_type": "markdown",
   "id": "467ec4ec-8214-4cb9-b470-1f014ad6a4f3",
   "metadata": {},
   "source": [
    "### 6. Zależność pomiędzy zmiennymi"
   ]
  },
  {
   "cell_type": "code",
   "execution_count": 86,
   "id": "ab142413-12b5-40d3-a37d-cb5572ecca09",
   "metadata": {},
   "outputs": [],
   "source": []
  },
  {
   "cell_type": "code",
   "execution_count": null,
   "id": "04e91039-3bfc-4252-8de0-a8f919dda7b8",
   "metadata": {},
   "outputs": [],
   "source": []
  },
  {
   "cell_type": "code",
   "execution_count": null,
   "id": "aab98a65-cb5a-4aa4-a16c-cff8920a2fd3",
   "metadata": {},
   "outputs": [],
   "source": []
  },
  {
   "cell_type": "code",
   "execution_count": null,
   "id": "42f5b169-4e6b-44ef-b5bb-7f1a36cb5d28",
   "metadata": {},
   "outputs": [],
   "source": [
    "sns.jointplot(x=df['1stFlrSF'], y=df['SalePrice']);"
   ]
  },
  {
   "cell_type": "code",
   "execution_count": null,
   "id": "b44a0286-ab71-457f-b72d-9815bf780019",
   "metadata": {},
   "outputs": [],
   "source": []
  },
  {
   "cell_type": "code",
   "execution_count": null,
   "id": "0d8d32db-9492-439a-977b-2b3078a7f784",
   "metadata": {},
   "outputs": [],
   "source": []
  },
  {
   "cell_type": "code",
   "execution_count": null,
   "id": "acbe81a2-3734-4e4f-9a06-6d35cf28fe1b",
   "metadata": {},
   "outputs": [],
   "source": []
  },
  {
   "cell_type": "code",
   "execution_count": null,
   "id": "5320cfad-a0c8-424e-b1fd-f6f82408d0e4",
   "metadata": {},
   "outputs": [],
   "source": []
  }
 ],
 "metadata": {
  "kernelspec": {
   "display_name": "Python 3 (ipykernel)",
   "language": "python",
   "name": "python3"
  },
  "language_info": {
   "codemirror_mode": {
    "name": "ipython",
    "version": 3
   },
   "file_extension": ".py",
   "mimetype": "text/x-python",
   "name": "python",
   "nbconvert_exporter": "python",
   "pygments_lexer": "ipython3",
   "version": "3.7.11"
  }
 },
 "nbformat": 4,
 "nbformat_minor": 5
}
