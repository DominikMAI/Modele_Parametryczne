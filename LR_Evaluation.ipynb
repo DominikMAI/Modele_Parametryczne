{
 "cells": [
  {
   "cell_type": "code",
   "execution_count": 122,
   "id": "466d6fd1-a8ce-410d-b6e9-9cf997fda156",
   "metadata": {},
   "outputs": [],
   "source": [
    "import pandas as pd\n",
    "from sklearn.metrics import *\n",
    "import numpy as np\n",
    "import matplotlib.pyplot as plt\n",
    "from mlxtend.plotting import plot_confusion_matrix\n",
    "import warnings\n",
    "\n",
    "warnings.filterwarnings(\"ignore\")\n",
    "### Potem pewnie przetestujemy kilka wariantow wiec miary sie zepnie w jedna funkcje generującą tabele model - metryki, jak na zajeciach"
   ]
  },
  {
   "cell_type": "code",
   "execution_count": 86,
   "id": "d1224823-7856-413a-8242-f435d0fec843",
   "metadata": {},
   "outputs": [],
   "source": [
    "np.random.seed(1)"
   ]
  },
  {
   "cell_type": "markdown",
   "id": "6792fa1c-d4e6-4d99-9ed4-591b8bb94449",
   "metadata": {},
   "source": [
    "### Sztuczne dane"
   ]
  },
  {
   "cell_type": "code",
   "execution_count": 87,
   "id": "18759dfe-a949-4262-8fb0-cec74294e6a3",
   "metadata": {},
   "outputs": [],
   "source": [
    "y_pred = np.random.rand(300, 1)\n",
    "y_gt = np.random.rand(300, 1)\n",
    "\n",
    "y_pred_b = (y_pred > 0.5) *1\n",
    "y_gt_b = (y_gt > 0.5) *1\n",
    "\n",
    "# Gdybysmy mieli juz prawdziwe wskazania to\n",
    "#y_pred = np.load('./dane/y_pred.npz')\n",
    "#y_gt = np.load('./dane/y_true.npz')"
   ]
  },
  {
   "cell_type": "markdown",
   "id": "0947a63c-6a5c-4e3a-a4b4-6edfac30966e",
   "metadata": {},
   "source": [
    "### Miary wydajności modelu"
   ]
  },
  {
   "cell_type": "markdown",
   "id": "d2cd8df3-dc3e-46fd-a153-9c255f2615ab",
   "metadata": {},
   "source": [
    "\n",
    "\n"
   ]
  },
  {
   "cell_type": "code",
   "execution_count": 88,
   "id": "132b402c-33eb-4005-ade1-170396d82e12",
   "metadata": {},
   "outputs": [
    {
     "name": "stdout",
     "output_type": "stream",
     "text": [
      "Dokładność wynosi 47.0 %\n",
      "Zbalansowana dokładność wynosi 47.0 %\n"
     ]
    }
   ],
   "source": [
    "acc = round(accuracy_score(y_pred_b, y_gt_b),2)*100\n",
    "b_acc = round(balanced_accuracy_score(y_pred_b, y_gt_b),2)*100\n",
    "\n",
    "print(f'Dokładność wynosi {acc} %')\n",
    "print(f'Zbalansowana dokładność wynosi {b_acc} %')"
   ]
  },
  {
   "cell_type": "code",
   "execution_count": 114,
   "id": "be190eb2-0a89-469d-a06c-68fb29c7214c",
   "metadata": {},
   "outputs": [],
   "source": [
    "def Dice_Sorensen_coefficient(y_true, y_pred,k = 1):\n",
    "\n",
    "    intersection = np.sum(y_pred[y_true==k]) * 2.0\n",
    "    dice = intersection / (np.sum(y_pred) + np.sum(y_true))\n",
    "    return dice\n"
   ]
  },
  {
   "cell_type": "code",
   "execution_count": 115,
   "id": "431d73f6-19e5-4e4b-892f-16204c13cbbb",
   "metadata": {},
   "outputs": [
    {
     "name": "stdout",
     "output_type": "stream",
     "text": [
      "Współczynik Jaccarda wynosi 0.33\n",
      "Współczynik Dice`a wynosi 0.49\n"
     ]
    }
   ],
   "source": [
    "iou = round(jaccard_score(y_pred_b, y_gt_b),2)\n",
    "print(f'Współczynik Jaccarda wynosi {iou}')\n",
    "\n",
    "dice = round(Dice_Sorensen_coefficient(y_pred_b, y_gt_b),2)\n",
    "print(f'Współczynik Dice`a wynosi {dice}')"
   ]
  },
  {
   "cell_type": "code",
   "execution_count": 118,
   "id": "94e761a6-aa2e-47d7-b45a-6b5cdbd3ac8c",
   "metadata": {},
   "outputs": [
    {
     "name": "stdout",
     "output_type": "stream",
     "text": [
      "              precision    recall  f1-score   support\n",
      "\n",
      "      szkoda       0.47      0.44      0.45       149\n",
      "  nie szkoda       0.48      0.51      0.49       151\n",
      "\n",
      "    accuracy                           0.47       300\n",
      "   macro avg       0.47      0.47      0.47       300\n",
      "weighted avg       0.47      0.47      0.47       300\n",
      "\n"
     ]
    }
   ],
   "source": [
    "cr = classification_report(y_gt_b, y_pred_b, target_names=['szkoda', 'nie szkoda'])\n",
    "print(cr)"
   ]
  },
  {
   "cell_type": "markdown",
   "id": "dea2e6d1-d8a0-49ff-ab1d-46516628074b",
   "metadata": {},
   "source": [
    "### Krzywa ROC"
   ]
  },
  {
   "cell_type": "code",
   "execution_count": 119,
   "id": "1ffa6ed5-b5ec-4927-857e-4d7b1f02cbd2",
   "metadata": {},
   "outputs": [],
   "source": [
    "fpr, tpr, _ = roc_curve(y_gt_b, y_pred_b)\n",
    "roc_auc = auc(fpr, tpr)"
   ]
  },
  {
   "cell_type": "code",
   "execution_count": 120,
   "id": "09c4a090-c48d-44d7-b1f2-1395802f1d36",
   "metadata": {},
   "outputs": [
    {
     "name": "stderr",
     "output_type": "stream",
     "text": [
      "No handles with labels found to put in legend.\n"
     ]
    },
    {
     "data": {
      "image/png": "[encoded data removed]",
      "text/plain": [
       "<Figure size 576x576 with 1 Axes>"
      ]
     },
     "metadata": {
      "needs_background": "light"
     },
     "output_type": "display_data"
    }
   ],
   "source": [
    "plt.figure()\n",
    "lw = 2\n",
    "plt.plot(\n",
    "    fpr,\n",
    "    tpr, color=\"orange\")\n",
    "\n",
    "plt.plot([0, 1], [0, 1], color=\"navy\", lw=lw, linestyle=\"--\")\n",
    "plt.xlim([0.0, 1.0])\n",
    "plt.ylim([0.0, 1.05])\n",
    "plt.xlabel(\"False Positive Rate\")\n",
    "plt.ylabel(\"True Positive Rate\")\n",
    "plt.title(\"Receiver operating characteristic example\")\n",
    "plt.legend(loc=\"lower right\")\n",
    "plt.show()"
   ]
  },
  {
   "cell_type": "markdown",
   "id": "8f49f0c8-96e6-4abd-82ac-5fbb8b0eccaf",
   "metadata": {},
   "source": [
    "### Macierz pomyłek "
   ]
  },
  {
   "cell_type": "code",
   "execution_count": 121,
   "id": "e60ecf58-4209-4cf7-b447-a6d31c4210cd",
   "metadata": {},
   "outputs": [
    {
     "data": {
      "image/png": "[encoded data removed]",
      "text/plain": [
       "<Figure size 576x576 with 2 Axes>"
      ]
     },
     "metadata": {
      "needs_background": "light"
     },
     "output_type": "display_data"
    }
   ],
   "source": [
    "cm = confusion_matrix(y_gt_b, y_pred_b)\n",
    "classes = ['odszkodowanie', \"nie odszkodowanie\"]\n",
    "plt.rcParams[\"figure.figsize\"] = (8, 8)\n",
    "\n",
    "figure, ax = plot_confusion_matrix(conf_mat = cm,\n",
    "                                   class_names = classes,\n",
    "                                   show_absolute = True,\n",
    "                                   show_normed = True, \n",
    "                                   colorbar = True)\n",
    "\n",
    "plt.show()"
   ]
  },
  {
   "cell_type": "code",
   "execution_count": null,
   "id": "8c8aae5d-1816-41d9-87a1-40774b2bbd6c",
   "metadata": {},
   "outputs": [],
   "source": []
  },
  {
   "cell_type": "code",
   "execution_count": null,
   "id": "d2f5dd5e-d491-4424-8737-7789a5cbc1aa",
   "metadata": {},
   "outputs": [],
   "source": []
  },
  {
   "cell_type": "code",
   "execution_count": null,
   "id": "6822b484-1ca2-4734-94d7-5cd3495a1efd",
   "metadata": {},
   "outputs": [],
   "source": []
  },
  {
   "cell_type": "code",
   "execution_count": null,
   "id": "ef36f24f-7706-4322-9581-7af913f32a38",
   "metadata": {},
   "outputs": [],
   "source": []
  },
  {
   "cell_type": "code",
   "execution_count": null,
   "id": "b0d6f61d-5307-4fdc-81ab-1058aacbad62",
   "metadata": {},
   "outputs": [],
   "source": []
  },
  {
   "cell_type": "code",
   "execution_count": null,
   "id": "223cb67e-69c2-4acc-ae27-f0190f2ea8ae",
   "metadata": {},
   "outputs": [],
   "source": []
  },
  {
   "cell_type": "code",
   "execution_count": null,
   "id": "becf1f35-e312-487c-80ea-db944f460bb3",
   "metadata": {},
   "outputs": [],
   "source": []
  }
 ],
 "metadata": {
  "kernelspec": {
   "display_name": "Python 3 (ipykernel)",
   "language": "python",
   "name": "python3"
  },
  "language_info": {
   "codemirror_mode": {
    "name": "ipython",
    "version": 3
   },
   "file_extension": ".py",
   "mimetype": "text/x-python",
   "name": "python",
   "nbconvert_exporter": "python",
   "pygments_lexer": "ipython3",
   "version": "3.7.11"
  }
 },
 "nbformat": 4,
 "nbformat_minor": 5
}
