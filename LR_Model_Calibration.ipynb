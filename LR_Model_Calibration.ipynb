{
 "cells": [
  {
   "cell_type": "code",
   "execution_count": 65,
   "id": "7a6ac09f-4d83-44d2-9ace-376645a72a43",
   "metadata": {},
   "outputs": [],
   "source": [
    "import pandas as pd\n",
    "import numpy as np\n",
    "import seaborn as sns\n",
    "import matplotlib.pyplot as plt\n",
    "import warnings\n",
    "import statsmodels as sm\n",
    "from sklearn.model_selection import train_test_split\n",
    "import statsmodels.formula.api as smf\n",
    "import random\n",
    "from sklearn.metrics import confusion_matrix\n",
    "from sklearn.metrics import *\n",
    "warnings.filterwarnings(\"ignore\")"
   ]
  },
  {
   "cell_type": "code",
   "execution_count": 204,
   "id": "2cd7b2e2-a491-47b0-b33b-6c3c853a54fa",
   "metadata": {},
   "outputs": [
    {
     "data": {
      "text/html": [
       "<div>\n",
       "<style scoped>\n",
       "    .dataframe tbody tr th:only-of-type {\n",
       "        vertical-align: middle;\n",
       "    }\n",
       "\n",
       "    .dataframe tbody tr th {\n",
       "        vertical-align: top;\n",
       "    }\n",
       "\n",
       "    .dataframe thead th {\n",
       "        text-align: right;\n",
       "    }\n",
       "</style>\n",
       "<table border=\"1\" class=\"dataframe\">\n",
       "  <thead>\n",
       "    <tr style=\"text-align: right;\">\n",
       "      <th></th>\n",
       "      <th>Unnamed: 0</th>\n",
       "      <th>ID</th>\n",
       "      <th>KIDSDRIV</th>\n",
       "      <th>BIRTH</th>\n",
       "      <th>AGE</th>\n",
       "      <th>HOMEKIDS</th>\n",
       "      <th>YOJ</th>\n",
       "      <th>INCOME</th>\n",
       "      <th>PARENT1</th>\n",
       "      <th>HOME_VAL</th>\n",
       "      <th>...</th>\n",
       "      <th>RED_CAR</th>\n",
       "      <th>OLDCLAIM</th>\n",
       "      <th>CLM_FREQ</th>\n",
       "      <th>REVOKED</th>\n",
       "      <th>MVR_PTS</th>\n",
       "      <th>CLM_AMT</th>\n",
       "      <th>CAR_AGE</th>\n",
       "      <th>CLAIM_FLAG</th>\n",
       "      <th>URBANICITY</th>\n",
       "      <th>AGE_GROUP</th>\n",
       "    </tr>\n",
       "  </thead>\n",
       "  <tbody>\n",
       "    <tr>\n",
       "      <th>0</th>\n",
       "      <td>0</td>\n",
       "      <td>63581743</td>\n",
       "      <td>0</td>\n",
       "      <td>16MAR39</td>\n",
       "      <td>60.0</td>\n",
       "      <td>0</td>\n",
       "      <td>11.0</td>\n",
       "      <td>67.349</td>\n",
       "      <td>No</td>\n",
       "      <td>0.0</td>\n",
       "      <td>...</td>\n",
       "      <td>yes</td>\n",
       "      <td>4.461</td>\n",
       "      <td>2</td>\n",
       "      <td>No</td>\n",
       "      <td>3</td>\n",
       "      <td>0.0</td>\n",
       "      <td>18.0</td>\n",
       "      <td>0</td>\n",
       "      <td>Highly Urban/ Urban</td>\n",
       "      <td>3.0</td>\n",
       "    </tr>\n",
       "  </tbody>\n",
       "</table>\n",
       "<p>1 rows × 29 columns</p>\n",
       "</div>"
      ],
      "text/plain": [
       "   Unnamed: 0        ID  KIDSDRIV    BIRTH   AGE  HOMEKIDS   YOJ  INCOME  \\\n",
       "0           0  63581743         0  16MAR39  60.0         0  11.0  67.349   \n",
       "\n",
       "  PARENT1  HOME_VAL  ... RED_CAR OLDCLAIM CLM_FREQ REVOKED  MVR_PTS CLM_AMT  \\\n",
       "0      No       0.0  ...     yes    4.461        2      No        3     0.0   \n",
       "\n",
       "   CAR_AGE  CLAIM_FLAG           URBANICITY AGE_GROUP  \n",
       "0     18.0           0  Highly Urban/ Urban       3.0  \n",
       "\n",
       "[1 rows x 29 columns]"
      ]
     },
     "execution_count": 204,
     "metadata": {},
     "output_type": "execute_result"
    }
   ],
   "source": [
    "df = pd.read_csv('./dane/dane_treningowe_testowe.csv')\n",
    "df.head(1)"
   ]
  },
  {
   "cell_type": "code",
   "execution_count": 218,
   "id": "53795d9d-5ae9-40fa-8914-525cc19bb7e4",
   "metadata": {},
   "outputs": [],
   "source": [
    "# standaryzacja\n",
    "#df['INCOME'] = ((df['INCOME'] - df['INCOME'].mean()) / df['INCOME'].std())\n",
    "#df['OLDCLAIM'] = ((df['OLDCLAIM'] - df['OLDCLAIM'].mean()) / df['OLDCLAIM'].std())\n",
    "#df['CAR_AGE'] =( (df['CAR_AGE'] - df['CAR_AGE'].mean()) / df['CAR_AGE'].std())"
   ]
  },
  {
   "cell_type": "code",
   "execution_count": 218,
   "id": "f0eb7f38-3893-470a-bbfa-e21ee3df707f",
   "metadata": {},
   "outputs": [],
   "source": [
    "#min max\n",
    "#df['INCOME'] = (df['INCOME'] - df['INCOME'].min()) /  ( df['INCOME'].max() -  df['INCOME'].min())\n",
    "#df['OLDCLAIM'] = (df['OLDCLAIM'] - df['OLDCLAIM'].min()) /  ( df['OLDCLAIM'].max() -  df['OLDCLAIM'].min())\n",
    "#df['CAR_AGE'] =(df['CAR_AGE'] - df['CAR_AGE'].min()) / ( df['CAR_AGE'].max() -  df['CAR_AGE'].min())"
   ]
  },
  {
   "cell_type": "code",
   "execution_count": 219,
   "id": "7320d721-6f75-416a-bf94-678e6ce3c513",
   "metadata": {},
   "outputs": [],
   "source": [
    "df['Nrow'] = [x for x in range(df.shape[0])] "
   ]
  },
  {
   "cell_type": "code",
   "execution_count": 220,
   "id": "ef131bf4-2430-4a02-9aeb-ee90d2f2f6c0",
   "metadata": {},
   "outputs": [],
   "source": [
    "ids = random.sample(list(df['Nrow'].values),int(.70*df.shape[0]))\n",
    "df_train = df[df['Nrow'].isin(ids)]\n",
    "df_test = df[~df['Nrow'].isin(ids)]"
   ]
  },
  {
   "cell_type": "markdown",
   "id": "3980d84e-c36a-4301-ab9e-8dce79bbdb01",
   "metadata": {},
   "source": [
    "MLE -  Maximum Likelihood Estimation"
   ]
  },
  {
   "cell_type": "code",
   "execution_count": 221,
   "id": "716379f0-d349-4718-9425-d04e67d41a3a",
   "metadata": {},
   "outputs": [
    {
     "name": "stdout",
     "output_type": "stream",
     "text": [
      "Optimization terminated successfully.\n",
      "         Current function value: 0.562838\n",
      "         Iterations 6\n"
     ]
    }
   ],
   "source": [
    "m1 = smf.logit(formula = 'CLAIM_FLAG ~ INCOME+OLDCLAIM+CAR_AGE+AGE_GROUP',data = df_train).fit()"
   ]
  },
  {
   "cell_type": "code",
   "execution_count": 222,
   "id": "c72e33ef-3ca4-4739-9d02-140d99115187",
   "metadata": {},
   "outputs": [
    {
     "name": "stdout",
     "output_type": "stream",
     "text": [
      "                           Logit Regression Results                           \n",
      "==============================================================================\n",
      "Dep. Variable:             CLAIM_FLAG   No. Observations:                 7090\n",
      "Model:                          Logit   Df Residuals:                     7085\n",
      "Method:                           MLE   Df Model:                            4\n",
      "Date:                Fri, 27 May 2022   Pseudo R-squ.:                 0.01364\n",
      "Time:                        15:03:01   Log-Likelihood:                -3990.5\n",
      "converged:                       True   LL-Null:                       -4045.7\n",
      "Covariance Type:            nonrobust   LLR p-value:                 5.994e-23\n",
      "==============================================================================\n"
     ]
    }
   ],
   "source": [
    "print(m1.summary().tables[0])"
   ]
  },
  {
   "cell_type": "code",
   "execution_count": 223,
   "id": "f7d44be6-2ee0-40d3-87cd-85c979f2175b",
   "metadata": {},
   "outputs": [
    {
     "name": "stdout",
     "output_type": "stream",
     "text": [
      "==============================================================================\n",
      "                 coef    std err          z      P>|z|      [0.025      0.975]\n",
      "------------------------------------------------------------------------------\n",
      "Intercept     -0.9070      0.051    -17.686      0.000      -1.008      -0.807\n",
      "INCOME        -0.1979      0.034     -5.737      0.000      -0.265      -0.130\n",
      "OLDCLAIM       0.0671      0.024      2.801      0.005       0.020       0.114\n",
      "CAR_AGE       -0.1189      0.030     -4.003      0.000      -0.177      -0.061\n",
      "AGE_GROUP     -0.1249      0.033     -3.843      0.000      -0.189      -0.061\n",
      "==============================================================================\n"
     ]
    }
   ],
   "source": [
    "print(m1.summary().tables[1])"
   ]
  },
  {
   "cell_type": "code",
   "execution_count": 224,
   "id": "5acbe4d1-98a6-4169-adc3-39e0249430fa",
   "metadata": {},
   "outputs": [],
   "source": [
    "y_pred = m1.predict(df_test)\n",
    "y_pred_kwant = y_pred.copy()"
   ]
  },
  {
   "cell_type": "code",
   "execution_count": 233,
   "id": "dd3bb430-8e3e-4e85-a814-11889ef155ae",
   "metadata": {},
   "outputs": [],
   "source": [
    "p = 0.6\n",
    "y_pred_kwant[y_pred_kwant >= p] = 1\n",
    "y_pred_kwant[y_pred_kwant < p] = 0"
   ]
  },
  {
   "cell_type": "code",
   "execution_count": 234,
   "id": "18671cc0-9b37-4c4d-8fca-4b16990fffae",
   "metadata": {},
   "outputs": [
    {
     "name": "stdout",
     "output_type": "stream",
     "text": [
      "[[2226    8]\n",
      " [ 798    7]]\n"
     ]
    }
   ],
   "source": [
    "print(confusion_matrix(df_test[\"CLAIM_FLAG\"], y_pred_kwant))"
   ]
  },
  {
   "cell_type": "code",
   "execution_count": 235,
   "id": "3c0cc5f2-cc10-4bbb-9a0b-c63c31c58dbe",
   "metadata": {},
   "outputs": [
    {
     "name": "stdout",
     "output_type": "stream",
     "text": [
      "Dokładność wynosi 73.0 %, ale bieda\n",
      "Zbalansowana dokładność wynosi 60.0 %, żenada\n"
     ]
    }
   ],
   "source": [
    "acc = round(accuracy_score(y_pred_kwant, df_test[\"CLAIM_FLAG\"]),2)*100\n",
    "b_acc = round(balanced_accuracy_score(y_pred_kwant,df_test[\"CLAIM_FLAG\"]),2)*100\n",
    "\n",
    "print(f'Dokładność wynosi {acc} %, ale bieda')\n",
    "print(f'Zbalansowana dokładność wynosi {b_acc} %, żenada')"
   ]
  },
  {
   "cell_type": "code",
   "execution_count": 236,
   "id": "6c3ab665-59da-444a-b2b5-8e6729e78801",
   "metadata": {},
   "outputs": [],
   "source": [
    "fpr, tpr, _ = roc_curve(df_test[\"CLAIM_FLAG\"],y_pred)\n",
    "roc_auc = auc(fpr, tpr)"
   ]
  },
  {
   "cell_type": "code",
   "execution_count": 237,
   "id": "ffc7f686-5e54-49a5-9e09-aba63791c84e",
   "metadata": {},
   "outputs": [
    {
     "name": "stderr",
     "output_type": "stream",
     "text": [
      "No handles with labels found to put in legend.\n"
     ]
    },
    {
     "data": {
      "image/png": "[encoded data removed]",
      "text/plain": [
       "<Figure size 432x288 with 1 Axes>"
      ]
     },
     "metadata": {
      "needs_background": "light"
     },
     "output_type": "display_data"
    }
   ],
   "source": [
    "plt.figure()\n",
    "lw = 2\n",
    "plt.plot(\n",
    "    fpr,\n",
    "    tpr,\n",
    "    color=\"orange\")\n",
    "\n",
    "plt.plot([0, 1], [0, 1], color=\"navy\", lw=lw, linestyle=\"--\")\n",
    "plt.xlim([0.0, 1.0])\n",
    "plt.ylim([0.0, 1.05])\n",
    "plt.xlabel(\"False Positive Rate\")\n",
    "plt.ylabel(\"True Positive Rate\")\n",
    "plt.title(\"Receiver operating characteristic example\")\n",
    "plt.legend(loc=\"lower right\")\n",
    "plt.show()"
   ]
  },
  {
   "cell_type": "code",
   "execution_count": 238,
   "id": "1fecc7fb-b2c0-4065-9587-a459fdba144c",
   "metadata": {},
   "outputs": [
    {
     "name": "stdout",
     "output_type": "stream",
     "text": [
      "Dokładność wynosi 26.0 %\n",
      "Dokładność wynosi 27.0 %\n",
      "Dokładność wynosi 36.0 %\n",
      "Dokładność wynosi 68.0 %\n",
      "Dokładność wynosi 73.0 %\n"
     ]
    },
    {
     "data": {
      "image/png": "[encoded data removed]",
      "text/plain": [
       "<Figure size 432x288 with 1 Axes>"
      ]
     },
     "metadata": {
      "needs_background": "light"
     },
     "output_type": "display_data"
    }
   ],
   "source": [
    "accl=[]\n",
    "for i in range(5):\n",
    "    y_pred_kwant = y_pred.copy()\n",
    "    y_pred_kwant[y_pred_kwant >= (i*0.1)] = 1\n",
    "    y_pred_kwant[y_pred_kwant < (i*0.1)] = 0\n",
    "    \n",
    "    acc = round(accuracy_score(y_pred_kwant, df_test[\"CLAIM_FLAG\"]),2)*100\n",
    "    accl.append(acc)\n",
    "    print(f'Dokładność wynosi {acc} %')\n",
    "    \n",
    "plt.plot([*range(5)], accl)\n",
    "plt.show()"
   ]
  },
  {
   "cell_type": "code",
   "execution_count": null,
   "id": "fd68d12b-7c68-4ef4-84de-089f29951f9b",
   "metadata": {},
   "outputs": [],
   "source": []
  },
  {
   "cell_type": "code",
   "execution_count": null,
   "id": "905f7785-11e1-4abd-bd5d-2ee2b4082c43",
   "metadata": {},
   "outputs": [],
   "source": []
  },
  {
   "cell_type": "raw",
   "id": "7bb0b45e-539e-4582-8917-0280510fa1a6",
   "metadata": {},
   "source": []
  },
  {
   "cell_type": "code",
   "execution_count": null,
   "id": "f9402b6f-7e22-418b-8414-fe4914a36105",
   "metadata": {},
   "outputs": [],
   "source": []
  }
 ],
 "metadata": {
  "kernelspec": {
   "display_name": "Python 3 (ipykernel)",
   "language": "python",
   "name": "python3"
  },
  "language_info": {
   "codemirror_mode": {
    "name": "ipython",
    "version": 3
   },
   "file_extension": ".py",
   "mimetype": "text/x-python",
   "name": "python",
   "nbconvert_exporter": "python",
   "pygments_lexer": "ipython3",
   "version": "3.7.11"
  }
 },
 "nbformat": 4,
 "nbformat_minor": 5
}
